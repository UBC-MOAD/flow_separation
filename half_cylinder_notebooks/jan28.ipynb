{
 "metadata": {
  "name": "",
  "signature": "sha256:f5d83d4df5dd4f28137e0f3f23a09eb6cb491d66b7b9d1d7b9327b47022fa4b6"
 },
 "nbformat": 3,
 "nbformat_minor": 0,
 "worksheets": [
  {
   "cells": [
    {
     "cell_type": "markdown",
     "metadata": {},
     "source": [
      "This notebook compares the calculated separation point as a function of grid resolution."
     ]
    },
    {
     "cell_type": "code",
     "collapsed": false,
     "input": [
      "from __future__ import division\n",
      "import sys\n",
      "sys.path.insert(0, '/ocean/rirwin/Half_Cylinder_MITgcm/Resolution_Dependence/analysis/')\n",
      "\n",
      "import cylanalysis as cyl\n",
      "import numpy as np\n",
      "from MITgcmutils import rdmds\n",
      "import matplotlib as mpl\n",
      "import matplotlib.pyplot as plt\n",
      "mpl.rc('text', usetex = True)\n",
      "mpl.rc('font', family = 'serif')\n",
      "\n",
      "import matplotlib.pylab as pylab\n",
      "\n",
      "pylab.rcParams['figure.figsize'] = (10.0, 8.0)\n",
      "\n",
      "%matplotlib inline"
     ],
     "language": "python",
     "metadata": {},
     "outputs": [],
     "prompt_number": 11
    },
    {
     "cell_type": "markdown",
     "metadata": {},
     "source": [
      "Now define each run's directory, and let the cylinder analysis python class do the hard work."
     ]
    },
    {
     "cell_type": "code",
     "collapsed": false,
     "input": [
      "cyl_case = []\n",
      "\n",
      "cyl_case.append(cyl.CylCase('/ocean/rirwin/Half_Cylinder_MITgcm/Resolution_Dependence/Nx128Nz128/'))\n",
      "cyl_case.append(cyl.CylCase('/ocean/rirwin/Half_Cylinder_MITgcm/Resolution_Dependence/Nx256Nz128/'))\n",
      "cyl_case.append(cyl.CylCase('/ocean/rirwin/Half_Cylinder_MITgcm/Resolution_Dependence/Nx256Nz256/'))\n",
      "cyl_case.append(cyl.CylCase('/ocean/rirwin/Half_Cylinder_MITgcm/Resolution_Dependence/Nx512Nz256/'))\n",
      "cyl_case.append(cyl.CylCase('/ocean/rirwin/Half_Cylinder_MITgcm/Resolution_Dependence/Nx512Nz512/'))"
     ],
     "language": "python",
     "metadata": {},
     "outputs": [
      {
       "output_type": "stream",
       "stream": "stderr",
       "text": [
        "/ocean/rirwin/Half_Cylinder_MITgcm/Resolution_Dependence/Nx128Nz128/XC.001.001.meta\n",
        "/ocean/rirwin/Half_Cylinder_MITgcm/Resolution_Dependence/Nx128Nz128/RC.meta\n",
        "/ocean/rirwin/Half_Cylinder_MITgcm/Resolution_Dependence/Nx128Nz128/XG.001.001.meta\n",
        "/ocean/rirwin/Half_Cylinder_MITgcm/Resolution_Dependence/Nx128Nz128/RF.meta\n",
        "/ocean/rirwin/Half_Cylinder_MITgcm/Resolution_Dependence/Nx128Nz128/hFacC.001.001.meta\n",
        "/ocean/rirwin/Half_Cylinder_MITgcm/Resolution_Dependence/Nx128Nz128/hFacW.001.001.meta\n",
        "/ocean/rirwin/Half_Cylinder_MITgcm/Resolution_Dependence/Nx128Nz128/Depth.001.001.meta\n",
        "/ocean/rirwin/Half_Cylinder_MITgcm/Resolution_Dependence/Nx256Nz128/XC.001.001.meta\n"
       ]
      },
      {
       "output_type": "stream",
       "stream": "stderr",
       "text": [
        "/ocean/rirwin/Half_Cylinder_MITgcm/Resolution_Dependence/Nx256Nz128/RC.meta\n",
        "/ocean/rirwin/Half_Cylinder_MITgcm/Resolution_Dependence/Nx256Nz128/XG.001.001.meta\n",
        "/ocean/rirwin/Half_Cylinder_MITgcm/Resolution_Dependence/Nx256Nz128/RF.meta\n",
        "/ocean/rirwin/Half_Cylinder_MITgcm/Resolution_Dependence/Nx256Nz128/hFacC.001.001.meta\n",
        "/ocean/rirwin/Half_Cylinder_MITgcm/Resolution_Dependence/Nx256Nz128/hFacW.001.001.meta\n",
        "/ocean/rirwin/Half_Cylinder_MITgcm/Resolution_Dependence/Nx256Nz128/Depth.001.001.meta\n",
        "/ocean/rirwin/Half_Cylinder_MITgcm/Resolution_Dependence/Nx256Nz256/XC.001.001.meta\n"
       ]
      },
      {
       "output_type": "stream",
       "stream": "stderr",
       "text": [
        "/ocean/rirwin/Half_Cylinder_MITgcm/Resolution_Dependence/Nx256Nz256/RC.meta\n",
        "/ocean/rirwin/Half_Cylinder_MITgcm/Resolution_Dependence/Nx256Nz256/XG.001.001.meta\n",
        "/ocean/rirwin/Half_Cylinder_MITgcm/Resolution_Dependence/Nx256Nz256/RF.meta\n",
        "/ocean/rirwin/Half_Cylinder_MITgcm/Resolution_Dependence/Nx256Nz256/hFacC.001.001.meta\n",
        "/ocean/rirwin/Half_Cylinder_MITgcm/Resolution_Dependence/Nx256Nz256/hFacW.001.001.meta\n",
        "/ocean/rirwin/Half_Cylinder_MITgcm/Resolution_Dependence/Nx256Nz256/Depth.001.001.meta\n",
        "/ocean/rirwin/Half_Cylinder_MITgcm/Resolution_Dependence/Nx512Nz256/XC.001.001.meta\n"
       ]
      },
      {
       "output_type": "stream",
       "stream": "stderr",
       "text": [
        "/ocean/rirwin/Half_Cylinder_MITgcm/Resolution_Dependence/Nx512Nz256/RC.meta\n",
        "/ocean/rirwin/Half_Cylinder_MITgcm/Resolution_Dependence/Nx512Nz256/XG.001.001.meta\n",
        "/ocean/rirwin/Half_Cylinder_MITgcm/Resolution_Dependence/Nx512Nz256/RF.meta\n",
        "/ocean/rirwin/Half_Cylinder_MITgcm/Resolution_Dependence/Nx512Nz256/hFacC.001.001.meta\n",
        "/ocean/rirwin/Half_Cylinder_MITgcm/Resolution_Dependence/Nx512Nz256/hFacW.001.001.meta\n",
        "/ocean/rirwin/Half_Cylinder_MITgcm/Resolution_Dependence/Nx512Nz256/Depth.001.001.meta\n",
        "/ocean/rirwin/Half_Cylinder_MITgcm/Resolution_Dependence/Nx512Nz512/XC.008.001.meta\n"
       ]
      },
      {
       "output_type": "stream",
       "stream": "stderr",
       "text": [
        "/ocean/rirwin/Half_Cylinder_MITgcm/Resolution_Dependence/Nx512Nz512/RC.meta\n",
        "/ocean/rirwin/Half_Cylinder_MITgcm/Resolution_Dependence/Nx512Nz512/XG.007.001.meta\n",
        "/ocean/rirwin/Half_Cylinder_MITgcm/Resolution_Dependence/Nx512Nz512/RF.meta\n",
        "/ocean/rirwin/Half_Cylinder_MITgcm/Resolution_Dependence/Nx512Nz512/hFacC.005.001.meta\n",
        "/ocean/rirwin/Half_Cylinder_MITgcm/Resolution_Dependence/Nx512Nz512/hFacW.007.001.meta\n"
       ]
      },
      {
       "output_type": "stream",
       "stream": "stderr",
       "text": [
        "/ocean/rirwin/Half_Cylinder_MITgcm/Resolution_Dependence/Nx512Nz512/Depth.004.001.meta\n"
       ]
      }
     ],
     "prompt_number": 2
    },
    {
     "cell_type": "markdown",
     "metadata": {},
     "source": [
      "Now the separation points must be calculated as a function of time for each cylinder."
     ]
    },
    {
     "cell_type": "code",
     "collapsed": false,
     "input": [
      "dout = np.zeros(5)\n",
      "max_out = np.zeros(5)\n",
      "\n",
      "dout[0] = 2000\n",
      "dout[1] = 2000\n",
      "dout[2] = 2000\n",
      "dout[3] = 2000\n",
      "dout[4] = 4000\n",
      "\n",
      "max_out[0] = 100000\n",
      "max_out[1] = 100000\n",
      "max_out[2] = 94000\n",
      "max_out[3] = 46000\n",
      "max_out[4] = 36000\n",
      "\n",
      "id_str = []\n",
      "id_str.append(r'$128\\times 128$')\n",
      "id_str.append(r'$256\\times 128$')\n",
      "id_str.append(r'$256\\times 256$')\n",
      "id_str.append(r'$512\\times 256$')\n",
      "id_str.append(r'$512\\times 512$')"
     ],
     "language": "python",
     "metadata": {},
     "outputs": [],
     "prompt_number": 3
    },
    {
     "cell_type": "markdown",
     "metadata": {},
     "source": [
      "Now loop through available outputs and find the separation points."
     ]
    },
    {
     "cell_type": "code",
     "collapsed": false,
     "input": [
      "all_sep_pts = []\n",
      "for jj in range(0,5):\n",
      "    sep_pts = []\n",
      "    for ii in range(0,int(max_out[0]/dout[0])+1):\n",
      "        if ii*dout[jj] <= max_out[jj]:\n",
      "            thet_tmp,dudz_tmp = cyl_case[jj].get_dudz(dout[jj]*ii)\n",
      "            sep_pts.append([ii*dout[jj],cyl_case[jj].find_zero(thet_tmp,dudz_tmp)])\n",
      "    all_sep_pts.append(sep_pts)"
     ],
     "language": "python",
     "metadata": {},
     "outputs": [
      {
       "output_type": "stream",
       "stream": "stderr",
       "text": [
        "/ocean/rirwin/Half_Cylinder_MITgcm/Resolution_Dependence/Nx128Nz128/U.0000000000.001.001.meta\n",
        "/ocean/rirwin/Half_Cylinder_MITgcm/Resolution_Dependence/Nx128Nz128/W.0000000000.001.001.meta\n",
        "/ocean/rirwin/Half_Cylinder_MITgcm/Resolution_Dependence/Nx128Nz128/U.0000002000.001.001.meta\n",
        "/ocean/rirwin/Half_Cylinder_MITgcm/Resolution_Dependence/Nx128Nz128/W.0000002000.001.001.meta\n",
        "/ocean/rirwin/Half_Cylinder_MITgcm/Resolution_Dependence/Nx128Nz128/U.0000004000.001.001.meta\n",
        "/ocean/rirwin/Half_Cylinder_MITgcm/Resolution_Dependence/Nx128Nz128/W.0000004000.001.001.meta\n",
        "/ocean/rirwin/Half_Cylinder_MITgcm/Resolution_Dependence/Nx128Nz128/U.0000006000.001.001.meta\n",
        "/ocean/rirwin/Half_Cylinder_MITgcm/Resolution_Dependence/Nx128Nz128/W.0000006000.001.001.meta\n",
        "/ocean/rirwin/Half_Cylinder_MITgcm/Resolution_Dependence/Nx128Nz128/U.0000008000.001.001.meta\n"
       ]
      },
      {
       "output_type": "stream",
       "stream": "stdout",
       "text": [
        "Found zero!\n",
        "Found zero!\n",
        "Found zero!\n",
        "Found zero!\n",
        "Found zero!"
       ]
      },
      {
       "output_type": "stream",
       "stream": "stderr",
       "text": [
        "/ocean/rirwin/Half_Cylinder_MITgcm/Resolution_Dependence/Nx128Nz128/W.0000008000.001.001.meta\n",
        "/ocean/rirwin/Half_Cylinder_MITgcm/Resolution_Dependence/Nx128Nz128/U.0000010000.001.001.meta\n",
        "/ocean/rirwin/Half_Cylinder_MITgcm/Resolution_Dependence/Nx128Nz128/W.0000010000.001.001.meta\n",
        "/ocean/rirwin/Half_Cylinder_MITgcm/Resolution_Dependence/Nx128Nz128/U.0000012000.001.001.meta\n",
        "/ocean/rirwin/Half_Cylinder_MITgcm/Resolution_Dependence/Nx128Nz128/W.0000012000.001.001.meta\n",
        "/ocean/rirwin/Half_Cylinder_MITgcm/Resolution_Dependence/Nx128Nz128/U.0000014000.001.001.meta\n",
        "/ocean/rirwin/Half_Cylinder_MITgcm/Resolution_Dependence/Nx128Nz128/W.0000014000.001.001.meta\n",
        "/ocean/rirwin/Half_Cylinder_MITgcm/Resolution_Dependence/Nx128Nz128/U.0000016000.001.001.meta\n"
       ]
      },
      {
       "output_type": "stream",
       "stream": "stdout",
       "text": [
        "\n",
        "Found zero!\n",
        "Found zero!\n",
        "Found zero!\n",
        "Found zero!"
       ]
      },
      {
       "output_type": "stream",
       "stream": "stderr",
       "text": [
        "/ocean/rirwin/Half_Cylinder_MITgcm/Resolution_Dependence/Nx128Nz128/W.0000016000.001.001.meta\n",
        "/ocean/rirwin/Half_Cylinder_MITgcm/Resolution_Dependence/Nx128Nz128/U.0000018000.001.001.meta\n",
        "/ocean/rirwin/Half_Cylinder_MITgcm/Resolution_Dependence/Nx128Nz128/W.0000018000.001.001.meta\n",
        "/ocean/rirwin/Half_Cylinder_MITgcm/Resolution_Dependence/Nx128Nz128/U.0000020000.001.001.meta\n",
        "/ocean/rirwin/Half_Cylinder_MITgcm/Resolution_Dependence/Nx128Nz128/W.0000020000.001.001.meta\n",
        "/ocean/rirwin/Half_Cylinder_MITgcm/Resolution_Dependence/Nx128Nz128/U.0000022000.001.001.meta\n",
        "/ocean/rirwin/Half_Cylinder_MITgcm/Resolution_Dependence/Nx128Nz128/W.0000022000.001.001.meta\n",
        "/ocean/rirwin/Half_Cylinder_MITgcm/Resolution_Dependence/Nx128Nz128/U.0000024000.001.001.meta\n",
        "/ocean/rirwin/Half_Cylinder_MITgcm/Resolution_Dependence/Nx128Nz128/W.0000024000.001.001.meta\n"
       ]
      },
      {
       "output_type": "stream",
       "stream": "stdout",
       "text": [
        "\n",
        "Found zero!\n",
        "Found zero!\n",
        "Found zero!\n",
        "Found zero!"
       ]
      },
      {
       "output_type": "stream",
       "stream": "stderr",
       "text": [
        "/ocean/rirwin/Half_Cylinder_MITgcm/Resolution_Dependence/Nx128Nz128/U.0000026000.001.001.meta\n",
        "/ocean/rirwin/Half_Cylinder_MITgcm/Resolution_Dependence/Nx128Nz128/W.0000026000.001.001.meta\n",
        "/ocean/rirwin/Half_Cylinder_MITgcm/Resolution_Dependence/Nx128Nz128/U.0000028000.001.001.meta\n",
        "/ocean/rirwin/Half_Cylinder_MITgcm/Resolution_Dependence/Nx128Nz128/W.0000028000.001.001.meta\n",
        "/ocean/rirwin/Half_Cylinder_MITgcm/Resolution_Dependence/Nx128Nz128/U.0000030000.001.001.meta\n",
        "/ocean/rirwin/Half_Cylinder_MITgcm/Resolution_Dependence/Nx128Nz128/W.0000030000.001.001.meta\n",
        "/ocean/rirwin/Half_Cylinder_MITgcm/Resolution_Dependence/Nx128Nz128/U.0000032000.001.001.meta\n",
        "/ocean/rirwin/Half_Cylinder_MITgcm/Resolution_Dependence/Nx128Nz128/W.0000032000.001.001.meta\n",
        "/ocean/rirwin/Half_Cylinder_MITgcm/Resolution_Dependence/Nx128Nz128/U.0000034000.001.001.meta\n"
       ]
      },
      {
       "output_type": "stream",
       "stream": "stdout",
       "text": [
        "\n",
        "Found zero!\n",
        "Found zero!\n",
        "Found zero!\n",
        "Found zero!"
       ]
      },
      {
       "output_type": "stream",
       "stream": "stderr",
       "text": [
        "/ocean/rirwin/Half_Cylinder_MITgcm/Resolution_Dependence/Nx128Nz128/W.0000034000.001.001.meta\n",
        "/ocean/rirwin/Half_Cylinder_MITgcm/Resolution_Dependence/Nx128Nz128/U.0000036000.001.001.meta\n",
        "/ocean/rirwin/Half_Cylinder_MITgcm/Resolution_Dependence/Nx128Nz128/W.0000036000.001.001.meta\n",
        "/ocean/rirwin/Half_Cylinder_MITgcm/Resolution_Dependence/Nx128Nz128/U.0000038000.001.001.meta\n",
        "/ocean/rirwin/Half_Cylinder_MITgcm/Resolution_Dependence/Nx128Nz128/W.0000038000.001.001.meta\n",
        "/ocean/rirwin/Half_Cylinder_MITgcm/Resolution_Dependence/Nx128Nz128/U.0000040000.001.001.meta\n",
        "/ocean/rirwin/Half_Cylinder_MITgcm/Resolution_Dependence/Nx128Nz128/W.0000040000.001.001.meta\n",
        "/ocean/rirwin/Half_Cylinder_MITgcm/Resolution_Dependence/Nx128Nz128/U.0000042000.001.001.meta\n",
        "/ocean/rirwin/Half_Cylinder_MITgcm/Resolution_Dependence/Nx128Nz128/W.0000042000.001.001.meta\n"
       ]
      },
      {
       "output_type": "stream",
       "stream": "stdout",
       "text": [
        "\n",
        "Found zero!\n",
        "Found zero!\n",
        "Found zero!\n",
        "Found zero!"
       ]
      },
      {
       "output_type": "stream",
       "stream": "stderr",
       "text": [
        "/ocean/rirwin/Half_Cylinder_MITgcm/Resolution_Dependence/Nx128Nz128/U.0000044000.001.001.meta\n",
        "/ocean/rirwin/Half_Cylinder_MITgcm/Resolution_Dependence/Nx128Nz128/W.0000044000.001.001.meta\n",
        "/ocean/rirwin/Half_Cylinder_MITgcm/Resolution_Dependence/Nx128Nz128/U.0000046000.001.001.meta\n",
        "/ocean/rirwin/Half_Cylinder_MITgcm/Resolution_Dependence/Nx128Nz128/W.0000046000.001.001.meta\n",
        "/ocean/rirwin/Half_Cylinder_MITgcm/Resolution_Dependence/Nx128Nz128/U.0000048000.001.001.meta\n",
        "/ocean/rirwin/Half_Cylinder_MITgcm/Resolution_Dependence/Nx128Nz128/W.0000048000.001.001.meta\n",
        "/ocean/rirwin/Half_Cylinder_MITgcm/Resolution_Dependence/Nx128Nz128/U.0000050000.001.001.meta\n",
        "/ocean/rirwin/Half_Cylinder_MITgcm/Resolution_Dependence/Nx128Nz128/W.0000050000.001.001.meta\n",
        "/ocean/rirwin/Half_Cylinder_MITgcm/Resolution_Dependence/Nx128Nz128/U.0000052000.001.001.meta\n"
       ]
      },
      {
       "output_type": "stream",
       "stream": "stdout",
       "text": [
        "\n",
        "Found zero!\n",
        "Found zero!\n",
        "Found zero!\n",
        "Found zero!"
       ]
      },
      {
       "output_type": "stream",
       "stream": "stderr",
       "text": [
        "/ocean/rirwin/Half_Cylinder_MITgcm/Resolution_Dependence/Nx128Nz128/W.0000052000.001.001.meta\n",
        "/ocean/rirwin/Half_Cylinder_MITgcm/Resolution_Dependence/Nx128Nz128/U.0000054000.001.001.meta\n",
        "/ocean/rirwin/Half_Cylinder_MITgcm/Resolution_Dependence/Nx128Nz128/W.0000054000.001.001.meta\n",
        "/ocean/rirwin/Half_Cylinder_MITgcm/Resolution_Dependence/Nx128Nz128/U.0000056000.001.001.meta\n",
        "/ocean/rirwin/Half_Cylinder_MITgcm/Resolution_Dependence/Nx128Nz128/W.0000056000.001.001.meta\n",
        "/ocean/rirwin/Half_Cylinder_MITgcm/Resolution_Dependence/Nx128Nz128/U.0000058000.001.001.meta\n",
        "/ocean/rirwin/Half_Cylinder_MITgcm/Resolution_Dependence/Nx128Nz128/W.0000058000.001.001.meta\n",
        "/ocean/rirwin/Half_Cylinder_MITgcm/Resolution_Dependence/Nx128Nz128/U.0000060000.001.001.meta\n",
        "/ocean/rirwin/Half_Cylinder_MITgcm/Resolution_Dependence/Nx128Nz128/W.0000060000.001.001.meta\n"
       ]
      },
      {
       "output_type": "stream",
       "stream": "stdout",
       "text": [
        "\n",
        "Found zero!\n",
        "Found zero!\n",
        "Found zero!\n",
        "Found zero!"
       ]
      },
      {
       "output_type": "stream",
       "stream": "stdout",
       "text": [
        "\n",
        "Found zero!\n",
        "Found zero!\n",
        "Found zero!\n",
        "Found zero!"
       ]
      },
      {
       "output_type": "stream",
       "stream": "stderr",
       "text": [
        "/ocean/rirwin/Half_Cylinder_MITgcm/Resolution_Dependence/Nx128Nz128/U.0000062000.001.001.meta\n",
        "/ocean/rirwin/Half_Cylinder_MITgcm/Resolution_Dependence/Nx128Nz128/W.0000062000.001.001.meta\n",
        "/ocean/rirwin/Half_Cylinder_MITgcm/Resolution_Dependence/Nx128Nz128/U.0000064000.001.001.meta\n",
        "/ocean/rirwin/Half_Cylinder_MITgcm/Resolution_Dependence/Nx128Nz128/W.0000064000.001.001.meta\n",
        "/ocean/rirwin/Half_Cylinder_MITgcm/Resolution_Dependence/Nx128Nz128/U.0000066000.001.001.meta\n",
        "/ocean/rirwin/Half_Cylinder_MITgcm/Resolution_Dependence/Nx128Nz128/W.0000066000.001.001.meta\n",
        "/ocean/rirwin/Half_Cylinder_MITgcm/Resolution_Dependence/Nx128Nz128/U.0000068000.001.001.meta\n",
        "/ocean/rirwin/Half_Cylinder_MITgcm/Resolution_Dependence/Nx128Nz128/W.0000068000.001.001.meta\n",
        "/ocean/rirwin/Half_Cylinder_MITgcm/Resolution_Dependence/Nx128Nz128/U.0000070000.001.001.meta\n"
       ]
      },
      {
       "output_type": "stream",
       "stream": "stdout",
       "text": [
        "\n",
        "Found zero!\n",
        "Found zero!\n",
        "Found zero!\n",
        "Found zero!"
       ]
      },
      {
       "output_type": "stream",
       "stream": "stderr",
       "text": [
        "/ocean/rirwin/Half_Cylinder_MITgcm/Resolution_Dependence/Nx128Nz128/W.0000070000.001.001.meta\n",
        "/ocean/rirwin/Half_Cylinder_MITgcm/Resolution_Dependence/Nx128Nz128/U.0000072000.001.001.meta\n",
        "/ocean/rirwin/Half_Cylinder_MITgcm/Resolution_Dependence/Nx128Nz128/W.0000072000.001.001.meta\n",
        "/ocean/rirwin/Half_Cylinder_MITgcm/Resolution_Dependence/Nx128Nz128/U.0000074000.001.001.meta\n",
        "/ocean/rirwin/Half_Cylinder_MITgcm/Resolution_Dependence/Nx128Nz128/W.0000074000.001.001.meta\n",
        "/ocean/rirwin/Half_Cylinder_MITgcm/Resolution_Dependence/Nx128Nz128/U.0000076000.001.001.meta\n",
        "/ocean/rirwin/Half_Cylinder_MITgcm/Resolution_Dependence/Nx128Nz128/W.0000076000.001.001.meta\n",
        "/ocean/rirwin/Half_Cylinder_MITgcm/Resolution_Dependence/Nx128Nz128/U.0000078000.001.001.meta\n",
        "/ocean/rirwin/Half_Cylinder_MITgcm/Resolution_Dependence/Nx128Nz128/W.0000078000.001.001.meta\n"
       ]
      },
      {
       "output_type": "stream",
       "stream": "stdout",
       "text": [
        "\n",
        "Found zero!\n",
        "Found zero!\n",
        "Found zero!\n",
        "Found zero!"
       ]
      },
      {
       "output_type": "stream",
       "stream": "stderr",
       "text": [
        "/ocean/rirwin/Half_Cylinder_MITgcm/Resolution_Dependence/Nx128Nz128/U.0000080000.001.001.meta\n",
        "/ocean/rirwin/Half_Cylinder_MITgcm/Resolution_Dependence/Nx128Nz128/W.0000080000.001.001.meta\n",
        "/ocean/rirwin/Half_Cylinder_MITgcm/Resolution_Dependence/Nx128Nz128/U.0000082000.001.001.meta\n",
        "/ocean/rirwin/Half_Cylinder_MITgcm/Resolution_Dependence/Nx128Nz128/W.0000082000.001.001.meta\n",
        "/ocean/rirwin/Half_Cylinder_MITgcm/Resolution_Dependence/Nx128Nz128/U.0000084000.001.001.meta\n",
        "/ocean/rirwin/Half_Cylinder_MITgcm/Resolution_Dependence/Nx128Nz128/W.0000084000.001.001.meta\n",
        "/ocean/rirwin/Half_Cylinder_MITgcm/Resolution_Dependence/Nx128Nz128/U.0000086000.001.001.meta\n",
        "/ocean/rirwin/Half_Cylinder_MITgcm/Resolution_Dependence/Nx128Nz128/W.0000086000.001.001.meta\n"
       ]
      },
      {
       "output_type": "stream",
       "stream": "stdout",
       "text": [
        "\n",
        "Found zero!\n",
        "Found zero!\n",
        "Found zero!\n",
        "Found zero!"
       ]
      },
      {
       "output_type": "stream",
       "stream": "stderr",
       "text": [
        "/ocean/rirwin/Half_Cylinder_MITgcm/Resolution_Dependence/Nx128Nz128/U.0000088000.001.001.meta\n",
        "/ocean/rirwin/Half_Cylinder_MITgcm/Resolution_Dependence/Nx128Nz128/W.0000088000.001.001.meta\n",
        "/ocean/rirwin/Half_Cylinder_MITgcm/Resolution_Dependence/Nx128Nz128/U.0000090000.001.001.meta\n",
        "/ocean/rirwin/Half_Cylinder_MITgcm/Resolution_Dependence/Nx128Nz128/W.0000090000.001.001.meta\n",
        "/ocean/rirwin/Half_Cylinder_MITgcm/Resolution_Dependence/Nx128Nz128/U.0000092000.001.001.meta\n",
        "/ocean/rirwin/Half_Cylinder_MITgcm/Resolution_Dependence/Nx128Nz128/W.0000092000.001.001.meta\n",
        "/ocean/rirwin/Half_Cylinder_MITgcm/Resolution_Dependence/Nx128Nz128/U.0000094000.001.001.meta\n",
        "/ocean/rirwin/Half_Cylinder_MITgcm/Resolution_Dependence/Nx128Nz128/W.0000094000.001.001.meta\n",
        "/ocean/rirwin/Half_Cylinder_MITgcm/Resolution_Dependence/Nx128Nz128/U.0000096000.001.001.meta\n"
       ]
      },
      {
       "output_type": "stream",
       "stream": "stdout",
       "text": [
        "\n",
        "Found zero!\n",
        "Found zero!\n",
        "Found zero!\n",
        "Found zero!"
       ]
      },
      {
       "output_type": "stream",
       "stream": "stderr",
       "text": [
        "/ocean/rirwin/Half_Cylinder_MITgcm/Resolution_Dependence/Nx128Nz128/W.0000096000.001.001.meta\n",
        "/ocean/rirwin/Half_Cylinder_MITgcm/Resolution_Dependence/Nx128Nz128/U.0000098000.001.001.meta\n",
        "/ocean/rirwin/Half_Cylinder_MITgcm/Resolution_Dependence/Nx128Nz128/W.0000098000.001.001.meta\n",
        "/ocean/rirwin/Half_Cylinder_MITgcm/Resolution_Dependence/Nx128Nz128/U.0000100000.001.001.meta\n",
        "/ocean/rirwin/Half_Cylinder_MITgcm/Resolution_Dependence/Nx128Nz128/W.0000100000.001.001.meta\n",
        "/ocean/rirwin/Half_Cylinder_MITgcm/Resolution_Dependence/Nx256Nz128/U.0000000000.001.001.meta\n",
        "/ocean/rirwin/Half_Cylinder_MITgcm/Resolution_Dependence/Nx256Nz128/W.0000000000.001.001.meta\n",
        "/ocean/rirwin/Half_Cylinder_MITgcm/Resolution_Dependence/Nx256Nz128/U.0000002000.001.001.meta\n",
        "/ocean/rirwin/Half_Cylinder_MITgcm/Resolution_Dependence/Nx256Nz128/W.0000002000.001.001.meta\n"
       ]
      },
      {
       "output_type": "stream",
       "stream": "stdout",
       "text": [
        "\n",
        "Found zero!\n",
        "Found zero!"
       ]
      },
      {
       "output_type": "stream",
       "stream": "stderr",
       "text": [
        "/ocean/rirwin/Half_Cylinder_MITgcm/Resolution_Dependence/Nx256Nz128/U.0000004000.001.001.meta\n",
        "/ocean/rirwin/Half_Cylinder_MITgcm/Resolution_Dependence/Nx256Nz128/W.0000004000.001.001.meta\n",
        "/ocean/rirwin/Half_Cylinder_MITgcm/Resolution_Dependence/Nx256Nz128/U.0000006000.001.001.meta\n",
        "/ocean/rirwin/Half_Cylinder_MITgcm/Resolution_Dependence/Nx256Nz128/W.0000006000.001.001.meta\n",
        "/ocean/rirwin/Half_Cylinder_MITgcm/Resolution_Dependence/Nx256Nz128/U.0000008000.001.001.meta\n",
        "/ocean/rirwin/Half_Cylinder_MITgcm/Resolution_Dependence/Nx256Nz128/W.0000008000.001.001.meta\n",
        "/ocean/rirwin/Half_Cylinder_MITgcm/Resolution_Dependence/Nx256Nz128/U.0000010000.001.001.meta\n",
        "/ocean/rirwin/Half_Cylinder_MITgcm/Resolution_Dependence/Nx256Nz128/W.0000010000.001.001.meta\n",
        "/ocean/rirwin/Half_Cylinder_MITgcm/Resolution_Dependence/Nx256Nz128/U.0000012000.001.001.meta\n"
       ]
      },
      {
       "output_type": "stream",
       "stream": "stdout",
       "text": [
        "\n",
        "Found zero!\n",
        "Found zero!\n",
        "Found zero!\n",
        "Found zero!"
       ]
      },
      {
       "output_type": "stream",
       "stream": "stderr",
       "text": [
        "/ocean/rirwin/Half_Cylinder_MITgcm/Resolution_Dependence/Nx256Nz128/W.0000012000.001.001.meta\n",
        "/ocean/rirwin/Half_Cylinder_MITgcm/Resolution_Dependence/Nx256Nz128/U.0000014000.001.001.meta\n",
        "/ocean/rirwin/Half_Cylinder_MITgcm/Resolution_Dependence/Nx256Nz128/W.0000014000.001.001.meta\n",
        "/ocean/rirwin/Half_Cylinder_MITgcm/Resolution_Dependence/Nx256Nz128/U.0000016000.001.001.meta\n",
        "/ocean/rirwin/Half_Cylinder_MITgcm/Resolution_Dependence/Nx256Nz128/W.0000016000.001.001.meta\n",
        "/ocean/rirwin/Half_Cylinder_MITgcm/Resolution_Dependence/Nx256Nz128/U.0000018000.001.001.meta\n",
        "/ocean/rirwin/Half_Cylinder_MITgcm/Resolution_Dependence/Nx256Nz128/W.0000018000.001.001.meta\n",
        "/ocean/rirwin/Half_Cylinder_MITgcm/Resolution_Dependence/Nx256Nz128/U.0000020000.001.001.meta\n",
        "/ocean/rirwin/Half_Cylinder_MITgcm/Resolution_Dependence/Nx256Nz128/W.0000020000.001.001.meta\n"
       ]
      },
      {
       "output_type": "stream",
       "stream": "stdout",
       "text": [
        "\n",
        "Found zero!\n",
        "Found zero!\n",
        "Found zero!\n",
        "Found zero!"
       ]
      },
      {
       "output_type": "stream",
       "stream": "stderr",
       "text": [
        "/ocean/rirwin/Half_Cylinder_MITgcm/Resolution_Dependence/Nx256Nz128/U.0000022000.001.001.meta\n",
        "/ocean/rirwin/Half_Cylinder_MITgcm/Resolution_Dependence/Nx256Nz128/W.0000022000.001.001.meta\n",
        "/ocean/rirwin/Half_Cylinder_MITgcm/Resolution_Dependence/Nx256Nz128/U.0000024000.001.001.meta\n",
        "/ocean/rirwin/Half_Cylinder_MITgcm/Resolution_Dependence/Nx256Nz128/W.0000024000.001.001.meta\n",
        "/ocean/rirwin/Half_Cylinder_MITgcm/Resolution_Dependence/Nx256Nz128/U.0000026000.001.001.meta\n",
        "/ocean/rirwin/Half_Cylinder_MITgcm/Resolution_Dependence/Nx256Nz128/W.0000026000.001.001.meta\n",
        "/ocean/rirwin/Half_Cylinder_MITgcm/Resolution_Dependence/Nx256Nz128/U.0000028000.001.001.meta\n",
        "/ocean/rirwin/Half_Cylinder_MITgcm/Resolution_Dependence/Nx256Nz128/W.0000028000.001.001.meta\n",
        "/ocean/rirwin/Half_Cylinder_MITgcm/Resolution_Dependence/Nx256Nz128/U.0000030000.001.001.meta\n"
       ]
      },
      {
       "output_type": "stream",
       "stream": "stdout",
       "text": [
        "\n",
        "Found zero!\n",
        "Found zero!\n",
        "Found zero!\n",
        "Found zero!"
       ]
      },
      {
       "output_type": "stream",
       "stream": "stderr",
       "text": [
        "/ocean/rirwin/Half_Cylinder_MITgcm/Resolution_Dependence/Nx256Nz128/W.0000030000.001.001.meta\n",
        "/ocean/rirwin/Half_Cylinder_MITgcm/Resolution_Dependence/Nx256Nz128/U.0000032000.001.001.meta\n",
        "/ocean/rirwin/Half_Cylinder_MITgcm/Resolution_Dependence/Nx256Nz128/W.0000032000.001.001.meta\n",
        "/ocean/rirwin/Half_Cylinder_MITgcm/Resolution_Dependence/Nx256Nz128/U.0000034000.001.001.meta\n",
        "/ocean/rirwin/Half_Cylinder_MITgcm/Resolution_Dependence/Nx256Nz128/W.0000034000.001.001.meta\n",
        "/ocean/rirwin/Half_Cylinder_MITgcm/Resolution_Dependence/Nx256Nz128/U.0000036000.001.001.meta\n",
        "/ocean/rirwin/Half_Cylinder_MITgcm/Resolution_Dependence/Nx256Nz128/W.0000036000.001.001.meta\n",
        "/ocean/rirwin/Half_Cylinder_MITgcm/Resolution_Dependence/Nx256Nz128/U.0000038000.001.001.meta\n"
       ]
      },
      {
       "output_type": "stream",
       "stream": "stdout",
       "text": [
        "\n",
        "Found zero!\n",
        "Found zero!\n",
        "Found zero!\n",
        "Found zero!"
       ]
      },
      {
       "output_type": "stream",
       "stream": "stderr",
       "text": [
        "/ocean/rirwin/Half_Cylinder_MITgcm/Resolution_Dependence/Nx256Nz128/W.0000038000.001.001.meta\n",
        "/ocean/rirwin/Half_Cylinder_MITgcm/Resolution_Dependence/Nx256Nz128/U.0000040000.001.001.meta\n",
        "/ocean/rirwin/Half_Cylinder_MITgcm/Resolution_Dependence/Nx256Nz128/W.0000040000.001.001.meta\n",
        "/ocean/rirwin/Half_Cylinder_MITgcm/Resolution_Dependence/Nx256Nz128/U.0000042000.001.001.meta\n",
        "/ocean/rirwin/Half_Cylinder_MITgcm/Resolution_Dependence/Nx256Nz128/W.0000042000.001.001.meta\n",
        "/ocean/rirwin/Half_Cylinder_MITgcm/Resolution_Dependence/Nx256Nz128/U.0000044000.001.001.meta\n",
        "/ocean/rirwin/Half_Cylinder_MITgcm/Resolution_Dependence/Nx256Nz128/W.0000044000.001.001.meta\n",
        "/ocean/rirwin/Half_Cylinder_MITgcm/Resolution_Dependence/Nx256Nz128/U.0000046000.001.001.meta\n",
        "/ocean/rirwin/Half_Cylinder_MITgcm/Resolution_Dependence/Nx256Nz128/W.0000046000.001.001.meta\n"
       ]
      },
      {
       "output_type": "stream",
       "stream": "stdout",
       "text": [
        "\n",
        "Found zero!\n",
        "Found zero!\n",
        "Found zero!\n",
        "Found zero!"
       ]
      },
      {
       "output_type": "stream",
       "stream": "stdout",
       "text": [
        "\n",
        "Found zero!\n",
        "Found zero!\n",
        "Found zero!\n",
        "Found zero!"
       ]
      },
      {
       "output_type": "stream",
       "stream": "stderr",
       "text": [
        "/ocean/rirwin/Half_Cylinder_MITgcm/Resolution_Dependence/Nx256Nz128/U.0000048000.001.001.meta\n",
        "/ocean/rirwin/Half_Cylinder_MITgcm/Resolution_Dependence/Nx256Nz128/W.0000048000.001.001.meta\n",
        "/ocean/rirwin/Half_Cylinder_MITgcm/Resolution_Dependence/Nx256Nz128/U.0000050000.001.001.meta\n",
        "/ocean/rirwin/Half_Cylinder_MITgcm/Resolution_Dependence/Nx256Nz128/W.0000050000.001.001.meta\n",
        "/ocean/rirwin/Half_Cylinder_MITgcm/Resolution_Dependence/Nx256Nz128/U.0000052000.001.001.meta\n",
        "/ocean/rirwin/Half_Cylinder_MITgcm/Resolution_Dependence/Nx256Nz128/W.0000052000.001.001.meta\n",
        "/ocean/rirwin/Half_Cylinder_MITgcm/Resolution_Dependence/Nx256Nz128/U.0000054000.001.001.meta\n",
        "/ocean/rirwin/Half_Cylinder_MITgcm/Resolution_Dependence/Nx256Nz128/W.0000054000.001.001.meta\n",
        "/ocean/rirwin/Half_Cylinder_MITgcm/Resolution_Dependence/Nx256Nz128/U.0000056000.001.001.meta\n"
       ]
      },
      {
       "output_type": "stream",
       "stream": "stdout",
       "text": [
        "\n",
        "Found zero!\n",
        "Found zero!\n",
        "Found zero!\n",
        "Found zero!"
       ]
      },
      {
       "output_type": "stream",
       "stream": "stderr",
       "text": [
        "/ocean/rirwin/Half_Cylinder_MITgcm/Resolution_Dependence/Nx256Nz128/W.0000056000.001.001.meta\n",
        "/ocean/rirwin/Half_Cylinder_MITgcm/Resolution_Dependence/Nx256Nz128/U.0000058000.001.001.meta\n",
        "/ocean/rirwin/Half_Cylinder_MITgcm/Resolution_Dependence/Nx256Nz128/W.0000058000.001.001.meta\n",
        "/ocean/rirwin/Half_Cylinder_MITgcm/Resolution_Dependence/Nx256Nz128/U.0000060000.001.001.meta\n",
        "/ocean/rirwin/Half_Cylinder_MITgcm/Resolution_Dependence/Nx256Nz128/W.0000060000.001.001.meta\n",
        "/ocean/rirwin/Half_Cylinder_MITgcm/Resolution_Dependence/Nx256Nz128/U.0000062000.001.001.meta\n",
        "/ocean/rirwin/Half_Cylinder_MITgcm/Resolution_Dependence/Nx256Nz128/W.0000062000.001.001.meta\n",
        "/ocean/rirwin/Half_Cylinder_MITgcm/Resolution_Dependence/Nx256Nz128/U.0000064000.001.001.meta\n",
        "/ocean/rirwin/Half_Cylinder_MITgcm/Resolution_Dependence/Nx256Nz128/W.0000064000.001.001.meta\n"
       ]
      },
      {
       "output_type": "stream",
       "stream": "stdout",
       "text": [
        "\n",
        "Found zero!\n",
        "Found zero!\n",
        "Found zero!\n",
        "Found zero!"
       ]
      },
      {
       "output_type": "stream",
       "stream": "stderr",
       "text": [
        "/ocean/rirwin/Half_Cylinder_MITgcm/Resolution_Dependence/Nx256Nz128/U.0000066000.001.001.meta\n",
        "/ocean/rirwin/Half_Cylinder_MITgcm/Resolution_Dependence/Nx256Nz128/W.0000066000.001.001.meta\n",
        "/ocean/rirwin/Half_Cylinder_MITgcm/Resolution_Dependence/Nx256Nz128/U.0000068000.001.001.meta\n",
        "/ocean/rirwin/Half_Cylinder_MITgcm/Resolution_Dependence/Nx256Nz128/W.0000068000.001.001.meta\n",
        "/ocean/rirwin/Half_Cylinder_MITgcm/Resolution_Dependence/Nx256Nz128/U.0000070000.001.001.meta\n",
        "/ocean/rirwin/Half_Cylinder_MITgcm/Resolution_Dependence/Nx256Nz128/W.0000070000.001.001.meta\n",
        "/ocean/rirwin/Half_Cylinder_MITgcm/Resolution_Dependence/Nx256Nz128/U.0000072000.001.001.meta\n",
        "/ocean/rirwin/Half_Cylinder_MITgcm/Resolution_Dependence/Nx256Nz128/W.0000072000.001.001.meta\n",
        "/ocean/rirwin/Half_Cylinder_MITgcm/Resolution_Dependence/Nx256Nz128/U.0000074000.001.001.meta\n"
       ]
      },
      {
       "output_type": "stream",
       "stream": "stdout",
       "text": [
        "\n",
        "Found zero!\n",
        "Found zero!\n",
        "Found zero!\n",
        "Found zero!"
       ]
      },
      {
       "output_type": "stream",
       "stream": "stderr",
       "text": [
        "/ocean/rirwin/Half_Cylinder_MITgcm/Resolution_Dependence/Nx256Nz128/W.0000074000.001.001.meta\n",
        "/ocean/rirwin/Half_Cylinder_MITgcm/Resolution_Dependence/Nx256Nz128/U.0000076000.001.001.meta\n",
        "/ocean/rirwin/Half_Cylinder_MITgcm/Resolution_Dependence/Nx256Nz128/W.0000076000.001.001.meta\n",
        "/ocean/rirwin/Half_Cylinder_MITgcm/Resolution_Dependence/Nx256Nz128/U.0000078000.001.001.meta\n",
        "/ocean/rirwin/Half_Cylinder_MITgcm/Resolution_Dependence/Nx256Nz128/W.0000078000.001.001.meta\n",
        "/ocean/rirwin/Half_Cylinder_MITgcm/Resolution_Dependence/Nx256Nz128/U.0000080000.001.001.meta\n",
        "/ocean/rirwin/Half_Cylinder_MITgcm/Resolution_Dependence/Nx256Nz128/W.0000080000.001.001.meta\n",
        "/ocean/rirwin/Half_Cylinder_MITgcm/Resolution_Dependence/Nx256Nz128/U.0000082000.001.001.meta\n",
        "/ocean/rirwin/Half_Cylinder_MITgcm/Resolution_Dependence/Nx256Nz128/W.0000082000.001.001.meta\n"
       ]
      },
      {
       "output_type": "stream",
       "stream": "stdout",
       "text": [
        "\n",
        "Found zero!\n",
        "Found zero!\n",
        "Found zero!\n",
        "Found zero!"
       ]
      },
      {
       "output_type": "stream",
       "stream": "stderr",
       "text": [
        "/ocean/rirwin/Half_Cylinder_MITgcm/Resolution_Dependence/Nx256Nz128/U.0000084000.001.001.meta\n",
        "/ocean/rirwin/Half_Cylinder_MITgcm/Resolution_Dependence/Nx256Nz128/W.0000084000.001.001.meta\n",
        "/ocean/rirwin/Half_Cylinder_MITgcm/Resolution_Dependence/Nx256Nz128/U.0000086000.001.001.meta\n",
        "/ocean/rirwin/Half_Cylinder_MITgcm/Resolution_Dependence/Nx256Nz128/W.0000086000.001.001.meta\n",
        "/ocean/rirwin/Half_Cylinder_MITgcm/Resolution_Dependence/Nx256Nz128/U.0000088000.001.001.meta\n",
        "/ocean/rirwin/Half_Cylinder_MITgcm/Resolution_Dependence/Nx256Nz128/W.0000088000.001.001.meta\n",
        "/ocean/rirwin/Half_Cylinder_MITgcm/Resolution_Dependence/Nx256Nz128/U.0000090000.001.001.meta\n",
        "/ocean/rirwin/Half_Cylinder_MITgcm/Resolution_Dependence/Nx256Nz128/W.0000090000.001.001.meta\n",
        "/ocean/rirwin/Half_Cylinder_MITgcm/Resolution_Dependence/Nx256Nz128/U.0000092000.001.001.meta\n"
       ]
      },
      {
       "output_type": "stream",
       "stream": "stdout",
       "text": [
        "\n",
        "Found zero!\n",
        "Found zero!\n",
        "Found zero!\n",
        "Found zero!"
       ]
      },
      {
       "output_type": "stream",
       "stream": "stderr",
       "text": [
        "/ocean/rirwin/Half_Cylinder_MITgcm/Resolution_Dependence/Nx256Nz128/W.0000092000.001.001.meta\n",
        "/ocean/rirwin/Half_Cylinder_MITgcm/Resolution_Dependence/Nx256Nz128/U.0000094000.001.001.meta\n",
        "/ocean/rirwin/Half_Cylinder_MITgcm/Resolution_Dependence/Nx256Nz128/W.0000094000.001.001.meta\n",
        "/ocean/rirwin/Half_Cylinder_MITgcm/Resolution_Dependence/Nx256Nz128/U.0000096000.001.001.meta\n",
        "/ocean/rirwin/Half_Cylinder_MITgcm/Resolution_Dependence/Nx256Nz128/W.0000096000.001.001.meta\n",
        "/ocean/rirwin/Half_Cylinder_MITgcm/Resolution_Dependence/Nx256Nz128/U.0000098000.001.001.meta\n",
        "/ocean/rirwin/Half_Cylinder_MITgcm/Resolution_Dependence/Nx256Nz128/W.0000098000.001.001.meta\n",
        "/ocean/rirwin/Half_Cylinder_MITgcm/Resolution_Dependence/Nx256Nz128/U.0000100000.001.001.meta\n",
        "/ocean/rirwin/Half_Cylinder_MITgcm/Resolution_Dependence/Nx256Nz128/W.0000100000.001.001.meta\n"
       ]
      },
      {
       "output_type": "stream",
       "stream": "stdout",
       "text": [
        "\n",
        "Found zero!\n",
        "Found zero!\n",
        "Found zero!\n",
        "Found zero!"
       ]
      },
      {
       "output_type": "stream",
       "stream": "stderr",
       "text": [
        "/ocean/rirwin/Half_Cylinder_MITgcm/Resolution_Dependence/Nx256Nz256/U.0000000000.001.001.meta\n",
        "/ocean/rirwin/Half_Cylinder_MITgcm/Resolution_Dependence/Nx256Nz256/W.0000000000.001.001.meta\n",
        "/ocean/rirwin/Half_Cylinder_MITgcm/Resolution_Dependence/Nx256Nz256/U.0000002000.001.001.meta\n",
        "/ocean/rirwin/Half_Cylinder_MITgcm/Resolution_Dependence/Nx256Nz256/W.0000002000.001.001.meta\n",
        "/ocean/rirwin/Half_Cylinder_MITgcm/Resolution_Dependence/Nx256Nz256/U.0000004000.001.001.meta\n",
        "/ocean/rirwin/Half_Cylinder_MITgcm/Resolution_Dependence/Nx256Nz256/W.0000004000.001.001.meta\n",
        "/ocean/rirwin/Half_Cylinder_MITgcm/Resolution_Dependence/Nx256Nz256/U.0000006000.001.001.meta\n",
        "/ocean/rirwin/Half_Cylinder_MITgcm/Resolution_Dependence/Nx256Nz256/W.0000006000.001.001.meta\n"
       ]
      },
      {
       "output_type": "stream",
       "stream": "stdout",
       "text": [
        "\n",
        "Found zero!\n",
        "Found zero!\n",
        "Found zero!\n",
        "Found zero!"
       ]
      },
      {
       "output_type": "stream",
       "stream": "stderr",
       "text": [
        "/ocean/rirwin/Half_Cylinder_MITgcm/Resolution_Dependence/Nx256Nz256/U.0000008000.001.001.meta\n",
        "/ocean/rirwin/Half_Cylinder_MITgcm/Resolution_Dependence/Nx256Nz256/W.0000008000.001.001.meta\n",
        "/ocean/rirwin/Half_Cylinder_MITgcm/Resolution_Dependence/Nx256Nz256/U.0000010000.001.001.meta\n",
        "/ocean/rirwin/Half_Cylinder_MITgcm/Resolution_Dependence/Nx256Nz256/W.0000010000.001.001.meta\n",
        "/ocean/rirwin/Half_Cylinder_MITgcm/Resolution_Dependence/Nx256Nz256/U.0000012000.001.001.meta\n",
        "/ocean/rirwin/Half_Cylinder_MITgcm/Resolution_Dependence/Nx256Nz256/W.0000012000.001.001.meta\n",
        "/ocean/rirwin/Half_Cylinder_MITgcm/Resolution_Dependence/Nx256Nz256/U.0000014000.001.001.meta\n",
        "/ocean/rirwin/Half_Cylinder_MITgcm/Resolution_Dependence/Nx256Nz256/W.0000014000.001.001.meta\n"
       ]
      },
      {
       "output_type": "stream",
       "stream": "stdout",
       "text": [
        "\n",
        "Found zero!\n",
        "Found zero!\n",
        "Found zero!\n",
        "Found zero!"
       ]
      },
      {
       "output_type": "stream",
       "stream": "stderr",
       "text": [
        "/ocean/rirwin/Half_Cylinder_MITgcm/Resolution_Dependence/Nx256Nz256/U.0000016000.001.001.meta\n",
        "/ocean/rirwin/Half_Cylinder_MITgcm/Resolution_Dependence/Nx256Nz256/W.0000016000.001.001.meta\n",
        "/ocean/rirwin/Half_Cylinder_MITgcm/Resolution_Dependence/Nx256Nz256/U.0000018000.001.001.meta\n",
        "/ocean/rirwin/Half_Cylinder_MITgcm/Resolution_Dependence/Nx256Nz256/W.0000018000.001.001.meta\n",
        "/ocean/rirwin/Half_Cylinder_MITgcm/Resolution_Dependence/Nx256Nz256/U.0000020000.001.001.meta\n",
        "/ocean/rirwin/Half_Cylinder_MITgcm/Resolution_Dependence/Nx256Nz256/W.0000020000.001.001.meta\n",
        "/ocean/rirwin/Half_Cylinder_MITgcm/Resolution_Dependence/Nx256Nz256/U.0000022000.001.001.meta\n",
        "/ocean/rirwin/Half_Cylinder_MITgcm/Resolution_Dependence/Nx256Nz256/W.0000022000.001.001.meta\n"
       ]
      },
      {
       "output_type": "stream",
       "stream": "stdout",
       "text": [
        "\n",
        "Found zero!\n",
        "Found zero!\n",
        "Found zero!\n",
        "Found zero!"
       ]
      },
      {
       "output_type": "stream",
       "stream": "stderr",
       "text": [
        "/ocean/rirwin/Half_Cylinder_MITgcm/Resolution_Dependence/Nx256Nz256/U.0000024000.001.001.meta\n",
        "/ocean/rirwin/Half_Cylinder_MITgcm/Resolution_Dependence/Nx256Nz256/W.0000024000.001.001.meta\n",
        "/ocean/rirwin/Half_Cylinder_MITgcm/Resolution_Dependence/Nx256Nz256/U.0000026000.001.001.meta\n",
        "/ocean/rirwin/Half_Cylinder_MITgcm/Resolution_Dependence/Nx256Nz256/W.0000026000.001.001.meta\n",
        "/ocean/rirwin/Half_Cylinder_MITgcm/Resolution_Dependence/Nx256Nz256/U.0000028000.001.001.meta\n",
        "/ocean/rirwin/Half_Cylinder_MITgcm/Resolution_Dependence/Nx256Nz256/W.0000028000.001.001.meta\n",
        "/ocean/rirwin/Half_Cylinder_MITgcm/Resolution_Dependence/Nx256Nz256/U.0000030000.001.001.meta\n",
        "/ocean/rirwin/Half_Cylinder_MITgcm/Resolution_Dependence/Nx256Nz256/W.0000030000.001.001.meta\n"
       ]
      },
      {
       "output_type": "stream",
       "stream": "stdout",
       "text": [
        "\n",
        "Found zero!\n",
        "Found zero!\n",
        "Found zero!\n",
        "Found zero!"
       ]
      },
      {
       "output_type": "stream",
       "stream": "stderr",
       "text": [
        "/ocean/rirwin/Half_Cylinder_MITgcm/Resolution_Dependence/Nx256Nz256/U.0000032000.001.001.meta\n",
        "/ocean/rirwin/Half_Cylinder_MITgcm/Resolution_Dependence/Nx256Nz256/W.0000032000.001.001.meta\n",
        "/ocean/rirwin/Half_Cylinder_MITgcm/Resolution_Dependence/Nx256Nz256/U.0000034000.001.001.meta\n",
        "/ocean/rirwin/Half_Cylinder_MITgcm/Resolution_Dependence/Nx256Nz256/W.0000034000.001.001.meta\n",
        "/ocean/rirwin/Half_Cylinder_MITgcm/Resolution_Dependence/Nx256Nz256/U.0000036000.001.001.meta\n",
        "/ocean/rirwin/Half_Cylinder_MITgcm/Resolution_Dependence/Nx256Nz256/W.0000036000.001.001.meta\n",
        "/ocean/rirwin/Half_Cylinder_MITgcm/Resolution_Dependence/Nx256Nz256/U.0000038000.001.001.meta\n",
        "/ocean/rirwin/Half_Cylinder_MITgcm/Resolution_Dependence/Nx256Nz256/W.0000038000.001.001.meta\n"
       ]
      },
      {
       "output_type": "stream",
       "stream": "stdout",
       "text": [
        "\n",
        "Found zero!\n",
        "Found zero!\n",
        "Found zero!\n",
        "Found zero!"
       ]
      },
      {
       "output_type": "stream",
       "stream": "stderr",
       "text": [
        "/ocean/rirwin/Half_Cylinder_MITgcm/Resolution_Dependence/Nx256Nz256/U.0000040000.001.001.meta\n",
        "/ocean/rirwin/Half_Cylinder_MITgcm/Resolution_Dependence/Nx256Nz256/W.0000040000.001.001.meta\n",
        "/ocean/rirwin/Half_Cylinder_MITgcm/Resolution_Dependence/Nx256Nz256/U.0000042000.001.001.meta\n",
        "/ocean/rirwin/Half_Cylinder_MITgcm/Resolution_Dependence/Nx256Nz256/W.0000042000.001.001.meta\n",
        "/ocean/rirwin/Half_Cylinder_MITgcm/Resolution_Dependence/Nx256Nz256/U.0000044000.001.001.meta\n",
        "/ocean/rirwin/Half_Cylinder_MITgcm/Resolution_Dependence/Nx256Nz256/W.0000044000.001.001.meta\n",
        "/ocean/rirwin/Half_Cylinder_MITgcm/Resolution_Dependence/Nx256Nz256/U.0000046000.001.001.meta\n",
        "/ocean/rirwin/Half_Cylinder_MITgcm/Resolution_Dependence/Nx256Nz256/W.0000046000.001.001.meta\n",
        "/ocean/rirwin/Half_Cylinder_MITgcm/Resolution_Dependence/Nx256Nz256/U.0000048000.001.001.meta\n"
       ]
      },
      {
       "output_type": "stream",
       "stream": "stdout",
       "text": [
        "\n",
        "Found zero!\n",
        "Found zero!\n",
        "Found zero!\n",
        "Found zero!"
       ]
      },
      {
       "output_type": "stream",
       "stream": "stderr",
       "text": [
        "/ocean/rirwin/Half_Cylinder_MITgcm/Resolution_Dependence/Nx256Nz256/W.0000048000.001.001.meta\n",
        "/ocean/rirwin/Half_Cylinder_MITgcm/Resolution_Dependence/Nx256Nz256/U.0000050000.001.001.meta\n",
        "/ocean/rirwin/Half_Cylinder_MITgcm/Resolution_Dependence/Nx256Nz256/W.0000050000.001.001.meta\n",
        "/ocean/rirwin/Half_Cylinder_MITgcm/Resolution_Dependence/Nx256Nz256/U.0000052000.001.001.meta\n",
        "/ocean/rirwin/Half_Cylinder_MITgcm/Resolution_Dependence/Nx256Nz256/W.0000052000.001.001.meta\n",
        "/ocean/rirwin/Half_Cylinder_MITgcm/Resolution_Dependence/Nx256Nz256/U.0000054000.001.001.meta\n",
        "/ocean/rirwin/Half_Cylinder_MITgcm/Resolution_Dependence/Nx256Nz256/W.0000054000.001.001.meta\n",
        "/ocean/rirwin/Half_Cylinder_MITgcm/Resolution_Dependence/Nx256Nz256/U.0000056000.001.001.meta\n"
       ]
      },
      {
       "output_type": "stream",
       "stream": "stdout",
       "text": [
        "\n",
        "Found zero!\n",
        "Found zero!\n",
        "Found zero!\n",
        "Found zero!"
       ]
      },
      {
       "output_type": "stream",
       "stream": "stderr",
       "text": [
        "/ocean/rirwin/Half_Cylinder_MITgcm/Resolution_Dependence/Nx256Nz256/W.0000056000.001.001.meta\n",
        "/ocean/rirwin/Half_Cylinder_MITgcm/Resolution_Dependence/Nx256Nz256/U.0000058000.001.001.meta\n",
        "/ocean/rirwin/Half_Cylinder_MITgcm/Resolution_Dependence/Nx256Nz256/W.0000058000.001.001.meta\n",
        "/ocean/rirwin/Half_Cylinder_MITgcm/Resolution_Dependence/Nx256Nz256/U.0000060000.001.001.meta\n",
        "/ocean/rirwin/Half_Cylinder_MITgcm/Resolution_Dependence/Nx256Nz256/W.0000060000.001.001.meta\n",
        "/ocean/rirwin/Half_Cylinder_MITgcm/Resolution_Dependence/Nx256Nz256/U.0000062000.001.001.meta\n",
        "/ocean/rirwin/Half_Cylinder_MITgcm/Resolution_Dependence/Nx256Nz256/W.0000062000.001.001.meta\n",
        "/ocean/rirwin/Half_Cylinder_MITgcm/Resolution_Dependence/Nx256Nz256/U.0000064000.001.001.meta\n",
        "/ocean/rirwin/Half_Cylinder_MITgcm/Resolution_Dependence/Nx256Nz256/W.0000064000.001.001.meta\n"
       ]
      },
      {
       "output_type": "stream",
       "stream": "stdout",
       "text": [
        "\n",
        "Found zero!\n",
        "Found zero!\n",
        "Found zero!\n",
        "Found zero!"
       ]
      },
      {
       "output_type": "stream",
       "stream": "stderr",
       "text": [
        "/ocean/rirwin/Half_Cylinder_MITgcm/Resolution_Dependence/Nx256Nz256/U.0000066000.001.001.meta\n",
        "/ocean/rirwin/Half_Cylinder_MITgcm/Resolution_Dependence/Nx256Nz256/W.0000066000.001.001.meta\n",
        "/ocean/rirwin/Half_Cylinder_MITgcm/Resolution_Dependence/Nx256Nz256/U.0000068000.001.001.meta\n",
        "/ocean/rirwin/Half_Cylinder_MITgcm/Resolution_Dependence/Nx256Nz256/W.0000068000.001.001.meta\n",
        "/ocean/rirwin/Half_Cylinder_MITgcm/Resolution_Dependence/Nx256Nz256/U.0000070000.001.001.meta\n",
        "/ocean/rirwin/Half_Cylinder_MITgcm/Resolution_Dependence/Nx256Nz256/W.0000070000.001.001.meta\n",
        "/ocean/rirwin/Half_Cylinder_MITgcm/Resolution_Dependence/Nx256Nz256/U.0000072000.001.001.meta\n",
        "/ocean/rirwin/Half_Cylinder_MITgcm/Resolution_Dependence/Nx256Nz256/W.0000072000.001.001.meta\n",
        "/ocean/rirwin/Half_Cylinder_MITgcm/Resolution_Dependence/Nx256Nz256/U.0000074000.001.001.meta\n"
       ]
      },
      {
       "output_type": "stream",
       "stream": "stdout",
       "text": [
        "\n",
        "Found zero!\n",
        "Found zero!\n",
        "Found zero!\n",
        "Found zero!"
       ]
      },
      {
       "output_type": "stream",
       "stream": "stderr",
       "text": [
        "/ocean/rirwin/Half_Cylinder_MITgcm/Resolution_Dependence/Nx256Nz256/W.0000074000.001.001.meta\n",
        "/ocean/rirwin/Half_Cylinder_MITgcm/Resolution_Dependence/Nx256Nz256/U.0000076000.001.001.meta\n",
        "/ocean/rirwin/Half_Cylinder_MITgcm/Resolution_Dependence/Nx256Nz256/W.0000076000.001.001.meta\n",
        "/ocean/rirwin/Half_Cylinder_MITgcm/Resolution_Dependence/Nx256Nz256/U.0000078000.001.001.meta\n",
        "/ocean/rirwin/Half_Cylinder_MITgcm/Resolution_Dependence/Nx256Nz256/W.0000078000.001.001.meta\n",
        "/ocean/rirwin/Half_Cylinder_MITgcm/Resolution_Dependence/Nx256Nz256/U.0000080000.001.001.meta\n",
        "/ocean/rirwin/Half_Cylinder_MITgcm/Resolution_Dependence/Nx256Nz256/W.0000080000.001.001.meta\n",
        "/ocean/rirwin/Half_Cylinder_MITgcm/Resolution_Dependence/Nx256Nz256/U.0000082000.001.001.meta\n"
       ]
      },
      {
       "output_type": "stream",
       "stream": "stdout",
       "text": [
        "\n",
        "Found zero!\n",
        "Found zero!\n",
        "Found zero!"
       ]
      },
      {
       "output_type": "stream",
       "stream": "stderr",
       "text": [
        "/ocean/rirwin/Half_Cylinder_MITgcm/Resolution_Dependence/Nx256Nz256/W.0000082000.001.001.meta\n",
        "/ocean/rirwin/Half_Cylinder_MITgcm/Resolution_Dependence/Nx256Nz256/U.0000084000.001.001.meta\n",
        "/ocean/rirwin/Half_Cylinder_MITgcm/Resolution_Dependence/Nx256Nz256/W.0000084000.001.001.meta\n",
        "/ocean/rirwin/Half_Cylinder_MITgcm/Resolution_Dependence/Nx256Nz256/U.0000086000.001.001.meta\n",
        "/ocean/rirwin/Half_Cylinder_MITgcm/Resolution_Dependence/Nx256Nz256/W.0000086000.001.001.meta\n",
        "/ocean/rirwin/Half_Cylinder_MITgcm/Resolution_Dependence/Nx256Nz256/U.0000088000.001.001.meta\n",
        "/ocean/rirwin/Half_Cylinder_MITgcm/Resolution_Dependence/Nx256Nz256/W.0000088000.001.001.meta\n",
        "/ocean/rirwin/Half_Cylinder_MITgcm/Resolution_Dependence/Nx256Nz256/U.0000090000.001.001.meta\n"
       ]
      },
      {
       "output_type": "stream",
       "stream": "stdout",
       "text": [
        "\n",
        "Found zero!\n",
        "Found zero!\n",
        "Found zero!\n",
        "Found zero!"
       ]
      },
      {
       "output_type": "stream",
       "stream": "stderr",
       "text": [
        "/ocean/rirwin/Half_Cylinder_MITgcm/Resolution_Dependence/Nx256Nz256/W.0000090000.001.001.meta\n",
        "/ocean/rirwin/Half_Cylinder_MITgcm/Resolution_Dependence/Nx256Nz256/U.0000092000.001.001.meta\n",
        "/ocean/rirwin/Half_Cylinder_MITgcm/Resolution_Dependence/Nx256Nz256/W.0000092000.001.001.meta\n",
        "/ocean/rirwin/Half_Cylinder_MITgcm/Resolution_Dependence/Nx256Nz256/U.0000094000.001.001.meta\n",
        "/ocean/rirwin/Half_Cylinder_MITgcm/Resolution_Dependence/Nx256Nz256/W.0000094000.001.001.meta\n",
        "/ocean/rirwin/Half_Cylinder_MITgcm/Resolution_Dependence/Nx512Nz256/U.0000000000.001.001.meta\n",
        "/ocean/rirwin/Half_Cylinder_MITgcm/Resolution_Dependence/Nx512Nz256/W.0000000000.001.001.meta\n",
        "/ocean/rirwin/Half_Cylinder_MITgcm/Resolution_Dependence/Nx512Nz256/U.0000002000.001.001.meta\n"
       ]
      },
      {
       "output_type": "stream",
       "stream": "stdout",
       "text": [
        "\n",
        "Found zero!\n",
        "Found zero!\n",
        "Found zero!\n",
        "Found zero!"
       ]
      },
      {
       "output_type": "stream",
       "stream": "stderr",
       "text": [
        "/ocean/rirwin/Half_Cylinder_MITgcm/Resolution_Dependence/Nx512Nz256/W.0000002000.001.001.meta\n",
        "/ocean/rirwin/Half_Cylinder_MITgcm/Resolution_Dependence/Nx512Nz256/U.0000004000.001.001.meta\n",
        "/ocean/rirwin/Half_Cylinder_MITgcm/Resolution_Dependence/Nx512Nz256/W.0000004000.001.001.meta\n",
        "/ocean/rirwin/Half_Cylinder_MITgcm/Resolution_Dependence/Nx512Nz256/U.0000006000.001.001.meta\n",
        "/ocean/rirwin/Half_Cylinder_MITgcm/Resolution_Dependence/Nx512Nz256/W.0000006000.001.001.meta\n",
        "/ocean/rirwin/Half_Cylinder_MITgcm/Resolution_Dependence/Nx512Nz256/U.0000008000.001.001.meta\n",
        "/ocean/rirwin/Half_Cylinder_MITgcm/Resolution_Dependence/Nx512Nz256/W.0000008000.001.001.meta\n",
        "/ocean/rirwin/Half_Cylinder_MITgcm/Resolution_Dependence/Nx512Nz256/U.0000010000.001.001.meta\n"
       ]
      },
      {
       "output_type": "stream",
       "stream": "stdout",
       "text": [
        "\n",
        "Found zero!\n",
        "Found zero!\n",
        "Found zero!\n",
        "Found zero!"
       ]
      },
      {
       "output_type": "stream",
       "stream": "stderr",
       "text": [
        "/ocean/rirwin/Half_Cylinder_MITgcm/Resolution_Dependence/Nx512Nz256/W.0000010000.001.001.meta\n",
        "/ocean/rirwin/Half_Cylinder_MITgcm/Resolution_Dependence/Nx512Nz256/U.0000012000.001.001.meta\n",
        "/ocean/rirwin/Half_Cylinder_MITgcm/Resolution_Dependence/Nx512Nz256/W.0000012000.001.001.meta\n",
        "/ocean/rirwin/Half_Cylinder_MITgcm/Resolution_Dependence/Nx512Nz256/U.0000014000.001.001.meta\n",
        "/ocean/rirwin/Half_Cylinder_MITgcm/Resolution_Dependence/Nx512Nz256/W.0000014000.001.001.meta\n",
        "/ocean/rirwin/Half_Cylinder_MITgcm/Resolution_Dependence/Nx512Nz256/U.0000016000.001.001.meta\n",
        "/ocean/rirwin/Half_Cylinder_MITgcm/Resolution_Dependence/Nx512Nz256/W.0000016000.001.001.meta\n"
       ]
      },
      {
       "output_type": "stream",
       "stream": "stdout",
       "text": [
        "\n",
        "Found zero!\n",
        "Found zero!\n",
        "Found zero!"
       ]
      },
      {
       "output_type": "stream",
       "stream": "stderr",
       "text": [
        "/ocean/rirwin/Half_Cylinder_MITgcm/Resolution_Dependence/Nx512Nz256/U.0000018000.001.001.meta\n",
        "/ocean/rirwin/Half_Cylinder_MITgcm/Resolution_Dependence/Nx512Nz256/W.0000018000.001.001.meta\n",
        "/ocean/rirwin/Half_Cylinder_MITgcm/Resolution_Dependence/Nx512Nz256/U.0000020000.001.001.meta\n",
        "/ocean/rirwin/Half_Cylinder_MITgcm/Resolution_Dependence/Nx512Nz256/W.0000020000.001.001.meta\n",
        "/ocean/rirwin/Half_Cylinder_MITgcm/Resolution_Dependence/Nx512Nz256/U.0000022000.001.001.meta\n",
        "/ocean/rirwin/Half_Cylinder_MITgcm/Resolution_Dependence/Nx512Nz256/W.0000022000.001.001.meta\n",
        "/ocean/rirwin/Half_Cylinder_MITgcm/Resolution_Dependence/Nx512Nz256/U.0000024000.001.001.meta\n",
        "/ocean/rirwin/Half_Cylinder_MITgcm/Resolution_Dependence/Nx512Nz256/W.0000024000.001.001.meta\n"
       ]
      },
      {
       "output_type": "stream",
       "stream": "stdout",
       "text": [
        "\n",
        "Found zero!\n",
        "Found zero!\n",
        "Found zero!\n",
        "Found zero!"
       ]
      },
      {
       "output_type": "stream",
       "stream": "stderr",
       "text": [
        "/ocean/rirwin/Half_Cylinder_MITgcm/Resolution_Dependence/Nx512Nz256/U.0000026000.001.001.meta\n",
        "/ocean/rirwin/Half_Cylinder_MITgcm/Resolution_Dependence/Nx512Nz256/W.0000026000.001.001.meta\n",
        "/ocean/rirwin/Half_Cylinder_MITgcm/Resolution_Dependence/Nx512Nz256/U.0000028000.001.001.meta\n",
        "/ocean/rirwin/Half_Cylinder_MITgcm/Resolution_Dependence/Nx512Nz256/W.0000028000.001.001.meta\n",
        "/ocean/rirwin/Half_Cylinder_MITgcm/Resolution_Dependence/Nx512Nz256/U.0000030000.001.001.meta\n",
        "/ocean/rirwin/Half_Cylinder_MITgcm/Resolution_Dependence/Nx512Nz256/W.0000030000.001.001.meta\n",
        "/ocean/rirwin/Half_Cylinder_MITgcm/Resolution_Dependence/Nx512Nz256/U.0000032000.001.001.meta\n",
        "/ocean/rirwin/Half_Cylinder_MITgcm/Resolution_Dependence/Nx512Nz256/W.0000032000.001.001.meta\n"
       ]
      },
      {
       "output_type": "stream",
       "stream": "stdout",
       "text": [
        "\n",
        "Found zero!\n",
        "Found zero!\n",
        "Found zero!\n",
        "Found zero!"
       ]
      },
      {
       "output_type": "stream",
       "stream": "stderr",
       "text": [
        "/ocean/rirwin/Half_Cylinder_MITgcm/Resolution_Dependence/Nx512Nz256/U.0000034000.001.001.meta\n",
        "/ocean/rirwin/Half_Cylinder_MITgcm/Resolution_Dependence/Nx512Nz256/W.0000034000.001.001.meta\n",
        "/ocean/rirwin/Half_Cylinder_MITgcm/Resolution_Dependence/Nx512Nz256/U.0000036000.001.001.meta\n",
        "/ocean/rirwin/Half_Cylinder_MITgcm/Resolution_Dependence/Nx512Nz256/W.0000036000.001.001.meta\n",
        "/ocean/rirwin/Half_Cylinder_MITgcm/Resolution_Dependence/Nx512Nz256/U.0000038000.001.001.meta\n",
        "/ocean/rirwin/Half_Cylinder_MITgcm/Resolution_Dependence/Nx512Nz256/W.0000038000.001.001.meta\n",
        "/ocean/rirwin/Half_Cylinder_MITgcm/Resolution_Dependence/Nx512Nz256/U.0000040000.001.001.meta\n",
        "/ocean/rirwin/Half_Cylinder_MITgcm/Resolution_Dependence/Nx512Nz256/W.0000040000.001.001.meta\n"
       ]
      },
      {
       "output_type": "stream",
       "stream": "stdout",
       "text": [
        "\n",
        "Found zero!\n",
        "Found zero!\n",
        "Found zero!"
       ]
      },
      {
       "output_type": "stream",
       "stream": "stdout",
       "text": [
        "\n",
        "Found zero!\n",
        "Found zero!\n",
        "Found zero!"
       ]
      },
      {
       "output_type": "stream",
       "stream": "stderr",
       "text": [
        "/ocean/rirwin/Half_Cylinder_MITgcm/Resolution_Dependence/Nx512Nz256/U.0000042000.001.001.meta\n",
        "/ocean/rirwin/Half_Cylinder_MITgcm/Resolution_Dependence/Nx512Nz256/W.0000042000.001.001.meta\n",
        "/ocean/rirwin/Half_Cylinder_MITgcm/Resolution_Dependence/Nx512Nz256/U.0000044000.001.001.meta\n",
        "/ocean/rirwin/Half_Cylinder_MITgcm/Resolution_Dependence/Nx512Nz256/W.0000044000.001.001.meta\n",
        "/ocean/rirwin/Half_Cylinder_MITgcm/Resolution_Dependence/Nx512Nz256/U.0000046000.001.001.meta\n",
        "/ocean/rirwin/Half_Cylinder_MITgcm/Resolution_Dependence/Nx512Nz256/W.0000046000.001.001.meta\n",
        "/ocean/rirwin/Half_Cylinder_MITgcm/Resolution_Dependence/Nx512Nz512/U.0000000000.004.001.meta\n"
       ]
      },
      {
       "output_type": "stream",
       "stream": "stderr",
       "text": [
        "/ocean/rirwin/Half_Cylinder_MITgcm/Resolution_Dependence/Nx512Nz512/W.0000000000.006.001.meta\n",
        "/ocean/rirwin/Half_Cylinder_MITgcm/Resolution_Dependence/Nx512Nz512/U.0000004000.006.001.meta\n",
        "/ocean/rirwin/Half_Cylinder_MITgcm/Resolution_Dependence/Nx512Nz512/W.0000004000.008.001.meta\n"
       ]
      },
      {
       "output_type": "stream",
       "stream": "stdout",
       "text": [
        "\n",
        "Found zero!"
       ]
      },
      {
       "output_type": "stream",
       "stream": "stderr",
       "text": [
        "/ocean/rirwin/Half_Cylinder_MITgcm/Resolution_Dependence/Nx512Nz512/U.0000008000.008.001.meta\n",
        "/ocean/rirwin/Half_Cylinder_MITgcm/Resolution_Dependence/Nx512Nz512/W.0000008000.005.001.meta\n",
        "/ocean/rirwin/Half_Cylinder_MITgcm/Resolution_Dependence/Nx512Nz512/U.0000012000.001.001.meta\n"
       ]
      },
      {
       "output_type": "stream",
       "stream": "stdout",
       "text": [
        "\n",
        "Found zero!"
       ]
      },
      {
       "output_type": "stream",
       "stream": "stderr",
       "text": [
        "/ocean/rirwin/Half_Cylinder_MITgcm/Resolution_Dependence/Nx512Nz512/W.0000012000.005.001.meta\n",
        "/ocean/rirwin/Half_Cylinder_MITgcm/Resolution_Dependence/Nx512Nz512/U.0000016000.006.001.meta\n",
        "/ocean/rirwin/Half_Cylinder_MITgcm/Resolution_Dependence/Nx512Nz512/W.0000016000.002.001.meta\n"
       ]
      },
      {
       "output_type": "stream",
       "stream": "stdout",
       "text": [
        "\n",
        "Found zero!"
       ]
      },
      {
       "output_type": "stream",
       "stream": "stdout",
       "text": [
        "\n",
        "Found zero!"
       ]
      },
      {
       "output_type": "stream",
       "stream": "stderr",
       "text": [
        "/ocean/rirwin/Half_Cylinder_MITgcm/Resolution_Dependence/Nx512Nz512/U.0000020000.006.001.meta\n",
        "/ocean/rirwin/Half_Cylinder_MITgcm/Resolution_Dependence/Nx512Nz512/W.0000020000.001.001.meta\n",
        "/ocean/rirwin/Half_Cylinder_MITgcm/Resolution_Dependence/Nx512Nz512/U.0000024000.007.001.meta\n"
       ]
      },
      {
       "output_type": "stream",
       "stream": "stdout",
       "text": [
        "\n",
        "Found zero!"
       ]
      },
      {
       "output_type": "stream",
       "stream": "stderr",
       "text": [
        "/ocean/rirwin/Half_Cylinder_MITgcm/Resolution_Dependence/Nx512Nz512/W.0000024000.008.001.meta\n",
        "/ocean/rirwin/Half_Cylinder_MITgcm/Resolution_Dependence/Nx512Nz512/U.0000028000.004.001.meta\n",
        "/ocean/rirwin/Half_Cylinder_MITgcm/Resolution_Dependence/Nx512Nz512/W.0000028000.008.001.meta\n"
       ]
      },
      {
       "output_type": "stream",
       "stream": "stdout",
       "text": [
        "\n",
        "Found zero!"
       ]
      },
      {
       "output_type": "stream",
       "stream": "stdout",
       "text": [
        "\n",
        "Found zero!"
       ]
      },
      {
       "output_type": "stream",
       "stream": "stderr",
       "text": [
        "/ocean/rirwin/Half_Cylinder_MITgcm/Resolution_Dependence/Nx512Nz512/U.0000032000.003.001.meta\n",
        "/ocean/rirwin/Half_Cylinder_MITgcm/Resolution_Dependence/Nx512Nz512/W.0000032000.008.001.meta\n",
        "/ocean/rirwin/Half_Cylinder_MITgcm/Resolution_Dependence/Nx512Nz512/U.0000036000.005.001.meta\n"
       ]
      },
      {
       "output_type": "stream",
       "stream": "stdout",
       "text": [
        "\n",
        "Found zero!"
       ]
      },
      {
       "output_type": "stream",
       "stream": "stdout",
       "text": [
        "\n"
       ]
      },
      {
       "output_type": "stream",
       "stream": "stderr",
       "text": [
        "/ocean/rirwin/Half_Cylinder_MITgcm/Resolution_Dependence/Nx512Nz512/W.0000036000.007.001.meta\n"
       ]
      }
     ],
     "prompt_number": 4
    },
    {
     "cell_type": "code",
     "collapsed": false,
     "input": [
      "pylab.rcParams['figure.figsize'] = (10.0, 8.0)\n",
      "\n",
      "plt.figure()\n",
      "\n",
      "for ii in range(0,5):\n",
      "    sep_pts = all_sep_pts[ii]\n",
      "    tt = []\n",
      "    sep = []\n",
      "    for jj in sep_pts:\n",
      "        tt.append((jj[0]/dout[ii])/(np.pi*0.025/0.01))\n",
      "        sep.append(jj[1])\n",
      "    plt.plot(sep,tt,'-o',label=id_str[ii])\n",
      "\n",
      "plt.xlim((100,140))\n",
      "plt.plot([100,180],[0.35,0.35],'-k',label=r'$t_s$')\n",
      "plt.plot([108.8,108.8],[0,7],'--k',label=r'steady sep.')\n",
      "plt.legend()\n",
      "plt.grid()\n",
      "plt.ylabel(r'$t^*$')\n",
      "plt.xlabel(r'$\\theta$')\n",
      "plt.show()"
     ],
     "language": "python",
     "metadata": {},
     "outputs": [
      {
       "metadata": {},
       "output_type": "display_data",
       "png": "[encoded data removed]",
       "text": [
        "<matplotlib.figure.Figure at 0x7f455d644cd0>"
       ]
      }
     ],
     "prompt_number": 13
    },
    {
     "cell_type": "markdown",
     "metadata": {},
     "source": [
      "Try and look at some pressure profiles."
     ]
    },
    {
     "cell_type": "code",
     "collapsed": false,
     "input": [
      "thet,p = cyl_case[0].calc_bdy_pressure(0)\n",
      "for ii in range(0,len(p)):\n",
      "    p[ii] = p[ii]*0.025/0.01**2"
     ],
     "language": "python",
     "metadata": {},
     "outputs": [
      {
       "output_type": "stream",
       "stream": "stderr",
       "text": [
        "/ocean/rirwin/Half_Cylinder_MITgcm/Resolution_Dependence/Nx128Nz128/U.0000000000.001.001.meta\n",
        "/ocean/rirwin/Half_Cylinder_MITgcm/Resolution_Dependence/Nx128Nz128/W.0000000000.001.001.meta\n"
       ]
      }
     ],
     "prompt_number": 8
    },
    {
     "cell_type": "code",
     "collapsed": false,
     "input": [
      "plt.plot(thet,p)\n",
      "#plt.ylim((-2,2))"
     ],
     "language": "python",
     "metadata": {},
     "outputs": [
      {
       "metadata": {},
       "output_type": "pyout",
       "prompt_number": 10,
       "text": [
        "[<matplotlib.lines.Line2D at 0x7f45640397d0>]"
       ]
      },
      {
       "metadata": {},
       "output_type": "display_data",
       "png": "[encoded data removed]",
       "text": [
        "<matplotlib.figure.Figure at 0x7f457c17b6d0>"
       ]
      }
     ],
     "prompt_number": 10
    },
    {
     "cell_type": "code",
     "collapsed": false,
     "input": [],
     "language": "python",
     "metadata": {},
     "outputs": [],
     "prompt_number": 18
    },
    {
     "cell_type": "code",
     "collapsed": false,
     "input": [],
     "language": "python",
     "metadata": {},
     "outputs": []
    }
   ],
   "metadata": {}
  }
 ]
}