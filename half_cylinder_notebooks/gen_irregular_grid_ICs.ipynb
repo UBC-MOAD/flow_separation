{
 "metadata": {
  "name": "",
  "signature": "sha256:42cd05c044453bd57ad6212896103f7756b87507e7ff1c61984f1fba12fbda9e"
 },
 "nbformat": 3,
 "nbformat_minor": 0,
 "worksheets": [
  {
   "cells": [
    {
     "cell_type": "markdown",
     "metadata": {},
     "source": [
      "Generate an irregular grid (linearly interpolated) for the flow-over half cylinder cases."
     ]
    },
    {
     "cell_type": "code",
     "collapsed": false,
     "input": [
      "from __future__ import division\n",
      "import matplotlib.pyplot as plt\n",
      "import numpy as np\n",
      "\n",
      "%matplotlib inline"
     ],
     "language": "python",
     "metadata": {},
     "outputs": [],
     "prompt_number": 26
    },
    {
     "cell_type": "code",
     "collapsed": false,
     "input": [
      "def gen_grid(N,L,dmin,xt0,xt1,dispflags=None):\n",
      "    '''\n",
      "    gen_grid: generate irregular grid\n",
      "    \n",
      "    args:\n",
      "    N    : number of desired grid points\n",
      "    L    : size of domain\n",
      "    dmin : minimum grid spacing\n",
      "    xt0  : starting point of the transition from small grid spacing to large\n",
      "    xt1  : end of transition\n",
      "    dispflag : optional, if used will output to screen\n",
      "    \n",
      "    returns:\n",
      "    dx   : the grid spacing\n",
      "    xc   : the cell-centered x-values\n",
      "    xl   : the left-edge x-values\n",
      "    xr   : the right-edge x-values\n",
      "    \n",
      "    This function takes in grid parameters and generates an irregular grid that is \n",
      "    highest resolution from x=0..xt0, transitions to low resolution between\n",
      "    x=xt0..xt1, and remains at lowest resolution for x=xt1..L.\n",
      "    '''\n",
      "    \n",
      "    #make sure that the input variables are of the right type\n",
      "    N = int(N)\n",
      "    N0 = int(np.round(xt0/dmin))\n",
      "    \n",
      "    # calculate the zeros of the summation equation to solve for the low resolution,\n",
      "    # dmax, then take the largest value of the two (to avoid negative numbers)\n",
      "    dmax1 = -1/2*(N*dmin**2 + 2*N0*dmin**2 - L*dmin - dmin**2 - dmin*xt0 -\n",
      "dmin*xt1 + np.sqrt(N**2*dmin**2 + 4*N0**2*dmin**2 + L**2 + 2*(L*dmin - dmin**2 -\n",
      "dmin*xt0 - 3*dmin*xt1)*N + 4*(N*dmin**2 - 3*L*dmin - dmin**2 - dmin*xt0 +\n",
      "dmin*xt1)*N0 + 2*L*(3*dmin + 3*xt0 + xt1) + dmin**2 + 2*dmin*xt0 + xt0**2\n",
      "- 2*(dmin + xt0)*xt1 + xt1**2)*dmin)/(N*dmin - 2*N0*dmin + dmin + xt0)\n",
      "    dmax2 = -1/2*(N*dmin**2 + 2*N0*dmin**2 - L*dmin - dmin**2 - dmin*xt0 -\n",
      "dmin*xt1 - np.sqrt(N**2*dmin**2 + 4*N0**2*dmin**2 + L**2 + 2*(L*dmin - dmin**2 -\n",
      "dmin*xt0 - 3*dmin*xt1)*N + 4*(N*dmin**2 - 3*L*dmin - dmin**2 - dmin*xt0 +\n",
      "dmin*xt1)*N0 + 2*L*(3*dmin + 3*xt0 + xt1) + dmin**2 + 2*dmin*xt0 + xt0**2\n",
      "- 2*(dmin + xt0)*xt1 + xt1**2)*dmin)/(N*dmin - 2*N0*dmin + dmin + xt0)\n",
      "    dmax = np.max((dmax1,dmax2))\n",
      "    \n",
      "    # error check here --- if dmax < 0, then the conditions given to the function\n",
      "    # were poorly chosen\n",
      "    if dmax < 0:\n",
      "        print \"ERROR\"\n",
      "        print \"dmax calculated to be negative -- check initial conditions\"\n",
      "        print \"dmin*N : \" + str(dmin*N)\n",
      "        print \"xt0    : \" + str(xt0)\n",
      "        return\n",
      "        \n",
      "    # calculate the number of grid points in each subdomain\n",
      "    # RLI: it is implicitly assumed that the number of grid points will\n",
      "    #      sum back to yield: N0+N1+N2=N, however this is not checked\n",
      "    N2 = int(np.round((L-xt1)/dmax))\n",
      "    N1 = int(np.round(N-N0-N2))\n",
      "    \n",
      "    # calculate the grid and grid spacing using the summation equation\n",
      "    dx = np.zeros(N)\n",
      "    xc = np.zeros(N)\n",
      "    xl = np.zeros(N)\n",
      "    xr = np.zeros(N)\n",
      "    \n",
      "    # loop through the range, starting at 1 -- as in the equation\n",
      "    for ii in range(1,N+1):\n",
      "        if ii < N0:\n",
      "            # max resolution\n",
      "            dx[ii-1]=dmin\n",
      "        elif ii >= N0 and ii < N0+N1:\n",
      "            # transition resolution\n",
      "            dx[ii-1]=(dmax-dmin)/N1*(ii-N0)+dmin\n",
      "        else:\n",
      "            # min resolution\n",
      "            dx[ii-1]=dmax\n",
      "            \n",
      "        if ii == 0:\n",
      "            # initial grid position for the centered, left and right\n",
      "            # x grids\n",
      "            xc[ii-1] = dx[ii-1]/2\n",
      "            xl[ii-1] = 0\n",
      "            xr[ii-1] = dx[ii-1]\n",
      "        else:\n",
      "            # calculated from the previous values\n",
      "            xc[ii-1] = xc[ii-2]+dx[ii-2]/2+dx[ii-1]/2\n",
      "            xl[ii-1] = xc[ii-2]+dx[ii-2]/2\n",
      "            xr[ii-1] = xc[ii-2]+dx[ii-2]/2+dx[ii-1]\n",
      "\n",
      "    # output, if it was requested in the args\n",
      "    if dispflags:\n",
      "        print \"Calculating \" + str(N) + \" point grid\"            \n",
      "        print \"N0  : \" + str(N0)\n",
      "        print \"N1  : \" + str(N1)\n",
      "        print \"N2  : \" + str(N2)\n",
      "        print \"dmin: \" + str(dmin)\n",
      "        print \"dmax: \" + str(dmax)\n",
      "        print \"Lx  : \" + str(sum(dx))\n",
      "        \n",
      "    return dx,xc,xl,xr"
     ],
     "language": "python",
     "metadata": {},
     "outputs": [],
     "prompt_number": 27
    },
    {
     "cell_type": "code",
     "collapsed": false,
     "input": [
      "# domain variables\n",
      "Nx = 64\n",
      "Nz = 64\n",
      "\n",
      "Lx = 0.4\n",
      "Lz = 0.4\n",
      "x_0 = 0.1\n",
      "z_0 = 0.0\n",
      "\n",
      "# cylinder variables\n",
      "R0 = 0.025\n",
      "\n",
      "dxmin = 0.2/(1024)*512/Nx\n",
      "dzmin = dxmin\n",
      "\n",
      "xmin_hires = -1.5*R0\n",
      "xmax_hires = 1.5*R0\n",
      "xmin_lores = -4*R0\n",
      "xmax_lores = 4*R0\n",
      "\n",
      "# generate left and right grids (gen_grid on creates grid on 0..L)\n",
      "dxLEFT,xcLEFT,xlLEFT,xrLEFT = gen_grid(224*Nx/512,x_0,dxmin,-xmin_hires,-xmin_lores,1)\n",
      "dxRIGHT,xcRIGHT,xlRIGHT,xrRIGHT = gen_grid(288*Nx/512,Lx-x_0,dxmin,xmax_hires,xmax_lores,1)\n",
      "dz,zc,zb,zt = gen_grid(Nz,Lz,dzmin,3*R0,6*R0,1)\n",
      "\n",
      "# piece together x-grids\n",
      "dx = np.append(dxLEFT[::-1],dxRIGHT)\n",
      "xc = np.append(-xcLEFT[::-1],xcRIGHT)\n",
      "xl = np.append(-xrLEFT[::-1],xlRIGHT)\n",
      "xr = np.append(-xlLEFT[::-1],xrRIGHT)\n",
      "\n",
      "plt.figure(figsize=(24,18))\n",
      "\n",
      "dplt = 1\n",
      "\n",
      "for ii in range(1,Nx,dplt):\n",
      "    plt.plot([xl[ii],xl[ii]],[0,Lz],'-k')\n",
      "    \n",
      "#for ii in range(0,Nx,dplt):\n",
      "    #plt.plot([xr[ii],xr[ii]],[0,Lz],'-k')\n",
      "    \n",
      "for ii in range(1,Nz,dplt):\n",
      "    plt.plot([0-x_0,Lx-x_0],[zb[ii],zb[ii]],'-k')\n",
      "    \n",
      "#for ii in range(0,Nz,dplt):\n",
      "    #plt.plot([0-x_0,Lx-x_0],[zt[ii],zt[ii]],'-k')\n",
      " \n",
      "#plt.xlim((-1.5*R0,1.5*R0))\n",
      "#plt.ylim((0,1.5*R0))\n",
      "plt.xlim((-x_0,Lx-x_0))\n",
      "plt.ylim((0,Lz))"
     ],
     "language": "python",
     "metadata": {},
     "outputs": [
      {
       "output_type": "stream",
       "stream": "stdout",
       "text": [
        "Calculating 28 point grid\n",
        "N0  : 24\n",
        "N1  : 4\n",
        "N2  : 0\n",
        "dmin: 0.0015625\n",
        "dmax: 0.0240625\n",
        "Lx  : 0.1\n",
        "Calculating 36 point grid\n",
        "N0  : 24\n",
        "N1  : 4\n",
        "N2  : 8\n",
        "dmin: 0.0015625\n",
        "dmax: 0.0246529587156\n",
        "Lx  : 0.298699816514\n",
        "Calculating 64 point grid\n",
        "N0  : 48\n",
        "N1  : 5\n",
        "N2  : 11\n",
        "dmin: 0.0015625\n",
        "dmax: 0.0231435783551\n",
        "Lx  : 0.402135096972\n"
       ]
      },
      {
       "metadata": {},
       "output_type": "pyout",
       "prompt_number": 56,
       "text": [
        "(0, 0.4)"
       ]
      },
      {
       "metadata": {},
       "output_type": "display_data",
       "png": "[encoded data removed]",
       "text": [
        "<matplotlib.figure.Figure at 0x7f24303f5c50>"
       ]
      }
     ],
     "prompt_number": 56
    },
    {
     "cell_type": "code",
     "collapsed": false,
     "input": [
      "topo = np.zeros((Nx,1))\n",
      "\n",
      "for ii in range(0,Nx):\n",
      "  if xc[ii]**2 <= R0**2:\n",
      "    topo[ii] = np.sqrt(R0**2 - xc[ii]**2)\n",
      "    \n",
      "# define the depth of the domain\n",
      "depth = topo-Lz\n",
      "\n",
      "# flow variables\n",
      "Uinf = 0.01\n",
      "\n",
      "# boundary conditions\n",
      "U_lbc = np.zeros((Nz,1))+Uinf\n",
      "U_rbc = np.zeros((Nz,1))+Uinf\n",
      "\n",
      "# don't need to initialize the flow field here -- impulsively started runs\n",
      "#Uinit = np.zeros((Nz,Nx))+Uinf\n"
     ],
     "language": "python",
     "metadata": {},
     "outputs": [],
     "prompt_number": 57
    },
    {
     "cell_type": "code",
     "collapsed": false,
     "input": [
      "from scipy import interpolate\n",
      "from MITgcmutils import rdmds\n",
      "\n",
      "U1 = np.squeeze(rdmds('../../Unstratified_Cylinder/Resolution_Dependence/Re25_Final/Nx512Nz512/U',800000))\n",
      "X1 = np.squeeze(rdmds('../../Unstratified_Cylinder/Resolution_Dependence/Re25_Final/Nx512Nz512/XG'))\n",
      "Z1 = np.squeeze(rdmds('../../Unstratified_Cylinder/Resolution_Dependence/Re25_Final/Nx512Nz512/RC'))\n",
      "X1 = X1-0.1\n",
      "Z1 = -Z1[::-1]\n",
      "\n",
      "print U1.shape\n",
      "\n",
      "f = interpolate.interp2d(X1, Z1, U1, kind='linear')\n",
      "\n",
      "U2 = f(xl,zc)\n",
      "\n",
      "#X00 = np.arange(-0.1,0.3,0.4/128)\n",
      "#Z00 = np.arange(0,0.4,0.4/128)\n",
      "\n",
      "#U2 = f(Z1,X1)\n",
      "#U2 = f(X00,Z00)\n",
      "\n",
      "print U2.shape\n",
      "\n",
      "plt.figure(figsize=(24,9))\n",
      "plt.subplot(1,2,1)\n",
      "plt.contourf(X1,Z1,U1,100)\n",
      "plt.colorbar()\n",
      "plt.subplot(1,2,2)\n",
      "plt.contourf(xl,zc,U2,100)\n",
      "#plt.contourf(X00,Z00,U2,100)\n",
      "plt.colorbar()\n",
      "\n",
      "Uinit = U2"
     ],
     "language": "python",
     "metadata": {},
     "outputs": [
      {
       "output_type": "stream",
       "stream": "stderr",
       "text": [
        "../../Unstratified_Cylinder/Resolution_Dependence/Re25_Final/Nx512Nz512/U.0000800000.003.001.meta\n",
        "../../Unstratified_Cylinder/Resolution_Dependence/Re25_Final/Nx512Nz512/XG.007.001.meta\n",
        "../../Unstratified_Cylinder/Resolution_Dependence/Re25_Final/Nx512Nz512/RC.meta\n"
       ]
      },
      {
       "output_type": "stream",
       "stream": "stdout",
       "text": [
        "(512, 512)\n",
        "(64, 64)\n"
       ]
      },
      {
       "metadata": {},
       "output_type": "display_data",
       "png": "[encoded data removed]",
       "text": [
        "<matplotlib.figure.Figure at 0x7f242b3b8050>"
       ]
      }
     ],
     "prompt_number": 58
    },
    {
     "cell_type": "code",
     "collapsed": false,
     "input": [
      "# save the files\n",
      "w_type = np.dtype('>f8'); # set the writing to binary file type --- fortran write style, big endian\n",
      "\n",
      "# write the depth profile\n",
      "fname = 'Bathy_%d%d.bin' % (Nx,Nz); # filename\n",
      "fobj = open(fname,mode='wb'); # file object\n",
      "bathy_write = depth.reshape((1,Nx))\n",
      "bathy_write.astype(w_type).tofile(fobj); # write in correct format\n",
      "fobj.close(); # close to save\n",
      "\n",
      "\n",
      "# write the BCs\n",
      "fname = 'Ubc_%d%d.bin' % (Nx,Nz); #fname\n",
      "fobj = open(fname,mode='wb'); # handle\n",
      "U_lbc_write = U_lbc.reshape((1,Nz)); # reshape for correct ordering\n",
      "U_lbc_write.astype(w_type).tofile(fobj); # write\n",
      "fobj.close() # close\n",
      "\n",
      "fname = 'U0_%d%d.bin' % (Nx,Nz); # gen file name\n",
      "fobj = open(fname,mode='wb'); # get file handle\n",
      "Uwrite = Uinit[::-1,:]\n",
      "#Uwrite = Uinit.reshape((Nz,Nx)) # reshape for row/col ordering\n",
      "Uwrite.astype(w_type).tofile(fobj); # write as correct type to handle\n",
      "fobj.close(); # close to save\n",
      "\n",
      "fname = 'DelX_%d%d.bin' % (Nx,Nz)\n",
      "fobj = open(fname,mode='wb')\n",
      "dx_write = dx.reshape((1,Nx))\n",
      "dx_write.astype(w_type).tofile(fobj)\n",
      "fobj.close()\n",
      "\n",
      "fname = 'DelZ_%d%d.bin' % (Nx,Nz)\n",
      "fobj = open(fname,mode='wb')\n",
      "dz_write = dz[::-1].reshape((1,Nz))\n",
      "dz_write.astype(w_type).tofile(fobj)\n",
      "fobj.close()"
     ],
     "language": "python",
     "metadata": {},
     "outputs": [],
     "prompt_number": 59
    },
    {
     "cell_type": "code",
     "collapsed": false,
     "input": [
      "0.4/64"
     ],
     "language": "python",
     "metadata": {},
     "outputs": [
      {
       "metadata": {},
       "output_type": "pyout",
       "prompt_number": 61,
       "text": [
        "0.00625"
       ]
      }
     ],
     "prompt_number": 61
    },
    {
     "cell_type": "code",
     "collapsed": false,
     "input": [
      "np.shape(Uinit)"
     ],
     "language": "python",
     "metadata": {},
     "outputs": [
      {
       "metadata": {},
       "output_type": "pyout",
       "prompt_number": 33,
       "text": [
        "(512, 512)"
       ]
      }
     ],
     "prompt_number": 33
    },
    {
     "cell_type": "code",
     "collapsed": false,
     "input": [
      "8*512/768"
     ],
     "language": "python",
     "metadata": {},
     "outputs": [
      {
       "metadata": {},
       "output_type": "pyout",
       "prompt_number": 19,
       "text": [
        "5.333333333333333"
       ]
      }
     ],
     "prompt_number": 19
    },
    {
     "cell_type": "code",
     "collapsed": false,
     "input": [
      "1.6e7*5/4"
     ],
     "language": "python",
     "metadata": {},
     "outputs": [
      {
       "metadata": {},
       "output_type": "pyout",
       "prompt_number": 21,
       "text": [
        "20000000.0"
       ]
      }
     ],
     "prompt_number": 21
    },
    {
     "cell_type": "code",
     "collapsed": false,
     "input": [
      "0.025/(0.4/768)"
     ],
     "language": "python",
     "metadata": {},
     "outputs": [
      {
       "metadata": {},
       "output_type": "pyout",
       "prompt_number": 64,
       "text": [
        "48.0"
       ]
      }
     ],
     "prompt_number": 64
    },
    {
     "cell_type": "code",
     "collapsed": false,
     "input": [],
     "language": "python",
     "metadata": {},
     "outputs": [
      {
       "output_type": "stream",
       "stream": "stdout",
       "text": [
        "128128.mp4  domain_length_compare.ipynb   jan28.ipynb\r\n",
        "256256.mp4  feb2.ipynb\t\t\t  make_readme.py\r\n",
        "512512.mp4  gen_irregular_grid_ICs.ipynb  README.md\r\n",
        "build\t    jan21.ipynb\t\t\t  U0_512512.bin\r\n"
       ]
      }
     ],
     "prompt_number": 53
    },
    {
     "cell_type": "code",
     "collapsed": false,
     "input": [],
     "language": "python",
     "metadata": {},
     "outputs": []
    }
   ],
   "metadata": {}
  }
 ]
}