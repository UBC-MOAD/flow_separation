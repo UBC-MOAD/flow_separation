{
 "metadata": {
  "name": "",
  "signature": "sha256:ffa686bcb5b878cdec377858d08a3b7ee1929082f846f7bfaa5b31aba5b29b3b"
 },
 "nbformat": 3,
 "nbformat_minor": 0,
 "worksheets": [
  {
   "cells": [
    {
     "cell_type": "markdown",
     "metadata": {},
     "source": [
      "This notebook compares the NONHYDROSTATIC runs of flow-over-cylinder, and additionally looks at the separation point as a function of time."
     ]
    },
    {
     "cell_type": "code",
     "collapsed": false,
     "input": [
      "import numpy as np\n",
      "from MITgcmutils import rdmds\n",
      "import matplotlib.pyplot as plt\n",
      "\n",
      "%matplotlib inline"
     ],
     "language": "python",
     "metadata": {},
     "outputs": [],
     "prompt_number": 1
    },
    {
     "cell_type": "markdown",
     "metadata": {},
     "source": [
      "Set up the directories and the whatnots."
     ]
    },
    {
     "cell_type": "code",
     "collapsed": false,
     "input": [
      "dirNS = '../No_Slip_Cylinder/run4/'\n",
      "dirFS = '../Free_Slip_Cylinder/run4/'\n",
      "\n",
      "R0 = 0.025\n",
      "\n",
      "# define the no slip domain\n",
      "xNS = np.squeeze(rdmds(dirNS+'XC'))-0.2\n",
      "zNS = np.squeeze(rdmds(dirNS+'RC'))+0.4\n",
      "\n",
      "NxNS = len(xNS)\n",
      "NzNS = len(zNS)\n",
      "\n",
      "depthNS = np.squeeze(rdmds(dirNS+'Depth'))\n",
      "topoNS = np.max(depthNS)-depthNS\n",
      "\n",
      "# define the free slip domain\n",
      "xFS = np.squeeze(rdmds(dirFS+'XC'))-0.2\n",
      "zFS = np.squeeze(rdmds(dirFS+'RC'))+0.4\n",
      "\n",
      "NxFS = len(xFS)\n",
      "NzFS = len(zFS)\n",
      "\n",
      "depthFS = np.squeeze(rdmds(dirFS+'Depth'))\n",
      "topoFS = np.max(depthFS)-depthFS"
     ],
     "language": "python",
     "metadata": {},
     "outputs": [
      {
       "output_type": "stream",
       "stream": "stderr",
       "text": [
        "../No_Slip_Cylinder/run4/XC.008.001.meta\n",
        "../No_Slip_Cylinder/run4/RC.meta\n",
        "../No_Slip_Cylinder/run4/Depth.004.001.meta\n",
        "../Free_Slip_Cylinder/run4/XC.001.001.meta\n"
       ]
      },
      {
       "output_type": "stream",
       "stream": "stderr",
       "text": [
        "../Free_Slip_Cylinder/run4/RC.meta\n",
        "../Free_Slip_Cylinder/run4/Depth.001.001.meta\n"
       ]
      }
     ],
     "prompt_number": 176
    },
    {
     "cell_type": "markdown",
     "metadata": {},
     "source": [
      "We need the mask arrays to determine the exact location of where the topography begins and ends in the $u$ and $w$ fields."
     ]
    },
    {
     "cell_type": "code",
     "collapsed": false,
     "input": [
      "def get_mask(U0,Nx,Nz):\n",
      "    msk = np.zeros((Nz,Nx))\n",
      "    for jj in range(0,Nz):\n",
      "        for ii in range(0,Nx):\n",
      "            if U0[jj,ii] == 0:\n",
      "                msk[jj,ii] = 1\n",
      "    return msk"
     ],
     "language": "python",
     "metadata": {},
     "outputs": [],
     "prompt_number": 177
    },
    {
     "cell_type": "markdown",
     "metadata": {},
     "source": [
      "Generate the masks for the no slip and free slip cases."
     ]
    },
    {
     "cell_type": "code",
     "collapsed": false,
     "input": [
      "U0NS = np.squeeze(rdmds(dirNS+'U',0))\n",
      "U0FS = np.squeeze(rdmds(dirFS+'U',0))\n",
      "\n",
      "maskNS = get_mask(U0NS,NxNS,NzNS)\n",
      "maskFS = get_mask(U0FS,NxFS,NzFS)\n",
      "\n",
      "plt.figure()\n",
      "plt.imshow(maskNS)\n",
      "plt.show()"
     ],
     "language": "python",
     "metadata": {},
     "outputs": [
      {
       "output_type": "stream",
       "stream": "stderr",
       "text": [
        "../No_Slip_Cylinder/run4/U.0000000000.004.001.meta\n",
        "../Free_Slip_Cylinder/run4/U.0000000000.001.001.meta\n"
       ]
      },
      {
       "metadata": {},
       "output_type": "display_data",
       "png": "[encoded data removed]",
       "text": [
        "<matplotlib.figure.Figure at 0x7fc44b3b2450>"
       ]
      }
     ],
     "prompt_number": 178
    },
    {
     "cell_type": "markdown",
     "metadata": {},
     "source": [
      "Need a function to get the angular speed around the cylinder, $u_\\theta$."
     ]
    },
    {
     "cell_type": "code",
     "collapsed": false,
     "input": [
      "def get_polar_trans(x,z,U,W):\n",
      "    U_r = np.zeros(np.shape(U))\n",
      "    U_theta = np.zeros(np.shape(U))\n",
      "    \n",
      "    r = np.zeros(np.shape(U))\n",
      "    theta = np.zeros(np.shape(U))\n",
      "    \n",
      "    for jj,zz in enumerate(z):\n",
      "        for ii,xx in enumerate(x):\n",
      "            rr = np.sqrt(xx**2+zz**2)\n",
      "            thet = np.arctan2(zz,xx)\n",
      "            \n",
      "            r[jj,ii] = rr\n",
      "            theta[jj,ii] = thet\n",
      "            U_r[jj,ii] =U[jj,ii]*np.cos(thet) + W[jj,ii]*np.sin(thet);\n",
      "            U_theta[jj,ii] =-U[jj,ii]*np.sin(thet) + W[jj,ii]*np.cos(thet);\n",
      "            \n",
      "    return r,theta,U_r,U_theta"
     ],
     "language": "python",
     "metadata": {},
     "outputs": [],
     "prompt_number": 179
    },
    {
     "cell_type": "code",
     "collapsed": false,
     "input": [
      "U0NS = np.squeeze(rdmds(dirNS+'U',2000))\n",
      "W0NS = np.squeeze(rdmds(dirNS+'W',2000))\n",
      "rNS,thetNS,UNS_r,UNS_thet = get_polar_trans(xNS,zNS,U0NS,W0NS)\n",
      "\n",
      "U0FS = np.squeeze(rdmds(dirFS+'U',2000))\n",
      "W0FS = np.squeeze(rdmds(dirFS+'W',2000))\n",
      "rFS,thetFS,UFS_r,UFS_thet = get_polar_trans(xFS,zFS,U0FS,W0FS)"
     ],
     "language": "python",
     "metadata": {},
     "outputs": [
      {
       "output_type": "stream",
       "stream": "stderr",
       "text": [
        "../No_Slip_Cylinder/run4/U.0000002000.004.001.meta\n",
        "../No_Slip_Cylinder/run4/W.0000002000.004.001.meta\n",
        "../Free_Slip_Cylinder/run4/U.0000002000.001.001.meta\n"
       ]
      },
      {
       "output_type": "stream",
       "stream": "stderr",
       "text": [
        "../Free_Slip_Cylinder/run4/W.0000002000.001.001.meta\n"
       ]
      }
     ],
     "prompt_number": 180
    },
    {
     "cell_type": "code",
     "collapsed": false,
     "input": [
      "def find_dvtheta_dr(x,z,u,w,ux,uz,wx,wz):\n",
      "    return -(-wx*x**2+x*w-x*z*wz+x*z*ux-z*u+z**2*uz)/(x**2+z**2)**(1.5)\n",
      "\n",
      "def find_bd_pts(mask):\n",
      "    Nz,Nx = mask.shape\n",
      "    \n",
      "    bd_pts = []\n",
      "    for jj in range(0,Nz):\n",
      "        for ii in range(0,Nx):\n",
      "            if mask[jj,ii] == 1:\n",
      "                continue\n",
      "            elif ii+1 < Nx and mask[jj,ii+1] == 1:\n",
      "                bd_pts.append([jj,ii])\n",
      "            elif ii-1 >= 0  and mask[jj,ii-1] == 1:\n",
      "                bd_pts.append([jj,ii])\n",
      "            elif jj+1 < Nz and mask[jj+1,ii] == 1:\n",
      "                bd_pts.append([jj,ii])\n",
      "            elif jj-1 >= 0 and mask[jj-1,ii] == 1:\n",
      "                bd_pts.append([jj,ii])\n",
      "            elif jj+1 < Nz and ii+1 < Nx and mask[jj+1,ii+1] == 1:\n",
      "                bd_pts.append([jj,ii])\n",
      "            elif jj+1 < Nz and ii-1 >= 0 and mask[jj+1,ii-1] == 1:\n",
      "                bd_pts.append([jj,ii])\n",
      "            elif jj-1 >= 0 and ii+1 < Nx and mask[jj-1,ii+1] == 1:\n",
      "                bd_pts.append([jj,ii])\n",
      "            elif jj-1 >= 0 and ii-1 >= 0 and mask[jj-1,ii-1] == 1:\n",
      "                bd_pts.append([jj,ii])\n",
      "                \n",
      "    return bd_pts\n",
      "\n",
      "def calc_dvtheta_dr(X,Z,U,W,R0,Nx,Nz,bd_pts):\n",
      "    ''' calc_dvtheta_dr\n",
      "    Takes:\n",
      "      X: 1D array of x position values\n",
      "      Z: 1D array of z position values\n",
      "      U: 2D array of u values (ordered [Z,X])\n",
      "      W: 2D array of w values\n",
      "      R0: physical radius of cylinder (2.5cm)\n",
      "      Nx: number of x points in domain\n",
      "      Nz: number of z points in domain\n",
      "      bd_pts: boundary points\n",
      "    Returns:\n",
      "      theta_bd: the theta value of boundary points (in degrees, measured from the left\n",
      "                stagnation point)\n",
      "      dvtheta_dr: the derivative at the boundary points\n",
      " \n",
      "    This function calculates the value of dvtheta_dr for each boundary cell.\n",
      "    '''\n",
      "    dx = (X[-1]-X[0])/Nx\n",
      "    dz = abs((Z[-1]-Z[0])/Nz)\n",
      "\n",
      "    dvtheta_dr_bd = []\n",
      "    theta_bd = []\n",
      "\n",
      "    for ii in bd_pts:\n",
      "        xind = ii[1]\n",
      "        zind = ii[0]\n",
      "        xx = X[xind]\n",
      "        zz = Z[zind]\n",
      "        u_bd = U[zind,xind]\n",
      "        w_bd = W[zind,xind]\n",
      "        if xx < 0:\n",
      "            ux_bd = (U[zind,xind]-U[zind,xind-1])/dx\n",
      "            wx_bd = (W[zind,xind]-W[zind,xind-1])/dx\n",
      "        else:\n",
      "            ux_bd = (U[zind,xind+1]-U[zind,xind])/dx\n",
      "            wx_bd = (W[zind,xind+1]-W[zind,xind])/dx\n",
      "        uz_bd = (U[zind,xind])/dz\n",
      "        wz_bd = (W[zind,xind])/dz\n",
      "        dvtheta_dr_bd.append(find_dvtheta_dr(xx,zz,0,0,ux_bd,uz_bd,wx_bd,wz_bd))\n",
      "        theta_bd.append(np.arctan2(zz,xx)*360.0/(2*np.pi))\n",
      "\n",
      "    srt_ind = np.argsort(theta_bd)\n",
      "    \n",
      "    tsrt = []\n",
      "    dvtdr_srt = []\n",
      "    for ii in srt_ind:\n",
      "        tsrt.append(180-theta_bd[ii])\n",
      "        dvtdr_srt.append(dvtheta_dr_bd[ii])\n",
      "            \n",
      "    tsrt = tsrt[::-1]\n",
      "    dvtdr_srt = dvtdr_srt[::-1]\n",
      "    return tsrt,dvtdr_srt\n",
      "            "
     ],
     "language": "python",
     "metadata": {},
     "outputs": [],
     "prompt_number": 218
    },
    {
     "cell_type": "code",
     "collapsed": false,
     "input": [
      "bd_pts = find_bd_pts(maskNS)\n",
      "\n",
      "plt.imshow(maskNS)\n",
      "for ll in bd_pts:\n",
      "    plt.plot(ll[1],ll[0],'og')\n",
      "plt.xlim((256,280))\n",
      "plt.ylim((490,470))\n",
      "plt.title('Boundary point calculations')\n",
      "plt.show()"
     ],
     "language": "python",
     "metadata": {},
     "outputs": [
      {
       "metadata": {},
       "output_type": "display_data",
       "png": "[encoded data removed]",
       "text": [
        "<matplotlib.figure.Figure at 0x7fc449608990>"
       ]
      }
     ],
     "prompt_number": 219
    },
    {
     "cell_type": "code",
     "collapsed": false,
     "input": [
      "U0NS = np.squeeze(rdmds(dirNS+'U',0))\n",
      "\n",
      "maskNS = get_mask(U0NS,NxNS,NzNS)\n",
      "bd_ptsNS = find_bd_pts(maskNS)\n",
      "\n",
      "UNS = np.squeeze(rdmds(dirNS+'U',6000))\n",
      "WNS = np.squeeze(rdmds(dirNS+'W',6000))\n",
      "theta_bdNS, dvtheta_dr_bdNS = calc_dvtheta_dr(xNS,zNS,UNS,WNS,R0,NxNS,NzNS,bd_ptsNS)"
     ],
     "language": "python",
     "metadata": {},
     "outputs": [
      {
       "output_type": "stream",
       "stream": "stderr",
       "text": [
        "../No_Slip_Cylinder/run4/U.0000000000.004.001.meta\n",
        "../No_Slip_Cylinder/run4/U.0000006000.004.001.meta\n"
       ]
      },
      {
       "output_type": "stream",
       "stream": "stderr",
       "text": [
        "../No_Slip_Cylinder/run4/W.0000006000.004.001.meta\n"
       ]
      }
     ],
     "prompt_number": 266
    },
    {
     "cell_type": "code",
     "collapsed": false,
     "input": [
      "plt.plot(theta_bdNS,dvtheta_dr_bdNS,'.k')\n",
      "plt.grid()"
     ],
     "language": "python",
     "metadata": {},
     "outputs": [
      {
       "metadata": {},
       "output_type": "display_data",
       "png": "[encoded data removed]",
       "text": [
        "<matplotlib.figure.Figure at 0x7fc44469dd90>"
       ]
      }
     ],
     "prompt_number": 267
    },
    {
     "cell_type": "code",
     "collapsed": false,
     "input": [
      "def find_zero(theta_bd,dvtheta_dr_bd):\n",
      "    ''' find_zero\n",
      "    Takes:\n",
      "      theta_bd: 1D array of theta values at boundary\n",
      "      dvtheta_dr_bd: 1D array of derivative at boundary\n",
      "    Returns:\n",
      "      theta_0: the value of theta where the derivative is zero\n",
      "\n",
      "    This function approximately determines where the zero of the derivative at the boundary occurs.\n",
      "    Effectively this finds the separation point.\n",
      "    '''\n",
      "    prev_val = dvtheta_dr_bd[0]\n",
      "    curr_val = -1\n",
      "    theta_0 = 180\n",
      "    for ii in range(1,len(dvtheta_dr_bd)):\n",
      "        curr_val = dvtheta_dr_bd[ii]\n",
      "        if prev_val < 0 and curr_val > 0:\n",
      "            print \"Found zero!\"\n",
      "            theta_0 = theta_bd[ii-1]\n",
      "            break\n",
      "        prev_val = curr_val\n",
      "    return theta_0\n"
     ],
     "language": "python",
     "metadata": {},
     "outputs": [],
     "prompt_number": 222
    },
    {
     "cell_type": "code",
     "collapsed": false,
     "input": [
      "sep_pt = []\n",
      "for jj in range(2000,52001,2000):\n",
      "    UNS = np.squeeze(rdmds(dirNS+'U',jj))\n",
      "    WNS = np.squeeze(rdmds(dirNS+'W',jj))\n",
      "    theta_bdNS, dvtheta_dr_bdNS = calc_dvtheta_dr(xNS,zNS,UNS,WNS,R0,NxNS,NzNS,bd_ptsNS)\n",
      "    sep_pt.append(find_zero(theta_bdNS,dvtheta_dr_bdNS))"
     ],
     "language": "python",
     "metadata": {},
     "outputs": [
      {
       "output_type": "stream",
       "stream": "stderr",
       "text": [
        "../No_Slip_Cylinder/run4/U.0000002000.004.001.meta\n",
        "../No_Slip_Cylinder/run4/W.0000002000.004.001.meta\n",
        "../No_Slip_Cylinder/run4/U.0000004000.006.001.meta\n"
       ]
      },
      {
       "output_type": "stream",
       "stream": "stderr",
       "text": [
        "../No_Slip_Cylinder/run4/W.0000004000.008.001.meta\n",
        "../No_Slip_Cylinder/run4/U.0000006000.004.001.meta\n",
        "../No_Slip_Cylinder/run4/W.0000006000.004.001.meta\n"
       ]
      },
      {
       "output_type": "stream",
       "stream": "stdout",
       "text": [
        "Found zero!\n",
        "Found zero!"
       ]
      },
      {
       "output_type": "stream",
       "stream": "stderr",
       "text": [
        "../No_Slip_Cylinder/run4/U.0000008000.008.001.meta\n",
        "../No_Slip_Cylinder/run4/W.0000008000.005.001.meta\n",
        "../No_Slip_Cylinder/run4/U.0000010000.004.001.meta\n"
       ]
      },
      {
       "output_type": "stream",
       "stream": "stdout",
       "text": [
        "\n",
        "Found zero!"
       ]
      },
      {
       "output_type": "stream",
       "stream": "stderr",
       "text": [
        "../No_Slip_Cylinder/run4/W.0000010000.007.001.meta\n",
        "../No_Slip_Cylinder/run4/U.0000012000.001.001.meta\n",
        "../No_Slip_Cylinder/run4/W.0000012000.005.001.meta\n"
       ]
      },
      {
       "output_type": "stream",
       "stream": "stdout",
       "text": [
        "\n",
        "Found zero!"
       ]
      },
      {
       "output_type": "stream",
       "stream": "stdout",
       "text": [
        "\n",
        "Found zero!"
       ]
      },
      {
       "output_type": "stream",
       "stream": "stderr",
       "text": [
        "../No_Slip_Cylinder/run4/U.0000014000.001.001.meta\n",
        "../No_Slip_Cylinder/run4/W.0000014000.005.001.meta\n",
        "../No_Slip_Cylinder/run4/U.0000016000.006.001.meta\n"
       ]
      },
      {
       "output_type": "stream",
       "stream": "stdout",
       "text": [
        "\n",
        "Found zero!"
       ]
      },
      {
       "output_type": "stream",
       "stream": "stderr",
       "text": [
        "../No_Slip_Cylinder/run4/W.0000016000.002.001.meta\n",
        "../No_Slip_Cylinder/run4/U.0000018000.004.001.meta\n",
        "../No_Slip_Cylinder/run4/W.0000018000.001.001.meta\n"
       ]
      },
      {
       "output_type": "stream",
       "stream": "stdout",
       "text": [
        "\n",
        "Found zero!"
       ]
      },
      {
       "output_type": "stream",
       "stream": "stdout",
       "text": [
        "\n",
        "Found zero!"
       ]
      },
      {
       "output_type": "stream",
       "stream": "stderr",
       "text": [
        "../No_Slip_Cylinder/run4/U.0000020000.006.001.meta\n",
        "../No_Slip_Cylinder/run4/W.0000020000.001.001.meta\n",
        "../No_Slip_Cylinder/run4/U.0000022000.004.001.meta\n"
       ]
      },
      {
       "output_type": "stream",
       "stream": "stdout",
       "text": [
        "\n",
        "Found zero!"
       ]
      },
      {
       "output_type": "stream",
       "stream": "stderr",
       "text": [
        "../No_Slip_Cylinder/run4/W.0000022000.003.001.meta\n",
        "../No_Slip_Cylinder/run4/U.0000024000.007.001.meta\n",
        "../No_Slip_Cylinder/run4/W.0000024000.008.001.meta\n"
       ]
      },
      {
       "output_type": "stream",
       "stream": "stdout",
       "text": [
        "\n",
        "Found zero!"
       ]
      },
      {
       "output_type": "stream",
       "stream": "stdout",
       "text": [
        "\n",
        "Found zero!"
       ]
      },
      {
       "output_type": "stream",
       "stream": "stderr",
       "text": [
        "../No_Slip_Cylinder/run4/U.0000026000.002.001.meta\n",
        "../No_Slip_Cylinder/run4/W.0000026000.004.001.meta\n",
        "../No_Slip_Cylinder/run4/U.0000028000.004.001.meta\n"
       ]
      },
      {
       "output_type": "stream",
       "stream": "stdout",
       "text": [
        "\n",
        "Found zero!"
       ]
      },
      {
       "output_type": "stream",
       "stream": "stderr",
       "text": [
        "../No_Slip_Cylinder/run4/W.0000028000.008.001.meta\n",
        "../No_Slip_Cylinder/run4/U.0000030000.003.001.meta\n",
        "../No_Slip_Cylinder/run4/W.0000030000.008.001.meta\n"
       ]
      },
      {
       "output_type": "stream",
       "stream": "stdout",
       "text": [
        "\n",
        "Found zero!"
       ]
      },
      {
       "output_type": "stream",
       "stream": "stdout",
       "text": [
        "\n",
        "Found zero!"
       ]
      },
      {
       "output_type": "stream",
       "stream": "stderr",
       "text": [
        "../No_Slip_Cylinder/run4/U.0000032000.003.001.meta\n",
        "../No_Slip_Cylinder/run4/W.0000032000.008.001.meta\n",
        "../No_Slip_Cylinder/run4/U.0000034000.008.001.meta\n"
       ]
      },
      {
       "output_type": "stream",
       "stream": "stdout",
       "text": [
        "\n",
        "Found zero!"
       ]
      },
      {
       "output_type": "stream",
       "stream": "stderr",
       "text": [
        "../No_Slip_Cylinder/run4/W.0000034000.005.001.meta\n",
        "../No_Slip_Cylinder/run4/U.0000036000.005.001.meta\n",
        "../No_Slip_Cylinder/run4/W.0000036000.007.001.meta\n"
       ]
      },
      {
       "output_type": "stream",
       "stream": "stdout",
       "text": [
        "\n",
        "Found zero!"
       ]
      },
      {
       "output_type": "stream",
       "stream": "stdout",
       "text": [
        "\n",
        "Found zero!"
       ]
      },
      {
       "output_type": "stream",
       "stream": "stderr",
       "text": [
        "../No_Slip_Cylinder/run4/U.0000038000.005.001.meta\n",
        "../No_Slip_Cylinder/run4/W.0000038000.008.001.meta\n",
        "../No_Slip_Cylinder/run4/U.0000040000.005.001.meta\n"
       ]
      },
      {
       "output_type": "stream",
       "stream": "stdout",
       "text": [
        "\n",
        "Found zero!"
       ]
      },
      {
       "output_type": "stream",
       "stream": "stderr",
       "text": [
        "../No_Slip_Cylinder/run4/W.0000040000.007.001.meta\n",
        "../No_Slip_Cylinder/run4/U.0000042000.005.001.meta\n",
        "../No_Slip_Cylinder/run4/W.0000042000.003.001.meta\n"
       ]
      },
      {
       "output_type": "stream",
       "stream": "stdout",
       "text": [
        "\n",
        "Found zero!"
       ]
      },
      {
       "output_type": "stream",
       "stream": "stdout",
       "text": [
        "\n",
        "Found zero!"
       ]
      },
      {
       "output_type": "stream",
       "stream": "stderr",
       "text": [
        "../No_Slip_Cylinder/run4/U.0000044000.004.001.meta\n",
        "../No_Slip_Cylinder/run4/W.0000044000.001.001.meta\n",
        "../No_Slip_Cylinder/run4/U.0000046000.005.001.meta\n"
       ]
      },
      {
       "output_type": "stream",
       "stream": "stdout",
       "text": [
        "\n",
        "Found zero!"
       ]
      },
      {
       "output_type": "stream",
       "stream": "stderr",
       "text": [
        "../No_Slip_Cylinder/run4/W.0000046000.008.001.meta\n",
        "../No_Slip_Cylinder/run4/U.0000048000.004.001.meta\n",
        "../No_Slip_Cylinder/run4/W.0000048000.001.001.meta\n"
       ]
      },
      {
       "output_type": "stream",
       "stream": "stdout",
       "text": [
        "\n",
        "Found zero!"
       ]
      },
      {
       "output_type": "stream",
       "stream": "stdout",
       "text": [
        "\n",
        "Found zero!"
       ]
      },
      {
       "output_type": "stream",
       "stream": "stderr",
       "text": [
        "../No_Slip_Cylinder/run4/U.0000050000.006.001.meta\n",
        "../No_Slip_Cylinder/run4/W.0000050000.003.001.meta\n",
        "../No_Slip_Cylinder/run4/U.0000052000.004.001.meta\n"
       ]
      },
      {
       "output_type": "stream",
       "stream": "stdout",
       "text": [
        "\n",
        "Found zero!\n"
       ]
      },
      {
       "output_type": "stream",
       "stream": "stderr",
       "text": [
        "../No_Slip_Cylinder/run4/W.0000052000.001.001.meta\n"
       ]
      }
     ],
     "prompt_number": 223
    },
    {
     "cell_type": "code",
     "collapsed": false,
     "input": [
      "t=np.linspace(1,len(sep_pt),len(sep_pt))\n",
      "plt.plot(sep_pt,t,'ok',label='MITgcm')\n",
      "plt.plot(108+0*t,t,'--k',label='theory')\n",
      "plt.grid()\n",
      "plt.ylabel('t in sec')\n",
      "plt.xlabel('Separation point')\n",
      "plt.ylim((0,26))\n",
      "plt.legend()\n",
      "plt.show()"
     ],
     "language": "python",
     "metadata": {},
     "outputs": [
      {
       "metadata": {},
       "output_type": "display_data",
       "png": "[encoded data removed]",
       "text": [
        "<matplotlib.figure.Figure at 0x7fc447ce9950>"
       ]
      }
     ],
     "prompt_number": 224
    },
    {
     "cell_type": "code",
     "collapsed": false,
     "input": [
      "UNS = np.squeeze(rdmds(dirNS+'U',52000))\n",
      "WNS = np.squeeze(rdmds(dirNS+'W',52000))\n",
      "vortNS = np.hstack((np.diff(WNS,axis=1),np.zeros((NxNS,1))))-np.vstack((np.diff(UNS,axis=0),np.zeros((1,NzNS))))\n",
      "\n",
      "plt.contour(xNS,zNS,vortNS,100)\n",
      "plt.xlim((-0.05,0.2))\n",
      "plt.ylim((0,0.15))\n",
      "plt.clim((-0.002,0.002))\n",
      "plt.colorbar()"
     ],
     "language": "python",
     "metadata": {},
     "outputs": [
      {
       "output_type": "stream",
       "stream": "stderr",
       "text": [
        "../No_Slip_Cylinder/run4/U.0000052000.004.001.meta\n",
        "../No_Slip_Cylinder/run4/W.0000052000.001.001.meta\n"
       ]
      },
      {
       "metadata": {},
       "output_type": "pyout",
       "prompt_number": 259,
       "text": [
        "<matplotlib.colorbar.Colorbar instance at 0x7fc44471e6c8>"
       ]
      },
      {
       "metadata": {},
       "output_type": "display_data",
       "png": "[encoded data removed]",
       "text": [
        "<matplotlib.figure.Figure at 0x7fc444636cd0>"
       ]
      }
     ],
     "prompt_number": 259
    },
    {
     "cell_type": "code",
     "collapsed": false,
     "input": [
      "UFS = np.squeeze(rdmds(dirFS+'U',52000))\n",
      "WFS = np.squeeze(rdmds(dirFS+'W',52000))\n",
      "vortFS = np.hstack((np.diff(WFS,axis=1),np.zeros((NxFS,1))))-np.vstack((np.diff(UFS,axis=0),np.zeros((1,NzFS))))\n",
      "\n",
      "plt.contour(xFS,zFS,vortFS,100)\n",
      "plt.xlim((-0.05,0.15))\n",
      "plt.ylim((0,0.15))"
     ],
     "language": "python",
     "metadata": {},
     "outputs": [
      {
       "output_type": "stream",
       "stream": "stderr",
       "text": [
        "../Free_Slip_Cylinder/run4/U.0000052000.001.001.meta\n",
        "../Free_Slip_Cylinder/run4/W.0000052000.001.001.meta\n"
       ]
      },
      {
       "metadata": {},
       "output_type": "pyout",
       "prompt_number": 260,
       "text": [
        "(0, 0.15)"
       ]
      },
      {
       "metadata": {},
       "output_type": "display_data",
       "png": "[encoded data removed]",
       "text": [
        "<matplotlib.figure.Figure at 0x7fc4446b3410>"
       ]
      }
     ],
     "prompt_number": 260
    },
    {
     "cell_type": "code",
     "collapsed": false,
     "input": [],
     "language": "python",
     "metadata": {},
     "outputs": [],
     "prompt_number": 244
    },
    {
     "cell_type": "code",
     "collapsed": false,
     "input": [],
     "language": "python",
     "metadata": {},
     "outputs": []
    }
   ],
   "metadata": {}
  }
 ]
}