{
 "metadata": {
  "name": "",
  "signature": "sha256:0fa98c196f6b68db26f9f42fa4fa6eb40420eabc293a07ed71bc611b482b8006"
 },
 "nbformat": 3,
 "nbformat_minor": 0,
 "worksheets": [
  {
   "cells": [
    {
     "cell_type": "markdown",
     "metadata": {},
     "source": [
      "This notebook derives the finite difference algorithm needed to approximate the time-dependent boundary layer equations."
     ]
    },
    {
     "cell_type": "code",
     "collapsed": false,
     "input": [
      "import numpy as np\n",
      "import matplotlib.pyplot as plt\n",
      "\n",
      "%matplotlib inline"
     ],
     "language": "python",
     "metadata": {},
     "outputs": [],
     "prompt_number": 1
    },
    {
     "cell_type": "markdown",
     "metadata": {},
     "source": [
      "The basic equations to solve are:\n",
      "\\begin{align}\n",
      "\\frac{\\partial u}{\\partial t} + u \\frac{\\partial u}{\\partial X} + w \\frac{\\partial u}{\\partial Z} &= U_e(X) \\frac{dU_e}{dx} + \\nu \\frac{\\partial^2 u}{\\partial Z^2}, \\\\\n",
      "\\frac{\\partial u}{\\partial X} + \\frac{\\partial w}{\\partial Z} &= 0.\n",
      "\\end{align}\n",
      "\n",
      "Finite difference notation is:\n",
      "\\begin{align}\n",
      "u_{i,j}^n = \\hbox{the numerical value of $u$ at $X=X_i$, $Z=Z_j$, and $t=t_n$}.\n",
      "\\end{align}\n",
      "\n",
      "Thus a centered approximation to the first derivative of $u$ with respect to $X$ is:\n",
      "\\begin{align}\n",
      "\\frac{\\partial u}{\\partial X} \\approx \\frac{u_{i+1,j}^n - u_{i-1,j}^n}{2 \\Delta X}.\n",
      "\\end{align}"
     ]
    },
    {
     "cell_type": "markdown",
     "metadata": {},
     "source": [
      "The basic equations may be simplified into streamfunction formulation:\n",
      "\\begin{align}\n",
      "\\frac{\\partial \\psi}{\\partial Z} \\frac{\\partial^2 \\psi}{\\partial X \\partial Z} - \\frac{\\partial \\psi}{\\partial X} \\frac{\\partial^2 \\psi}{\\partial Z^2} - \\nu \\frac{\\partial^3 \\psi}{\\partial Z^3} = U_e \\frac{d U_e}{dX},\n",
      "\\end{align}\n",
      "where:\n",
      "\\begin{align}\n",
      "u = \\frac{\\partial \\psi}{\\partial Z}, \\qquad w = -\\frac{\\partial \\psi}{\\partial X}.\n",
      "\\end{align}"
     ]
    },
    {
     "cell_type": "markdown",
     "metadata": {},
     "source": [
      "This streamfunction must satisfy the following boundary conditions:\n",
      "\\begin{align}\n",
      "\\frac{\\partial \\psi}{\\partial X} = \\frac{\\partial \\psi}{\\partial Z} = 0 \\qquad \\hbox{at $Z=0$}, \\\\\n",
      "\\lim_{Z\\to \\infty} \\frac{\\partial \\psi}{\\partial Z} = U_e(X).\n",
      "\\end{align}"
     ]
    },
    {
     "cell_type": "markdown",
     "metadata": {},
     "source": [
      "Naively, we can simply introduce the finite difference notation to the streamfunction equation:\n",
      "\\begin{align}\n",
      "\\frac{\\psi_{i,j+1}-\\psi_{i,j-1}}{2\\Delta Z} \\frac{\\psi_{i+1,j+1}-\\psi_{i+1,j-1}-\\psi_{i-1,j+1}+\\psi_{i-1,j-1}}{4\\Delta X \\Delta Z} - \\frac{\\psi_{i+1,j}-\\psi_{i-1,j}}{2\\Delta X} \\frac{\\psi_{i,j+1}-2\\psi_{i,j}+\\psi_{i,j-1}}{\\Delta Z^2}-\\nu \\frac{-\\tfrac{1}{2} \\psi_{i,j-2} + \\psi_{i,j-1} - \\psi_{i,j+1} + \\tfrac{1}{2} \\psi_{i,j+2}}{\\Delta Z^3} = U_e \\frac{d U_e}{dx}.\n",
      "\\end{align}"
     ]
    },
    {
     "cell_type": "markdown",
     "metadata": {},
     "source": [
      "Using the relaxation method, this equation will be solved iteratively until a solution is converged to."
     ]
    },
    {
     "cell_type": "markdown",
     "metadata": {},
     "source": [
      "\\begin{align}\n",
      "-\\psi_{i,j-2}^{N+1} + 2\\psi_{i,j-1}^{N+1} - 2\\psi_{i,j+1}^{N+1} + \\psi_{i,j+2}^{N+1} = -\\frac{2 \\Delta Z^3}{\\nu} \\left[ \\left( U_e \\frac{dU_e}{dx} \\right|_{i} - \\frac{\\psi_{i,j+1}^N - \\psi_{i,j-1}^N}{2\\Delta Z} \\frac{\\psi_{i+1,j+1}^N - \\psi_{i+1,j-1}^N - \\psi_{i-1,j+1}^N + \\psi_{i-1,j-1}^N}{4\\Delta X \\Delta Z} + \\frac{\\psi_{i+1,j}^N - \\psi_{i-1,j}^N}{2\\Delta X} \\frac{\\psi_{i,j+1}^N - 2 \\psi_{i,j}^N + \\psi_{i,j-1}^N}{\\Delta Z^2} \\right].\n",
      "\\end{align}"
     ]
    },
    {
     "cell_type": "markdown",
     "metadata": {},
     "source": [
      "The boundary conditions in finite difference form become:\n",
      "\\begin{align}\n",
      "\\frac{\\psi_{i,0}-\\psi_{i-1,0}}{\\Delta X} = 0, \\\\\n",
      "\\frac{\\psi_{i,1} - \\psi_{i,0}}{\\Delta Z} = 0.\n",
      "\\end{align}\n",
      "And the far field condition is:\n",
      "\\begin{align}\n",
      "\\frac{\\psi_{i,J}-\\psi_{i,J-1}}{\\Delta Z} = \\left. U_e \\right|_i\n",
      "\\end{align}"
     ]
    },
    {
     "cell_type": "markdown",
     "metadata": {},
     "source": [
      "It can be noted that in the above relaxation method equation, everytime a $0$ or a $J$ is encountered in the indices $i,j$, then the equation is modified due to the BCs and FFCs. "
     ]
    },
    {
     "cell_type": "markdown",
     "metadata": {},
     "source": [
      "The simplest way of evaluating this enormous equation is to use the method of ghost cells that match the internal cell values to satisfy the Neumann conditions."
     ]
    },
    {
     "cell_type": "code",
     "collapsed": false,
     "input": [],
     "language": "python",
     "metadata": {},
     "outputs": []
    }
   ],
   "metadata": {}
  }
 ]
}