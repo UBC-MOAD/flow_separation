{
 "metadata": {
  "name": "",
  "signature": "sha256:fedbe7471608486d1e1c4f14b000ddb67684d4d3a2a681095a8519430e80d16b"
 },
 "nbformat": 3,
 "nbformat_minor": 0,
 "worksheets": [
  {
   "cells": [
    {
     "cell_type": "code",
     "collapsed": false,
     "input": [
      "import numpy as np\n",
      "import matplotlib.pyplot as plt\n",
      "from MITgcmutils import rdmds\n",
      "\n",
      "import matplotlib.pylab as pylab\n",
      "pylab.rcParams['figure.figsize'] = (16,12)\n",
      "\n",
      "from matplotlib import rc\n",
      "#rc('font',**{'family':'sans-serif','sans-serif':['Helvetica']})\n",
      "## for Palatino and other serif fonts use:\n",
      "#rc('font',**{'family':'serif','serif':['Palatino']})\n",
      "rc('text', usetex=True)\n",
      "\n",
      "%matplotlib inline"
     ],
     "language": "python",
     "metadata": {},
     "outputs": [],
     "prompt_number": 1
    },
    {
     "cell_type": "code",
     "collapsed": false,
     "input": [
      "_dir = '../../CylinderNx1024Nz128/'\n",
      "outnum=10000;\n",
      "U=np.squeeze(rdmds(_dir+'U',outnum))\n",
      "X=np.squeeze(rdmds(_dir+'XG'))-0.5;\n",
      "Z=np.squeeze(rdmds(_dir+'RC'))+0.1;\n",
      "depth=np.squeeze(rdmds(_dir+'Depth'))+0.1;\n",
      "W=np.squeeze(rdmds(_dir+'W',outnum))\n",
      "T=np.squeeze(rdmds(_dir+'T',outnum))"
     ],
     "language": "python",
     "metadata": {},
     "outputs": [
      {
       "output_type": "stream",
       "stream": "stderr",
       "text": [
        "../../CylinderNx1024Nz128/U.0000010000.004.001.meta\n",
        "../../CylinderNx1024Nz128/XG.007.001.meta\n"
       ]
      },
      {
       "output_type": "stream",
       "stream": "stderr",
       "text": [
        "../../CylinderNx1024Nz128/RC.meta\n",
        "../../CylinderNx1024Nz128/Depth.004.001.meta\n",
        "../../CylinderNx1024Nz128/W.0000010000.007.001.meta\n"
       ]
      },
      {
       "output_type": "stream",
       "stream": "stderr",
       "text": [
        "../../CylinderNx1024Nz128/T.0000010000.005.001.meta\n"
       ]
      }
     ],
     "prompt_number": 149
    },
    {
     "cell_type": "code",
     "collapsed": false,
     "input": [
      "U0 = 0.01; R0 = 0.025; # incoming/outgoing speed and topographic parameter\n",
      "[XX,ZZ] = np.meshgrid(X,Z,sparse=False,indexing='ij')\n",
      "\n",
      "phi_pot = U0*XX*(1+R0**2/(XX**2+ZZ**2))\n",
      "U_pot = -U0*(-XX**4-2*XX**2*ZZ**2-ZZ**4+XX**2*R0**2-R0**2*ZZ**2)/(XX**2+ZZ**2)**2\n",
      "W_pot = -2*U0*R0**2*XX*ZZ/(XX**2+ZZ**2)**2\n",
      "for jj in range(0,256):\n",
      "    for ii in range(0,1024):\n",
      "        if XX[ii,jj]**2+ZZ[ii,jj]**2 <= R0**2:\n",
      "            U_pot[ii,jj] = 0;\n",
      "            W_pot[ii,jj] = 0;\n",
      "            \n",
      "alph = 108.8*0.0174532925;\n",
      "sep_x = R0*np.cos(np.pi-alph)\n",
      "sep_z = R0*np.sin(np.pi-alph)"
     ],
     "language": "python",
     "metadata": {},
     "outputs": [],
     "prompt_number": 102
    },
    {
     "cell_type": "code",
     "collapsed": false,
     "input": [
      "plt.subplot(2,1,1)\n",
      "plt.pcolor(XX,ZZ,U_pot,cmap='Spectral_r');\n",
      "plt.colorbar();\n",
      "#plt.plot(X-0.5,0.1-depth,'-k',drawstyle='steps')\n",
      "plt.xlim((0,R0))\n",
      "plt.clim((0,0.015))\n",
      "plt.ylim((0,2*R0))\n",
      "plt.title('Potential theory U field')\n",
      "\n",
      "plt.plot(sep_x,sep_z,'ok')\n",
      "\n",
      "plt.subplot(2,1,2)\n",
      "plt.pcolor(X,Z,U,cmap='Spectral_r');\n",
      "plt.colorbar();\n",
      "#plt.plot(X-0.5,0.1-depth,'-k',drawstyle='steps')\n",
      "plt.xlim((0,R0))\n",
      "plt.clim((0,0.015))\n",
      "plt.ylim((0,2*R0))\n",
      "plt.title('MITgcm U field')\n",
      "plt.plot(sep_x,sep_z,'ok')\n",
      "plt.show();"
     ],
     "language": "python",
     "metadata": {},
     "outputs": [
      {
       "metadata": {},
       "output_type": "display_data",
       "png": "[encoded data removed]",
       "text": [
        "<matplotlib.figure.Figure at 0x7fbc7232ab50>"
       ]
      }
     ],
     "prompt_number": 148
    },
    {
     "cell_type": "code",
     "collapsed": false,
     "input": [
      "def find_dvtheta_dr(x,z,u,w,ux,uz,wx,wz):\n",
      "    return -(-wx*x**2+x*w-x*z*wz+x*z*ux-z*u+z**2*uz)/(x**2+z**2)**(1.5)"
     ],
     "language": "python",
     "metadata": {},
     "outputs": [],
     "prompt_number": 104
    },
    {
     "cell_type": "code",
     "collapsed": false,
     "input": [
      "def calc_dvtheta_dr(X,Z,U,W,R0,Nx,Nz):\n",
      "    bd_pts = []\n",
      "    bd_xz = []\n",
      "    u_bd = []\n",
      "    w_bd = []\n",
      "    ux_bd = []\n",
      "    wx_bd = []\n",
      "    uz_bd = []\n",
      "    wz_bd = []\n",
      "    dvtheta_dr_bd = []\n",
      "    theta_bd = []\n",
      "\n",
      "    dx = 1.0/Nx\n",
      "    dz = 0.1/Nz\n",
      "\n",
      "    for itr,ii in enumerate(X):\n",
      "        if ii > -R0 and ii < R0:\n",
      "            zz = np.sqrt(R0**2-ii**2)+dz\n",
      "            zind = min(range(len(Z)), key=lambda i: abs(Z[i]-zz))\n",
      "            bd_pts.append([zind,itr])\n",
      "            bd_xz.append([ii,zz])\n",
      "            u_bd.append(U[zind,itr])\n",
      "            w_bd.append(W[zind,itr])\n",
      "            if ii < 0:\n",
      "                ux_bd.append((U[zind,itr]-U[zind,itr-1])/dx)\n",
      "                wx_bd.append((W[zind,itr]-W[zind,itr-1])/dz)\n",
      "            else:\n",
      "                ux_bd.append((U[zind,itr+1]-U[zind,itr])/dx)\n",
      "                wx_bd.append((W[zind,itr+1]-W[zind,itr])/dz)\n",
      "            #uz_bd.append((U[zind-1,itr]-U[zind,itr])/dz)\n",
      "            #wz_bd.append((W[zind-1,itr]-W[zind,itr])/dz)\n",
      "            uz_bd.append((U[zind,itr])/dz)\n",
      "            wz_bd.append((W[zind,itr])/dz)\n",
      "            #dvtheta_dr_bd.append(find_dvtheta_dr(ii,zz,u_bd[-1],w_bd[-1],ux_bd[-1],uz_bd[-1],wx_bd[-1],wz_bd[-1]))\n",
      "            dvtheta_dr_bd.append(find_dvtheta_dr(ii,zz,0,0,ux_bd[-1],uz_bd[-1],wx_bd[-1],wz_bd[-1]))\n",
      "            theta_bd.append(np.arccos(-ii/np.sqrt(ii**2+zz**2))*360.0/(2*np.pi))\n",
      "            \n",
      "    return theta_bd,dvtheta_dr_bd"
     ],
     "language": "python",
     "metadata": {},
     "outputs": [],
     "prompt_number": 129
    },
    {
     "cell_type": "code",
     "collapsed": false,
     "input": [
      "def find_zero(theta_bd,dvtheta_dr_bd):\n",
      "    prev_val = dvtheta_dr_bd[0]\n",
      "    curr_val = -1\n",
      "    theta_0 = 180\n",
      "    for ii in range(1,len(dvtheta_dr_bd)):\n",
      "        curr_val = dvtheta_dr_bd[ii]\n",
      "        if prev_val < 0 and curr_val >= 0:\n",
      "            print \"Found zero!\"\n",
      "            theta_0 = (theta_bd[ii]+theta_bd[ii-1])/2\n",
      "            break\n",
      "        prev_val = curr_val\n",
      "    return theta_0"
     ],
     "language": "python",
     "metadata": {},
     "outputs": [],
     "prompt_number": 125
    },
    {
     "cell_type": "code",
     "collapsed": false,
     "input": [
      "[theta_bd,dvtheta_dr_bd] = calc_dvtheta_dr(X,Z,U,W,R0,1024,128)\n",
      "\n",
      "pylab.rcParams['figure.figsize'] = (16,16)\n",
      "\n",
      "plt.plot(theta_bd,dvtheta_dr_bd,'-k')\n",
      "plt.xlabel('angle from upstream stagnation point')\n",
      "theta_0 = find_zero(theta_bd,dvtheta_dr_bd)\n",
      "plt.plot(theta_0,0,'or')\n",
      "plt.ylim((-200,200))\n",
      "plt.grid()\n",
      "plt.title(r'$\\frac{\\partial v_{\\theta}}{\\partial r}$')\n",
      "\n",
      "plt.show()"
     ],
     "language": "python",
     "metadata": {},
     "outputs": [
      {
       "metadata": {},
       "output_type": "display_data",
       "png": "[encoded data removed]",
       "text": [
        "<matplotlib.figure.Figure at 0x7fbc72397250>"
       ]
      }
     ],
     "prompt_number": 147
    },
    {
     "cell_type": "code",
     "collapsed": false,
     "input": [
      "sep_pt = []\n",
      "for ii in range(1000,100000,1000):\n",
      "    U=np.squeeze(rdmds(_dir+'U',ii))\n",
      "    W=np.squeeze(rdmds(_dir+'W',ii))\n",
      "    [theta_bd,dvtheta_dr_bd] = calc_dvtheta_dr(X,Z,U,W,R0,1024,128)\n",
      "    sep_pt.append(find_zero(theta_bd,dvtheta_dr_bd))\n",
      "plt.show()"
     ],
     "language": "python",
     "metadata": {},
     "outputs": [
      {
       "output_type": "stream",
       "stream": "stderr",
       "text": [
        "../../CylinderNx1024Nz128/U.0000001000.004.001.meta\n",
        "../../CylinderNx1024Nz128/W.0000001000.006.001.meta\n"
       ]
      },
      {
       "output_type": "stream",
       "stream": "stderr",
       "text": [
        "../../CylinderNx1024Nz128/U.0000002000.004.001.meta\n",
        "../../CylinderNx1024Nz128/W.0000002000.004.001.meta\n"
       ]
      },
      {
       "output_type": "stream",
       "stream": "stderr",
       "text": [
        "../../CylinderNx1024Nz128/U.0000003000.006.001.meta\n",
        "../../CylinderNx1024Nz128/W.0000003000.006.001.meta\n"
       ]
      },
      {
       "output_type": "stream",
       "stream": "stderr",
       "text": [
        "../../CylinderNx1024Nz128/U.0000004000.006.001.meta\n",
        "../../CylinderNx1024Nz128/W.0000004000.008.001.meta\n"
       ]
      },
      {
       "output_type": "stream",
       "stream": "stderr",
       "text": [
        "../../CylinderNx1024Nz128/U.0000005000.004.001.meta\n",
        "../../CylinderNx1024Nz128/W.0000005000.003.001.meta\n",
        "../../CylinderNx1024Nz128/U.0000006000.004.001.meta\n"
       ]
      },
      {
       "output_type": "stream",
       "stream": "stderr",
       "text": [
        "../../CylinderNx1024Nz128/W.0000006000.004.001.meta\n",
        "../../CylinderNx1024Nz128/U.0000007000.002.001.meta\n"
       ]
      },
      {
       "output_type": "stream",
       "stream": "stdout",
       "text": [
        "Found zero!\n",
        "Found zero!"
       ]
      },
      {
       "output_type": "stream",
       "stream": "stderr",
       "text": [
        "../../CylinderNx1024Nz128/W.0000007000.002.001.meta\n",
        "../../CylinderNx1024Nz128/U.0000008000.008.001.meta\n"
       ]
      },
      {
       "output_type": "stream",
       "stream": "stdout",
       "text": [
        "\n",
        "Found zero!"
       ]
      },
      {
       "output_type": "stream",
       "stream": "stderr",
       "text": [
        "../../CylinderNx1024Nz128/W.0000008000.005.001.meta\n",
        "../../CylinderNx1024Nz128/U.0000009000.002.001.meta\n"
       ]
      },
      {
       "output_type": "stream",
       "stream": "stdout",
       "text": [
        "\n",
        "Found zero!"
       ]
      },
      {
       "output_type": "stream",
       "stream": "stderr",
       "text": [
        "../../CylinderNx1024Nz128/W.0000009000.002.001.meta\n",
        "../../CylinderNx1024Nz128/U.0000010000.004.001.meta\n"
       ]
      },
      {
       "output_type": "stream",
       "stream": "stdout",
       "text": [
        "\n",
        "Found zero!"
       ]
      },
      {
       "output_type": "stream",
       "stream": "stderr",
       "text": [
        "../../CylinderNx1024Nz128/W.0000010000.007.001.meta\n",
        "../../CylinderNx1024Nz128/U.0000011000.006.001.meta\n",
        "../../CylinderNx1024Nz128/W.0000011000.006.001.meta\n"
       ]
      },
      {
       "output_type": "stream",
       "stream": "stdout",
       "text": [
        "\n",
        "Found zero!"
       ]
      },
      {
       "output_type": "stream",
       "stream": "stdout",
       "text": [
        "\n",
        "Found zero!"
       ]
      },
      {
       "output_type": "stream",
       "stream": "stderr",
       "text": [
        "../../CylinderNx1024Nz128/U.0000012000.001.001.meta\n",
        "../../CylinderNx1024Nz128/W.0000012000.005.001.meta\n",
        "../../CylinderNx1024Nz128/U.0000013000.005.001.meta\n"
       ]
      },
      {
       "output_type": "stream",
       "stream": "stdout",
       "text": [
        "\n",
        "Found zero!"
       ]
      },
      {
       "output_type": "stream",
       "stream": "stderr",
       "text": [
        "../../CylinderNx1024Nz128/W.0000013000.002.001.meta\n",
        "../../CylinderNx1024Nz128/U.0000014000.001.001.meta\n"
       ]
      },
      {
       "output_type": "stream",
       "stream": "stdout",
       "text": [
        "\n",
        "Found zero!"
       ]
      },
      {
       "output_type": "stream",
       "stream": "stderr",
       "text": [
        "../../CylinderNx1024Nz128/W.0000014000.005.001.meta\n",
        "../../CylinderNx1024Nz128/U.0000015000.007.001.meta\n"
       ]
      },
      {
       "output_type": "stream",
       "stream": "stdout",
       "text": [
        "\n",
        "Found zero!"
       ]
      },
      {
       "output_type": "stream",
       "stream": "stderr",
       "text": [
        "../../CylinderNx1024Nz128/W.0000015000.003.001.meta\n",
        "../../CylinderNx1024Nz128/U.0000016000.006.001.meta\n"
       ]
      },
      {
       "output_type": "stream",
       "stream": "stdout",
       "text": [
        "\n",
        "Found zero!"
       ]
      },
      {
       "output_type": "stream",
       "stream": "stderr",
       "text": [
        "../../CylinderNx1024Nz128/W.0000016000.002.001.meta\n",
        "../../CylinderNx1024Nz128/U.0000017000.001.001.meta\n"
       ]
      },
      {
       "output_type": "stream",
       "stream": "stdout",
       "text": [
        "\n",
        "Found zero!"
       ]
      },
      {
       "output_type": "stream",
       "stream": "stderr",
       "text": [
        "../../CylinderNx1024Nz128/W.0000017000.004.001.meta\n",
        "../../CylinderNx1024Nz128/U.0000018000.004.001.meta\n"
       ]
      },
      {
       "output_type": "stream",
       "stream": "stdout",
       "text": [
        "\n",
        "Found zero!"
       ]
      },
      {
       "output_type": "stream",
       "stream": "stderr",
       "text": [
        "../../CylinderNx1024Nz128/W.0000018000.001.001.meta\n",
        "../../CylinderNx1024Nz128/U.0000019000.003.001.meta\n"
       ]
      },
      {
       "output_type": "stream",
       "stream": "stdout",
       "text": [
        "\n",
        "Found zero!"
       ]
      },
      {
       "output_type": "stream",
       "stream": "stderr",
       "text": [
        "../../CylinderNx1024Nz128/W.0000019000.006.001.meta\n",
        "../../CylinderNx1024Nz128/U.0000020000.006.001.meta\n"
       ]
      },
      {
       "output_type": "stream",
       "stream": "stdout",
       "text": [
        "\n",
        "Found zero!"
       ]
      },
      {
       "output_type": "stream",
       "stream": "stderr",
       "text": [
        "../../CylinderNx1024Nz128/W.0000020000.001.001.meta\n",
        "../../CylinderNx1024Nz128/U.0000021000.007.001.meta\n"
       ]
      },
      {
       "output_type": "stream",
       "stream": "stdout",
       "text": [
        "\n",
        "Found zero!"
       ]
      },
      {
       "output_type": "stream",
       "stream": "stderr",
       "text": [
        "../../CylinderNx1024Nz128/W.0000021000.003.001.meta\n",
        "../../CylinderNx1024Nz128/U.0000022000.004.001.meta\n"
       ]
      },
      {
       "output_type": "stream",
       "stream": "stdout",
       "text": [
        "\n",
        "Found zero!"
       ]
      },
      {
       "output_type": "stream",
       "stream": "stderr",
       "text": [
        "../../CylinderNx1024Nz128/W.0000022000.003.001.meta\n",
        "../../CylinderNx1024Nz128/U.0000023000.005.001.meta\n"
       ]
      },
      {
       "output_type": "stream",
       "stream": "stdout",
       "text": [
        "\n",
        "Found zero!"
       ]
      },
      {
       "output_type": "stream",
       "stream": "stderr",
       "text": [
        "../../CylinderNx1024Nz128/W.0000023000.008.001.meta\n",
        "../../CylinderNx1024Nz128/U.0000024000.007.001.meta\n"
       ]
      },
      {
       "output_type": "stream",
       "stream": "stdout",
       "text": [
        "\n",
        "Found zero!"
       ]
      },
      {
       "output_type": "stream",
       "stream": "stderr",
       "text": [
        "../../CylinderNx1024Nz128/W.0000024000.008.001.meta\n",
        "../../CylinderNx1024Nz128/U.0000025000.002.001.meta\n"
       ]
      },
      {
       "output_type": "stream",
       "stream": "stdout",
       "text": [
        "\n",
        "Found zero!"
       ]
      },
      {
       "output_type": "stream",
       "stream": "stderr",
       "text": [
        "../../CylinderNx1024Nz128/W.0000025000.006.001.meta\n",
        "../../CylinderNx1024Nz128/U.0000026000.002.001.meta\n"
       ]
      },
      {
       "output_type": "stream",
       "stream": "stdout",
       "text": [
        "\n",
        "Found zero!"
       ]
      },
      {
       "output_type": "stream",
       "stream": "stderr",
       "text": [
        "../../CylinderNx1024Nz128/W.0000026000.004.001.meta\n",
        "../../CylinderNx1024Nz128/U.0000027000.004.001.meta\n"
       ]
      },
      {
       "output_type": "stream",
       "stream": "stdout",
       "text": [
        "\n",
        "Found zero!"
       ]
      },
      {
       "output_type": "stream",
       "stream": "stderr",
       "text": [
        "../../CylinderNx1024Nz128/W.0000027000.006.001.meta\n",
        "../../CylinderNx1024Nz128/U.0000028000.004.001.meta\n"
       ]
      },
      {
       "output_type": "stream",
       "stream": "stdout",
       "text": [
        "\n",
        "Found zero!"
       ]
      },
      {
       "output_type": "stream",
       "stream": "stderr",
       "text": [
        "../../CylinderNx1024Nz128/W.0000028000.008.001.meta\n",
        "../../CylinderNx1024Nz128/U.0000029000.007.001.meta\n"
       ]
      },
      {
       "output_type": "stream",
       "stream": "stdout",
       "text": [
        "\n",
        "Found zero!"
       ]
      },
      {
       "output_type": "stream",
       "stream": "stderr",
       "text": [
        "../../CylinderNx1024Nz128/W.0000029000.008.001.meta\n",
        "../../CylinderNx1024Nz128/U.0000030000.003.001.meta\n"
       ]
      },
      {
       "output_type": "stream",
       "stream": "stdout",
       "text": [
        "\n",
        "Found zero!"
       ]
      },
      {
       "output_type": "stream",
       "stream": "stderr",
       "text": [
        "../../CylinderNx1024Nz128/W.0000030000.008.001.meta\n",
        "../../CylinderNx1024Nz128/U.0000031000.001.001.meta\n"
       ]
      },
      {
       "output_type": "stream",
       "stream": "stdout",
       "text": [
        "\n",
        "Found zero!"
       ]
      },
      {
       "output_type": "stream",
       "stream": "stderr",
       "text": [
        "../../CylinderNx1024Nz128/W.0000031000.002.001.meta\n",
        "../../CylinderNx1024Nz128/U.0000032000.003.001.meta\n"
       ]
      },
      {
       "output_type": "stream",
       "stream": "stdout",
       "text": [
        "\n",
        "Found zero!"
       ]
      },
      {
       "output_type": "stream",
       "stream": "stderr",
       "text": [
        "../../CylinderNx1024Nz128/W.0000032000.008.001.meta\n",
        "../../CylinderNx1024Nz128/U.0000033000.001.001.meta\n"
       ]
      },
      {
       "output_type": "stream",
       "stream": "stdout",
       "text": [
        "\n",
        "Found zero!"
       ]
      },
      {
       "output_type": "stream",
       "stream": "stderr",
       "text": [
        "../../CylinderNx1024Nz128/W.0000033000.007.001.meta\n",
        "../../CylinderNx1024Nz128/U.0000034000.008.001.meta\n"
       ]
      },
      {
       "output_type": "stream",
       "stream": "stdout",
       "text": [
        "\n",
        "Found zero!"
       ]
      },
      {
       "output_type": "stream",
       "stream": "stderr",
       "text": [
        "../../CylinderNx1024Nz128/W.0000034000.005.001.meta\n",
        "../../CylinderNx1024Nz128/U.0000035000.003.001.meta\n"
       ]
      },
      {
       "output_type": "stream",
       "stream": "stdout",
       "text": [
        "\n",
        "Found zero!"
       ]
      },
      {
       "output_type": "stream",
       "stream": "stderr",
       "text": [
        "../../CylinderNx1024Nz128/W.0000035000.001.001.meta\n",
        "../../CylinderNx1024Nz128/U.0000036000.005.001.meta\n"
       ]
      },
      {
       "output_type": "stream",
       "stream": "stdout",
       "text": [
        "\n",
        "Found zero!"
       ]
      },
      {
       "output_type": "stream",
       "stream": "stderr",
       "text": [
        "../../CylinderNx1024Nz128/W.0000036000.007.001.meta\n",
        "../../CylinderNx1024Nz128/U.0000037000.005.001.meta\n"
       ]
      },
      {
       "output_type": "stream",
       "stream": "stdout",
       "text": [
        "\n",
        "Found zero!"
       ]
      },
      {
       "output_type": "stream",
       "stream": "stderr",
       "text": [
        "../../CylinderNx1024Nz128/W.0000037000.005.001.meta\n",
        "../../CylinderNx1024Nz128/U.0000038000.005.001.meta\n"
       ]
      },
      {
       "output_type": "stream",
       "stream": "stdout",
       "text": [
        "\n",
        "Found zero!"
       ]
      },
      {
       "output_type": "stream",
       "stream": "stderr",
       "text": [
        "../../CylinderNx1024Nz128/W.0000038000.008.001.meta\n",
        "../../CylinderNx1024Nz128/U.0000039000.004.001.meta\n"
       ]
      },
      {
       "output_type": "stream",
       "stream": "stdout",
       "text": [
        "\n",
        "Found zero!"
       ]
      },
      {
       "output_type": "stream",
       "stream": "stderr",
       "text": [
        "../../CylinderNx1024Nz128/W.0000039000.008.001.meta\n",
        "../../CylinderNx1024Nz128/U.0000040000.005.001.meta\n"
       ]
      },
      {
       "output_type": "stream",
       "stream": "stdout",
       "text": [
        "\n",
        "Found zero!"
       ]
      },
      {
       "output_type": "stream",
       "stream": "stderr",
       "text": [
        "../../CylinderNx1024Nz128/W.0000040000.007.001.meta\n",
        "../../CylinderNx1024Nz128/U.0000041000.005.001.meta\n"
       ]
      },
      {
       "output_type": "stream",
       "stream": "stdout",
       "text": [
        "\n",
        "Found zero!"
       ]
      },
      {
       "output_type": "stream",
       "stream": "stderr",
       "text": [
        "../../CylinderNx1024Nz128/W.0000041000.002.001.meta\n",
        "../../CylinderNx1024Nz128/U.0000042000.005.001.meta\n"
       ]
      },
      {
       "output_type": "stream",
       "stream": "stdout",
       "text": [
        "\n",
        "Found zero!"
       ]
      },
      {
       "output_type": "stream",
       "stream": "stderr",
       "text": [
        "../../CylinderNx1024Nz128/W.0000042000.003.001.meta\n",
        "../../CylinderNx1024Nz128/U.0000043000.007.001.meta\n"
       ]
      },
      {
       "output_type": "stream",
       "stream": "stdout",
       "text": [
        "\n",
        "Found zero!"
       ]
      },
      {
       "output_type": "stream",
       "stream": "stderr",
       "text": [
        "../../CylinderNx1024Nz128/W.0000043000.004.001.meta\n",
        "../../CylinderNx1024Nz128/U.0000044000.004.001.meta\n"
       ]
      },
      {
       "output_type": "stream",
       "stream": "stdout",
       "text": [
        "\n",
        "Found zero!"
       ]
      },
      {
       "output_type": "stream",
       "stream": "stderr",
       "text": [
        "../../CylinderNx1024Nz128/W.0000044000.001.001.meta\n",
        "../../CylinderNx1024Nz128/U.0000045000.004.001.meta\n"
       ]
      },
      {
       "output_type": "stream",
       "stream": "stdout",
       "text": [
        "\n",
        "Found zero!"
       ]
      },
      {
       "output_type": "stream",
       "stream": "stderr",
       "text": [
        "../../CylinderNx1024Nz128/W.0000045000.005.001.meta\n",
        "../../CylinderNx1024Nz128/U.0000046000.005.001.meta\n"
       ]
      },
      {
       "output_type": "stream",
       "stream": "stdout",
       "text": [
        "\n",
        "Found zero!"
       ]
      },
      {
       "output_type": "stream",
       "stream": "stderr",
       "text": [
        "../../CylinderNx1024Nz128/W.0000046000.008.001.meta\n",
        "../../CylinderNx1024Nz128/U.0000047000.007.001.meta\n"
       ]
      },
      {
       "output_type": "stream",
       "stream": "stdout",
       "text": [
        "\n",
        "Found zero!"
       ]
      },
      {
       "output_type": "stream",
       "stream": "stderr",
       "text": [
        "../../CylinderNx1024Nz128/W.0000047000.008.001.meta\n",
        "../../CylinderNx1024Nz128/U.0000048000.004.001.meta\n"
       ]
      },
      {
       "output_type": "stream",
       "stream": "stdout",
       "text": [
        "\n",
        "Found zero!"
       ]
      },
      {
       "output_type": "stream",
       "stream": "stderr",
       "text": [
        "../../CylinderNx1024Nz128/W.0000048000.001.001.meta\n",
        "../../CylinderNx1024Nz128/U.0000049000.004.001.meta\n"
       ]
      },
      {
       "output_type": "stream",
       "stream": "stdout",
       "text": [
        "\n",
        "Found zero!"
       ]
      },
      {
       "output_type": "stream",
       "stream": "stderr",
       "text": [
        "../../CylinderNx1024Nz128/W.0000049000.002.001.meta\n",
        "../../CylinderNx1024Nz128/U.0000050000.006.001.meta\n"
       ]
      },
      {
       "output_type": "stream",
       "stream": "stdout",
       "text": [
        "\n",
        "Found zero!"
       ]
      },
      {
       "output_type": "stream",
       "stream": "stderr",
       "text": [
        "../../CylinderNx1024Nz128/W.0000050000.003.001.meta\n",
        "../../CylinderNx1024Nz128/U.0000051000.007.001.meta\n"
       ]
      },
      {
       "output_type": "stream",
       "stream": "stdout",
       "text": [
        "\n",
        "Found zero!"
       ]
      },
      {
       "output_type": "stream",
       "stream": "stderr",
       "text": [
        "../../CylinderNx1024Nz128/W.0000051000.007.001.meta\n",
        "../../CylinderNx1024Nz128/U.0000052000.004.001.meta\n"
       ]
      },
      {
       "output_type": "stream",
       "stream": "stdout",
       "text": [
        "\n",
        "Found zero!"
       ]
      },
      {
       "output_type": "stream",
       "stream": "stderr",
       "text": [
        "../../CylinderNx1024Nz128/W.0000052000.001.001.meta\n",
        "../../CylinderNx1024Nz128/U.0000053000.007.001.meta\n"
       ]
      },
      {
       "output_type": "stream",
       "stream": "stdout",
       "text": [
        "\n",
        "Found zero!"
       ]
      },
      {
       "output_type": "stream",
       "stream": "stderr",
       "text": [
        "../../CylinderNx1024Nz128/W.0000053000.004.001.meta\n",
        "../../CylinderNx1024Nz128/U.0000054000.007.001.meta\n"
       ]
      },
      {
       "output_type": "stream",
       "stream": "stdout",
       "text": [
        "\n",
        "Found zero!"
       ]
      },
      {
       "output_type": "stream",
       "stream": "stderr",
       "text": [
        "../../CylinderNx1024Nz128/W.0000054000.007.001.meta\n",
        "../../CylinderNx1024Nz128/U.0000055000.008.001.meta\n"
       ]
      },
      {
       "output_type": "stream",
       "stream": "stdout",
       "text": [
        "\n",
        "Found zero!"
       ]
      },
      {
       "output_type": "stream",
       "stream": "stderr",
       "text": [
        "../../CylinderNx1024Nz128/W.0000055000.001.001.meta\n",
        "../../CylinderNx1024Nz128/U.0000056000.007.001.meta\n"
       ]
      },
      {
       "output_type": "stream",
       "stream": "stdout",
       "text": [
        "\n",
        "Found zero!"
       ]
      },
      {
       "output_type": "stream",
       "stream": "stderr",
       "text": [
        "../../CylinderNx1024Nz128/W.0000056000.005.001.meta\n",
        "../../CylinderNx1024Nz128/U.0000057000.004.001.meta\n"
       ]
      },
      {
       "output_type": "stream",
       "stream": "stdout",
       "text": [
        "\n",
        "Found zero!"
       ]
      },
      {
       "output_type": "stream",
       "stream": "stderr",
       "text": [
        "../../CylinderNx1024Nz128/W.0000057000.005.001.meta\n",
        "../../CylinderNx1024Nz128/U.0000058000.007.001.meta\n"
       ]
      },
      {
       "output_type": "stream",
       "stream": "stdout",
       "text": [
        "\n",
        "Found zero!"
       ]
      },
      {
       "output_type": "stream",
       "stream": "stderr",
       "text": [
        "../../CylinderNx1024Nz128/W.0000058000.006.001.meta\n",
        "../../CylinderNx1024Nz128/U.0000059000.002.001.meta\n"
       ]
      },
      {
       "output_type": "stream",
       "stream": "stdout",
       "text": [
        "\n",
        "Found zero!"
       ]
      },
      {
       "output_type": "stream",
       "stream": "stderr",
       "text": [
        "../../CylinderNx1024Nz128/W.0000059000.004.001.meta\n",
        "../../CylinderNx1024Nz128/U.0000060000.002.001.meta\n"
       ]
      },
      {
       "output_type": "stream",
       "stream": "stdout",
       "text": [
        "\n",
        "Found zero!"
       ]
      },
      {
       "output_type": "stream",
       "stream": "stderr",
       "text": [
        "../../CylinderNx1024Nz128/W.0000060000.006.001.meta\n",
        "../../CylinderNx1024Nz128/U.0000061000.002.001.meta\n"
       ]
      },
      {
       "output_type": "stream",
       "stream": "stdout",
       "text": [
        "\n",
        "Found zero!"
       ]
      },
      {
       "output_type": "stream",
       "stream": "stderr",
       "text": [
        "../../CylinderNx1024Nz128/W.0000061000.003.001.meta\n",
        "../../CylinderNx1024Nz128/U.0000062000.006.001.meta\n"
       ]
      },
      {
       "output_type": "stream",
       "stream": "stdout",
       "text": [
        "\n",
        "Found zero!"
       ]
      },
      {
       "output_type": "stream",
       "stream": "stderr",
       "text": [
        "../../CylinderNx1024Nz128/W.0000062000.001.001.meta\n",
        "../../CylinderNx1024Nz128/U.0000063000.005.001.meta\n"
       ]
      },
      {
       "output_type": "stream",
       "stream": "stdout",
       "text": [
        "\n",
        "Found zero!"
       ]
      },
      {
       "output_type": "stream",
       "stream": "stderr",
       "text": [
        "../../CylinderNx1024Nz128/W.0000063000.006.001.meta\n",
        "../../CylinderNx1024Nz128/U.0000064000.001.001.meta\n"
       ]
      },
      {
       "output_type": "stream",
       "stream": "stdout",
       "text": [
        "\n",
        "Found zero!"
       ]
      },
      {
       "output_type": "stream",
       "stream": "stderr",
       "text": [
        "../../CylinderNx1024Nz128/W.0000064000.001.001.meta\n",
        "../../CylinderNx1024Nz128/U.0000065000.006.001.meta\n"
       ]
      },
      {
       "output_type": "stream",
       "stream": "stdout",
       "text": [
        "\n",
        "Found zero!"
       ]
      },
      {
       "output_type": "stream",
       "stream": "stderr",
       "text": [
        "../../CylinderNx1024Nz128/W.0000065000.003.001.meta\n",
        "../../CylinderNx1024Nz128/U.0000066000.008.001.meta\n"
       ]
      },
      {
       "output_type": "stream",
       "stream": "stdout",
       "text": [
        "\n",
        "Found zero!"
       ]
      },
      {
       "output_type": "stream",
       "stream": "stderr",
       "text": [
        "../../CylinderNx1024Nz128/W.0000066000.006.001.meta\n",
        "../../CylinderNx1024Nz128/U.0000067000.002.001.meta\n"
       ]
      },
      {
       "output_type": "stream",
       "stream": "stdout",
       "text": [
        "\n",
        "Found zero!"
       ]
      },
      {
       "output_type": "stream",
       "stream": "stderr",
       "text": [
        "../../CylinderNx1024Nz128/W.0000067000.003.001.meta\n",
        "../../CylinderNx1024Nz128/U.0000068000.007.001.meta\n"
       ]
      },
      {
       "output_type": "stream",
       "stream": "stdout",
       "text": [
        "\n",
        "Found zero!"
       ]
      },
      {
       "output_type": "stream",
       "stream": "stderr",
       "text": [
        "../../CylinderNx1024Nz128/W.0000068000.005.001.meta\n",
        "../../CylinderNx1024Nz128/U.0000069000.004.001.meta\n"
       ]
      },
      {
       "output_type": "stream",
       "stream": "stdout",
       "text": [
        "\n",
        "Found zero!"
       ]
      },
      {
       "output_type": "stream",
       "stream": "stderr",
       "text": [
        "../../CylinderNx1024Nz128/W.0000069000.001.001.meta\n",
        "../../CylinderNx1024Nz128/U.0000070000.002.001.meta\n"
       ]
      },
      {
       "output_type": "stream",
       "stream": "stdout",
       "text": [
        "\n",
        "Found zero!"
       ]
      },
      {
       "output_type": "stream",
       "stream": "stderr",
       "text": [
        "../../CylinderNx1024Nz128/W.0000070000.006.001.meta\n",
        "../../CylinderNx1024Nz128/U.0000071000.005.001.meta\n"
       ]
      },
      {
       "output_type": "stream",
       "stream": "stdout",
       "text": [
        "\n",
        "Found zero!"
       ]
      },
      {
       "output_type": "stream",
       "stream": "stderr",
       "text": [
        "../../CylinderNx1024Nz128/W.0000071000.005.001.meta\n",
        "../../CylinderNx1024Nz128/U.0000072000.003.001.meta\n"
       ]
      },
      {
       "output_type": "stream",
       "stream": "stdout",
       "text": [
        "\n",
        "Found zero!"
       ]
      },
      {
       "output_type": "stream",
       "stream": "stderr",
       "text": [
        "../../CylinderNx1024Nz128/W.0000072000.003.001.meta\n",
        "../../CylinderNx1024Nz128/U.0000073000.008.001.meta\n"
       ]
      },
      {
       "output_type": "stream",
       "stream": "stdout",
       "text": [
        "\n",
        "Found zero!"
       ]
      },
      {
       "output_type": "stream",
       "stream": "stderr",
       "text": [
        "../../CylinderNx1024Nz128/W.0000073000.001.001.meta\n",
        "../../CylinderNx1024Nz128/U.0000074000.001.001.meta\n"
       ]
      },
      {
       "output_type": "stream",
       "stream": "stdout",
       "text": [
        "\n",
        "Found zero!"
       ]
      },
      {
       "output_type": "stream",
       "stream": "stderr",
       "text": [
        "../../CylinderNx1024Nz128/W.0000074000.001.001.meta\n",
        "../../CylinderNx1024Nz128/U.0000075000.002.001.meta\n"
       ]
      },
      {
       "output_type": "stream",
       "stream": "stdout",
       "text": [
        "\n",
        "Found zero!"
       ]
      },
      {
       "output_type": "stream",
       "stream": "stderr",
       "text": [
        "../../CylinderNx1024Nz128/W.0000075000.004.001.meta\n",
        "../../CylinderNx1024Nz128/U.0000076000.001.001.meta\n"
       ]
      },
      {
       "output_type": "stream",
       "stream": "stdout",
       "text": [
        "\n",
        "Found zero!"
       ]
      },
      {
       "output_type": "stream",
       "stream": "stderr",
       "text": [
        "../../CylinderNx1024Nz128/W.0000076000.006.001.meta\n",
        "../../CylinderNx1024Nz128/U.0000077000.002.001.meta\n"
       ]
      },
      {
       "output_type": "stream",
       "stream": "stdout",
       "text": [
        "\n",
        "Found zero!"
       ]
      },
      {
       "output_type": "stream",
       "stream": "stderr",
       "text": [
        "../../CylinderNx1024Nz128/W.0000077000.007.001.meta\n",
        "../../CylinderNx1024Nz128/U.0000078000.005.001.meta\n"
       ]
      },
      {
       "output_type": "stream",
       "stream": "stdout",
       "text": [
        "\n",
        "Found zero!"
       ]
      },
      {
       "output_type": "stream",
       "stream": "stderr",
       "text": [
        "../../CylinderNx1024Nz128/W.0000078000.003.001.meta\n",
        "../../CylinderNx1024Nz128/U.0000079000.002.001.meta\n"
       ]
      },
      {
       "output_type": "stream",
       "stream": "stdout",
       "text": [
        "\n",
        "Found zero!"
       ]
      },
      {
       "output_type": "stream",
       "stream": "stderr",
       "text": [
        "../../CylinderNx1024Nz128/W.0000079000.003.001.meta\n",
        "../../CylinderNx1024Nz128/U.0000080000.004.001.meta\n"
       ]
      },
      {
       "output_type": "stream",
       "stream": "stdout",
       "text": [
        "\n",
        "Found zero!"
       ]
      },
      {
       "output_type": "stream",
       "stream": "stderr",
       "text": [
        "../../CylinderNx1024Nz128/W.0000080000.001.001.meta\n",
        "../../CylinderNx1024Nz128/U.0000081000.003.001.meta\n"
       ]
      },
      {
       "output_type": "stream",
       "stream": "stdout",
       "text": [
        "\n",
        "Found zero!"
       ]
      },
      {
       "output_type": "stream",
       "stream": "stderr",
       "text": [
        "../../CylinderNx1024Nz128/W.0000081000.007.001.meta\n",
        "../../CylinderNx1024Nz128/U.0000082000.007.001.meta\n"
       ]
      },
      {
       "output_type": "stream",
       "stream": "stdout",
       "text": [
        "\n",
        "Found zero!"
       ]
      },
      {
       "output_type": "stream",
       "stream": "stderr",
       "text": [
        "../../CylinderNx1024Nz128/W.0000082000.005.001.meta\n",
        "../../CylinderNx1024Nz128/U.0000083000.006.001.meta\n"
       ]
      },
      {
       "output_type": "stream",
       "stream": "stdout",
       "text": [
        "\n",
        "Found zero!"
       ]
      },
      {
       "output_type": "stream",
       "stream": "stderr",
       "text": [
        "../../CylinderNx1024Nz128/W.0000083000.005.001.meta\n",
        "../../CylinderNx1024Nz128/U.0000084000.007.001.meta\n"
       ]
      },
      {
       "output_type": "stream",
       "stream": "stdout",
       "text": [
        "\n",
        "Found zero!"
       ]
      },
      {
       "output_type": "stream",
       "stream": "stderr",
       "text": [
        "../../CylinderNx1024Nz128/W.0000084000.003.001.meta\n",
        "../../CylinderNx1024Nz128/U.0000085000.007.001.meta\n"
       ]
      },
      {
       "output_type": "stream",
       "stream": "stdout",
       "text": [
        "\n",
        "Found zero!"
       ]
      },
      {
       "output_type": "stream",
       "stream": "stderr",
       "text": [
        "../../CylinderNx1024Nz128/W.0000085000.002.001.meta\n",
        "../../CylinderNx1024Nz128/U.0000086000.006.001.meta\n"
       ]
      },
      {
       "output_type": "stream",
       "stream": "stdout",
       "text": [
        "\n",
        "Found zero!"
       ]
      },
      {
       "output_type": "stream",
       "stream": "stderr",
       "text": [
        "../../CylinderNx1024Nz128/W.0000086000.001.001.meta\n",
        "../../CylinderNx1024Nz128/U.0000087000.002.001.meta\n"
       ]
      },
      {
       "output_type": "stream",
       "stream": "stdout",
       "text": [
        "\n",
        "Found zero!"
       ]
      },
      {
       "output_type": "stream",
       "stream": "stderr",
       "text": [
        "../../CylinderNx1024Nz128/W.0000087000.001.001.meta\n",
        "../../CylinderNx1024Nz128/U.0000088000.005.001.meta\n"
       ]
      },
      {
       "output_type": "stream",
       "stream": "stdout",
       "text": [
        "\n",
        "Found zero!"
       ]
      },
      {
       "output_type": "stream",
       "stream": "stderr",
       "text": [
        "../../CylinderNx1024Nz128/W.0000088000.008.001.meta\n",
        "../../CylinderNx1024Nz128/U.0000089000.005.001.meta\n"
       ]
      },
      {
       "output_type": "stream",
       "stream": "stdout",
       "text": [
        "\n",
        "Found zero!"
       ]
      },
      {
       "output_type": "stream",
       "stream": "stderr",
       "text": [
        "../../CylinderNx1024Nz128/W.0000089000.002.001.meta\n",
        "../../CylinderNx1024Nz128/U.0000090000.002.001.meta\n"
       ]
      },
      {
       "output_type": "stream",
       "stream": "stdout",
       "text": [
        "\n",
        "Found zero!"
       ]
      },
      {
       "output_type": "stream",
       "stream": "stderr",
       "text": [
        "../../CylinderNx1024Nz128/W.0000090000.002.001.meta\n",
        "../../CylinderNx1024Nz128/U.0000091000.005.001.meta\n"
       ]
      },
      {
       "output_type": "stream",
       "stream": "stdout",
       "text": [
        "\n",
        "Found zero!"
       ]
      },
      {
       "output_type": "stream",
       "stream": "stderr",
       "text": [
        "../../CylinderNx1024Nz128/W.0000091000.008.001.meta\n",
        "../../CylinderNx1024Nz128/U.0000092000.001.001.meta\n"
       ]
      },
      {
       "output_type": "stream",
       "stream": "stdout",
       "text": [
        "\n",
        "Found zero!"
       ]
      },
      {
       "output_type": "stream",
       "stream": "stderr",
       "text": [
        "../../CylinderNx1024Nz128/W.0000092000.003.001.meta\n",
        "../../CylinderNx1024Nz128/U.0000093000.002.001.meta\n"
       ]
      },
      {
       "output_type": "stream",
       "stream": "stdout",
       "text": [
        "\n",
        "Found zero!"
       ]
      },
      {
       "output_type": "stream",
       "stream": "stderr",
       "text": [
        "../../CylinderNx1024Nz128/W.0000093000.003.001.meta\n",
        "../../CylinderNx1024Nz128/U.0000094000.004.001.meta\n"
       ]
      },
      {
       "output_type": "stream",
       "stream": "stdout",
       "text": [
        "\n",
        "Found zero!"
       ]
      },
      {
       "output_type": "stream",
       "stream": "stderr",
       "text": [
        "../../CylinderNx1024Nz128/W.0000094000.001.001.meta\n",
        "../../CylinderNx1024Nz128/U.0000095000.003.001.meta\n"
       ]
      },
      {
       "output_type": "stream",
       "stream": "stdout",
       "text": [
        "\n",
        "Found zero!"
       ]
      },
      {
       "output_type": "stream",
       "stream": "stderr",
       "text": [
        "../../CylinderNx1024Nz128/W.0000095000.003.001.meta\n",
        "../../CylinderNx1024Nz128/U.0000096000.004.001.meta\n"
       ]
      },
      {
       "output_type": "stream",
       "stream": "stdout",
       "text": [
        "\n",
        "Found zero!"
       ]
      },
      {
       "output_type": "stream",
       "stream": "stderr",
       "text": [
        "../../CylinderNx1024Nz128/W.0000096000.008.001.meta\n",
        "../../CylinderNx1024Nz128/U.0000097000.003.001.meta\n"
       ]
      },
      {
       "output_type": "stream",
       "stream": "stdout",
       "text": [
        "\n",
        "Found zero!"
       ]
      },
      {
       "output_type": "stream",
       "stream": "stderr",
       "text": [
        "../../CylinderNx1024Nz128/W.0000097000.002.001.meta\n",
        "../../CylinderNx1024Nz128/U.0000098000.004.001.meta\n"
       ]
      },
      {
       "output_type": "stream",
       "stream": "stdout",
       "text": [
        "\n",
        "Found zero!"
       ]
      },
      {
       "output_type": "stream",
       "stream": "stderr",
       "text": [
        "../../CylinderNx1024Nz128/W.0000098000.006.001.meta\n",
        "../../CylinderNx1024Nz128/U.0000099000.006.001.meta\n"
       ]
      },
      {
       "output_type": "stream",
       "stream": "stdout",
       "text": [
        "\n",
        "Found zero!"
       ]
      },
      {
       "output_type": "stream",
       "stream": "stdout",
       "text": [
        "\n"
       ]
      },
      {
       "output_type": "stream",
       "stream": "stderr",
       "text": [
        "../../CylinderNx1024Nz128/W.0000099000.001.001.meta\n"
       ]
      }
     ],
     "prompt_number": 150
    },
    {
     "cell_type": "code",
     "collapsed": false,
     "input": [
      "plt.plot(sep_pt)"
     ],
     "language": "python",
     "metadata": {},
     "outputs": [
      {
       "metadata": {},
       "output_type": "pyout",
       "prompt_number": 151,
       "text": [
        "[<matplotlib.lines.Line2D at 0x7fbc722e9090>]"
       ]
      },
      {
       "metadata": {},
       "output_type": "display_data",
       "png": "[encoded data removed]",
       "text": [
        "<matplotlib.figure.Figure at 0x7fbc60cfc610>"
       ]
      }
     ],
     "prompt_number": 151
    },
    {
     "cell_type": "code",
     "collapsed": false,
     "input": [],
     "language": "python",
     "metadata": {},
     "outputs": []
    }
   ],
   "metadata": {}
  }
 ]
}