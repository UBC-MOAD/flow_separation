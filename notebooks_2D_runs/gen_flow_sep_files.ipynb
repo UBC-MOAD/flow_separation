{
 "metadata": {
  "name": "",
  "signature": "sha256:3b5a15a513817dbe81584129ff3ed384bee9ca4537a3a32991657fcfc0eb9248"
 },
 "nbformat": 3,
 "nbformat_minor": 0,
 "worksheets": [
  {
   "cells": [
    {
     "cell_type": "markdown",
     "metadata": {},
     "source": [
      "This ipynb creates the 2D topography, stratification, and boundary condition files for looking at Flow Separation in the MITgcm."
     ]
    },
    {
     "cell_type": "code",
     "collapsed": false,
     "input": [
      "from __future__ import division # fix division as floating point division\n",
      "import numpy as np # get numpy\n",
      "import matplotlib.pyplot as plt # get plotting\n",
      "\n",
      "# plot inline\n",
      "%matplotlib inline "
     ],
     "language": "python",
     "metadata": {},
     "outputs": [],
     "prompt_number": 4
    },
    {
     "cell_type": "markdown",
     "metadata": {},
     "source": [
      "Define some global parameters here."
     ]
    },
    {
     "cell_type": "code",
     "collapsed": false,
     "input": [
      "_depth = 200; # depth of fluid in metres\n",
      "_slope_sc = 0.25e3; # length scale of topographic slope in m\n",
      "_xwidth = 15e3; # x size of domain in metres\n",
      "_Nx = 384; # number of x points\n",
      "_Nz = 256; # number of z points\n",
      "_dx = _xwidth/_Nx; # x coord spacing\n",
      "_dz = _depth/_Nz; # z coord spacing\n",
      "_x = np.linspace(0,_xwidth,_Nx); # x variable --- change for cell-centered coordinates****\n",
      "\n",
      "#_Nx_focus = 192;\n",
      "\n",
      "#_x_focus_start = 0e3; _x_focus_end = 6e3;\n",
      "#_dx_uniform = _xwidth/_Nx;\n",
      "#_dx_int = (_x_focus_end-_x_focus_start)/(_Nx_focus);\n",
      "#_dx_ext = (_xwidth-(_x_focus_end-_x_focus_start))/(_Nx-_Nx_focus);\n",
      "\n",
      "#_x1 = np.linspace(0,_x_focus_start,_x_focus_start/_dx_ext);\n",
      "#_x2 = np.linspace(_x_focus_start+_dx_int,_x_focus_end,(_x_focus_end-_x_focus_start)/_dx_int);\n",
      "#_x3 = np.linspace(_x_focus_end+_dx_ext,_xwidth,(_xwidth-_x_focus_end)/_dx_ext);\n",
      "\n",
      "#_x = np.append(_x1,_x2);\n",
      "#_x = np.append(_x,_x3);\n",
      "\n",
      "print _x.shape\n",
      "\n",
      "_z = np.linspace(-_depth,0,_Nz); # z variable --- change for cell-centered coordinates****"
     ],
     "language": "python",
     "metadata": {},
     "outputs": [
      {
       "output_type": "stream",
       "stream": "stdout",
       "text": [
        "(384,)\n"
       ]
      }
     ],
     "prompt_number": 5
    },
    {
     "cell_type": "markdown",
     "metadata": {},
     "source": [
      "We can define the bathymetry now."
     ]
    },
    {
     "cell_type": "code",
     "collapsed": false,
     "input": [
      "_shallow_depth = 50; # depth of shallow fluid\n",
      "_deep_depth = _depth; # depth of deep fluid\n",
      "_mid_topo = 5e3;\n",
      "_bathy = (_deep_depth-_shallow_depth)*(1-np.tanh((_x-_mid_topo)/_slope_sc))/2-_depth; # define tanh bathymetry\n",
      "\n",
      "# plot results\n",
      "plt.plot(_x/1000,_bathy); \n",
      "plt.xlabel('x in km'); plt.ylabel('z'); plt.title('Bathymetry');\n",
      "plt.ylim((-_depth,0))\n",
      "plt.show();"
     ],
     "language": "python",
     "metadata": {},
     "outputs": [
      {
       "metadata": {},
       "output_type": "display_data",
       "png": "[encoded data removed]",
       "text": [
        "<matplotlib.figure.Figure at 0x7f01e294fa10>"
       ]
      }
     ],
     "prompt_number": 6
    },
    {
     "cell_type": "markdown",
     "metadata": {},
     "source": [
      "The bathymetry profile is set, now need to define stratification and boundary conditions, then write all to file.\n",
      "\n",
      "For density, assume linear temperature gradient."
     ]
    },
    {
     "cell_type": "code",
     "collapsed": false,
     "input": [
      "_T_surface = 14; # surface temperature in deg. C\n",
      "_T_depth = 10; # bottom temperature in deg. C\n",
      "_T_slope = (_T_surface-_T_depth)/_depth; # define linear slope \n",
      "\n",
      "_T = _T_slope*_z+_T_surface; # define linear temperature gradient\n",
      "\n",
      "# plot results\n",
      "plt.plot(_T,_z); plt.ylabel('z'); plt.xlabel('T, deg. C'); plt.title('Temp. Profile');\n",
      "plt.show()"
     ],
     "language": "python",
     "metadata": {},
     "outputs": [
      {
       "metadata": {},
       "output_type": "display_data",
       "png": "[encoded data removed]",
       "text": [
        "<matplotlib.figure.Figure at 0x7f01e2a2b710>"
       ]
      }
     ],
     "prompt_number": 7
    },
    {
     "cell_type": "markdown",
     "metadata": {},
     "source": [
      "Now set OBCS prescribe boundary conditions. For this case, take U(x=0) = U0, where U0 is a constant"
     ]
    },
    {
     "cell_type": "code",
     "collapsed": false,
     "input": [
      "_U0 = 0.6; # in m/s\n",
      "\n",
      "_U_bc_west = 0*_z + _U0; # multiply _z by 0 to get an array of correct size, probably better ways to do this\n",
      "#_U_bc_west[_z<_bathy[0]]=0; # don't prescribe a velocity in the topography\n",
      "\n",
      "plt.plot(_U_bc_west,_z); plt.xlim(0,1.5); plt.ylabel('z'); plt.xlabel('U boundary condition, m/s'); plt.title('x=0 U vel. BC');\n",
      "plt.show();"
     ],
     "language": "python",
     "metadata": {},
     "outputs": [
      {
       "metadata": {},
       "output_type": "display_data",
       "png": "[encoded data removed]",
       "text": [
        "<matplotlib.figure.Figure at 0x7f01e299a350>"
       ]
      }
     ],
     "prompt_number": 8
    },
    {
     "cell_type": "markdown",
     "metadata": {},
     "source": [
      "Now we want to write to file, starting with temperature."
     ]
    },
    {
     "cell_type": "code",
     "collapsed": false,
     "input": [
      "_w_type = np.dtype('>f8'); # set the writing to binary file type --- fortran write style, big endian\n",
      "\n",
      "_fname = \"T_profile_Nx_%d_Nz_%d.bin\" %(_Nx,_Nz); # generate file name\n",
      "_fobj = open(_fname,mode='wb'); # get handle to file\n",
      "_T_write = np.tile(_T,[_Nx,1]).transpose(); # transpose for the proper col/row ordering\n",
      "_T_write[::-1,:].astype(_w_type).tofile(_fobj); # need to reverse 'z' coordinate to comply with MITgcm read in\n",
      "_fobj.close(); # close file to save write"
     ],
     "language": "python",
     "metadata": {},
     "outputs": [],
     "prompt_number": 9
    },
    {
     "cell_type": "markdown",
     "metadata": {},
     "source": [
      "Now write the bathymetry file."
     ]
    },
    {
     "cell_type": "code",
     "collapsed": false,
     "input": [
      "_fname = 'Bathy_profile_Nx_%d_Nz_%d.bin' % (_Nx,_Nz); # gen file name\n",
      "_fobj = open(_fname,mode='wb'); # get file handle\n",
      "_bathy_write = _bathy.reshape((1,_Nx)) # reshape for row/col ordering\n",
      "_bathy_write.astype(_w_type).tofile(_fobj); # write as correct type to handle\n",
      "_fobj.close(); # close to save"
     ],
     "language": "python",
     "metadata": {},
     "outputs": [],
     "prompt_number": 10
    },
    {
     "cell_type": "markdown",
     "metadata": {},
     "source": [
      "Write the x file."
     ]
    },
    {
     "cell_type": "code",
     "collapsed": false,
     "input": [
      "_delX = _x[1:-1]-_x[0:_Nx-2];\n",
      "_delX = np.append(_delX,_x[1]-_x[0]);\n",
      "_delX = np.append(_delX,_x[1]-_x[0]);\n",
      "\n",
      "print _delX.shape\n",
      "\n",
      "_fname = 'delX_Nx_%d.bin' % (_Nx); # filename\n",
      "_fobj = open(_fname,mode='wb'); # file object\n",
      "_delX.astype(_w_type).tofile(_fobj); # write in correct format\n",
      "_fobj.close(); # close to save"
     ],
     "language": "python",
     "metadata": {},
     "outputs": [
      {
       "output_type": "stream",
       "stream": "stdout",
       "text": [
        "(384,)\n"
       ]
      }
     ],
     "prompt_number": 11
    },
    {
     "cell_type": "code",
     "collapsed": false,
     "input": [
      "_fname = 'OBWuFile_Nx_%d_Nz_%d.bin' % (_Nx,_Nz); #fname\n",
      "_fobj = open(_fname,mode='wb'); # handle\n",
      "_U_bc_w_write = _U_bc_west.reshape((1,_Nz)); # reshape for correct ordering\n",
      "_U_bc_w_write.astype(_w_type).tofile(_fobj); # write\n",
      "_fobj.close() # close"
     ],
     "language": "python",
     "metadata": {},
     "outputs": [],
     "prompt_number": 12
    },
    {
     "cell_type": "code",
     "collapsed": false,
     "input": [
      "_T.shape\n",
      "\n",
      "_fname = 'OBWTFile_Nx_%d_Nz_%d.bin' % (_Nx,_Nz); #fname\n",
      "_fobj = open(_fname,mode='wb'); # handle\n",
      "_T_write = _T.reshape((1,_Nz)); # reshape for correct ordering\n",
      "_T_write[:,::-1].astype(_w_type).tofile(_fobj); # write\n",
      "_fobj.close() # close\n",
      "\n",
      "_fname = 'OBETFile_Nx_%d_Nz_%d.bin' % (_Nx,_Nz); #fname\n",
      "_fobj = open(_fname,mode='wb'); # handle\n",
      "_T_write = _T.reshape((1,_Nz)); # reshape for correct ordering\n",
      "_T_write[:,::-1].astype(_w_type).tofile(_fobj); # write\n",
      "_fobj.close() # close"
     ],
     "language": "python",
     "metadata": {},
     "outputs": [],
     "prompt_number": 13
    },
    {
     "cell_type": "code",
     "collapsed": false,
     "input": [
      "print _delX.shape"
     ],
     "language": "python",
     "metadata": {},
     "outputs": [
      {
       "output_type": "stream",
       "stream": "stdout",
       "text": [
        "(384,)\n"
       ]
      }
     ],
     "prompt_number": 14
    },
    {
     "cell_type": "code",
     "collapsed": false,
     "input": [
      "86400*2"
     ],
     "language": "python",
     "metadata": {},
     "outputs": [
      {
       "metadata": {},
       "output_type": "pyout",
       "prompt_number": 40,
       "text": [
        "172800"
       ]
      }
     ],
     "prompt_number": 40
    },
    {
     "cell_type": "code",
     "collapsed": false,
     "input": [
      "1000/512"
     ],
     "language": "python",
     "metadata": {},
     "outputs": [
      {
       "metadata": {},
       "output_type": "pyout",
       "prompt_number": 41,
       "text": [
        "1.953125"
       ]
      }
     ],
     "prompt_number": 41
    },
    {
     "cell_type": "code",
     "collapsed": false,
     "input": [
      "200/512"
     ],
     "language": "python",
     "metadata": {},
     "outputs": [
      {
       "metadata": {},
       "output_type": "pyout",
       "prompt_number": 42,
       "text": [
        "0.390625"
       ]
      }
     ],
     "prompt_number": 42
    },
    {
     "cell_type": "code",
     "collapsed": false,
     "input": [
      "_delX[1]"
     ],
     "language": "python",
     "metadata": {},
     "outputs": [
      {
       "metadata": {},
       "output_type": "pyout",
       "prompt_number": 44,
       "text": [
        "39.164490861618802"
       ]
      }
     ],
     "prompt_number": 44
    },
    {
     "cell_type": "code",
     "collapsed": false,
     "input": [
      "print _x1[-1]\n",
      "print _x2[0]\n",
      "print _x2[-1]\n",
      "print _x3[0]"
     ],
     "language": "python",
     "metadata": {},
     "outputs": [
      {
       "output_type": "stream",
       "stream": "stdout",
       "text": [
        "4000.0\n",
        "4015.625\n",
        "6000.0\n",
        "6101.5625\n"
       ]
      }
     ],
     "prompt_number": 27
    },
    {
     "cell_type": "code",
     "collapsed": false,
     "input": [
      "_x.shape"
     ],
     "language": "python",
     "metadata": {},
     "outputs": [
      {
       "metadata": {},
       "output_type": "pyout",
       "prompt_number": 28,
       "text": [
        "(256,)"
       ]
      }
     ],
     "prompt_number": 28
    },
    {
     "cell_type": "code",
     "collapsed": false,
     "input": [
      "_dx_ext"
     ],
     "language": "python",
     "metadata": {},
     "outputs": [
      {
       "metadata": {},
       "output_type": "pyout",
       "prompt_number": 19,
       "text": [
        "101.5625"
       ]
      }
     ],
     "prompt_number": 19
    },
    {
     "cell_type": "code",
     "collapsed": false,
     "input": [],
     "language": "python",
     "metadata": {},
     "outputs": []
    }
   ],
   "metadata": {}
  }
 ]
}