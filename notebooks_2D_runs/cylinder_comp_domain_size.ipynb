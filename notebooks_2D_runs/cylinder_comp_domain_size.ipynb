{
 "metadata": {
  "name": "",
  "signature": "sha256:a6531a292dab5e2c1f7348502670e338bd88866465afeb6b0887b0cc8988434f"
 },
 "nbformat": 3,
 "nbformat_minor": 0,
 "worksheets": [
  {
   "cells": [
    {
     "cell_type": "markdown",
     "metadata": {},
     "source": [
      "This notebook compares the standard 40cm wide by 10cm tall tank domain to the 80cm wide by 10cm tall tank domain. The resolution is currently low, but if there are discrepancies in data, the resolutions will be increased."
     ]
    },
    {
     "cell_type": "code",
     "collapsed": false,
     "input": [
      "import cylinder_utils as cu\n",
      "import numpy as np\n",
      "import matplotlib.pyplot as plt\n",
      "import scipy.integrate as integrate\n",
      "from MITgcmutils import rdmds\n",
      "\n",
      "import matplotlib.pylab as pylab\n",
      "pylab.rcParams['figure.figsize'] = (16,12)\n",
      "\n",
      "from matplotlib import rc\n",
      "#rc('font',**{'family':'sans-serif','sans-serif':['Helvetica']})\n",
      "## for Palatino and other serif fonts use:\n",
      "#rc('font',**{'family':'serif','serif':['Palatino']})\n",
      "rc('text', usetex=True)\n",
      "\n",
      "%matplotlib inline"
     ],
     "language": "python",
     "metadata": {},
     "outputs": [],
     "prompt_number": 1
    },
    {
     "cell_type": "markdown",
     "metadata": {},
     "source": [
      "Load in the meta data for the two runs to compare; in this notebook the 0.4m tank domain is compared to the 0.8m tank domain. The spatial resolution is identical in both cases."
     ]
    },
    {
     "cell_type": "code",
     "collapsed": false,
     "input": [
      "Ncomps = 2\n",
      "Nx = [256,512]\n",
      "Nz = [64,64]\n",
      "\n",
      "dirs = ['../../CylinderNx256Nz64_001','../../CylinderNx512Nz64_extLx']\n",
      "\n",
      "X=[0]*Ncomps\n",
      "Z=[0]*Ncomps\n",
      "dt=[0]*Ncomps\n",
      "R0=[0]*Ncomps\n",
      "Lx=[0]*Ncomps\n",
      "Lz=[0]*Ncomps\n",
      "\n",
      "dt[0] = 4e-3\n",
      "dt[1] = 2e-3\n",
      "#dt[2] = 2.5e-4\n",
      "\n",
      "Lx[0] = 0.4\n",
      "Lx[1] = 0.8\n",
      "#Lx[2] = 0.4\n",
      "\n",
      "Lz[0] = 0.1\n",
      "Lz[1] = 0.1\n",
      "#Lz[2] = 0.1\n",
      "\n",
      "R0[0] = 0.025\n",
      "R0[1] = 0.025\n",
      "#R0[2] = 0.025\n",
      "\n",
      "del_out = [0]*Ncomps\n",
      "max_out = [0]*Ncomps\n",
      "\n",
      "tmax = 35.0\n",
      "\n",
      "for ii in range(0,Ncomps):\n",
      "    del_out[ii] = int(1.0/dt[ii])\n",
      "    max_out[ii] = int(tmax/dt[ii])\n",
      "    X[ii] = np.squeeze(rdmds(dirs[ii]+'/XG')-Lx[ii]/2)\n",
      "    Z[ii] = np.squeeze(rdmds(dirs[ii]+'/RC')+Lz[ii])"
     ],
     "language": "python",
     "metadata": {},
     "outputs": [
      {
       "output_type": "stream",
       "stream": "stderr",
       "text": [
        "../../CylinderNx256Nz64_001/XG.001.001.meta\n",
        "../../CylinderNx256Nz64_001/RC.meta\n",
        "../../CylinderNx512Nz64_extLx/XG.001.001.meta\n",
        "../../CylinderNx512Nz64_extLx/RC.meta\n"
       ]
      }
     ],
     "prompt_number": 32
    },
    {
     "cell_type": "markdown",
     "metadata": {},
     "source": [
      "Compute the separation points for each output of each simulation."
     ]
    },
    {
     "cell_type": "code",
     "collapsed": false,
     "input": [
      "sep_pt = [0]*Ncomps\n",
      "for jj in range(0,Ncomps):\n",
      "    T=np.squeeze(rdmds(dirs[jj]+'/T',0))\n",
      "    bd_pts = cu.find_bdy(X[jj],Z[jj],R0[jj],T)\n",
      "    tmplst = []\n",
      "    for ii in range(0,max_out[jj]+1,del_out[jj]):\n",
      "        U=np.squeeze(rdmds(dirs[jj]+'/U',ii))\n",
      "        W=np.squeeze(rdmds(dirs[jj]+'/W',ii))\n",
      "        [theta_bd,dvtheta_dr_bd] = cu.calc_dvtheta_dr(X[jj],Z[jj],U,W,R0[jj],Nx[jj],Nz[jj],bd_pts)\n",
      "        tmplst.append(cu.find_zero(theta_bd,dvtheta_dr_bd))\n",
      "    sep_pt[jj] = tmplst"
     ],
     "language": "python",
     "metadata": {},
     "outputs": [
      {
       "output_type": "stream",
       "stream": "stderr",
       "text": [
        "../../CylinderNx256Nz64_001/T.0000000000.001.001.meta\n",
        "../../CylinderNx256Nz64_001/U.0000000000.001.001.meta\n",
        "../../CylinderNx256Nz64_001/W.0000000000.001.001.meta\n",
        "../../CylinderNx256Nz64_001/U.0000000250.001.001.meta\n",
        "../../CylinderNx256Nz64_001/W.0000000250.001.001.meta\n",
        "../../CylinderNx256Nz64_001/U.0000000500.001.001.meta\n",
        "../../CylinderNx256Nz64_001/W.0000000500.001.001.meta\n",
        "../../CylinderNx256Nz64_001/U.0000000750.001.001.meta\n"
       ]
      },
      {
       "output_type": "stream",
       "stream": "stderr",
       "text": [
        "../../CylinderNx256Nz64_001/W.0000000750.001.001.meta\n",
        "../../CylinderNx256Nz64_001/U.0000001000.001.001.meta\n",
        "../../CylinderNx256Nz64_001/W.0000001000.001.001.meta\n",
        "../../CylinderNx256Nz64_001/U.0000001250.001.001.meta\n",
        "../../CylinderNx256Nz64_001/W.0000001250.001.001.meta\n",
        "../../CylinderNx256Nz64_001/U.0000001500.001.001.meta\n",
        "../../CylinderNx256Nz64_001/W.0000001500.001.001.meta\n",
        "../../CylinderNx256Nz64_001/U.0000001750.001.001.meta\n",
        "../../CylinderNx256Nz64_001/W.0000001750.001.001.meta\n"
       ]
      },
      {
       "output_type": "stream",
       "stream": "stdout",
       "text": [
        "Found zero!\n",
        "Found zero!\n",
        "Found zero!\n",
        "Found zero!\n",
        "Found zero!"
       ]
      },
      {
       "output_type": "stream",
       "stream": "stderr",
       "text": [
        "../../CylinderNx256Nz64_001/U.0000002000.001.001.meta\n",
        "../../CylinderNx256Nz64_001/W.0000002000.001.001.meta\n",
        "../../CylinderNx256Nz64_001/U.0000002250.001.001.meta\n",
        "../../CylinderNx256Nz64_001/W.0000002250.001.001.meta\n",
        "../../CylinderNx256Nz64_001/U.0000002500.001.001.meta\n",
        "../../CylinderNx256Nz64_001/W.0000002500.001.001.meta\n",
        "../../CylinderNx256Nz64_001/U.0000002750.001.001.meta\n",
        "../../CylinderNx256Nz64_001/W.0000002750.001.001.meta\n",
        "../../CylinderNx256Nz64_001/U.0000003000.001.001.meta\n"
       ]
      },
      {
       "output_type": "stream",
       "stream": "stdout",
       "text": [
        "\n",
        "Found zero!\n",
        "Found zero!\n",
        "Found zero!"
       ]
      },
      {
       "output_type": "stream",
       "stream": "stderr",
       "text": [
        "../../CylinderNx256Nz64_001/W.0000003000.001.001.meta\n",
        "../../CylinderNx256Nz64_001/U.0000003250.001.001.meta\n",
        "../../CylinderNx256Nz64_001/W.0000003250.001.001.meta\n",
        "../../CylinderNx256Nz64_001/U.0000003500.001.001.meta\n",
        "../../CylinderNx256Nz64_001/W.0000003500.001.001.meta\n",
        "../../CylinderNx256Nz64_001/U.0000003750.001.001.meta\n",
        "../../CylinderNx256Nz64_001/W.0000003750.001.001.meta\n"
       ]
      },
      {
       "output_type": "stream",
       "stream": "stdout",
       "text": [
        "\n",
        "Found zero!\n",
        "Found zero!\n",
        "Found zero!\n",
        "Found zero!"
       ]
      },
      {
       "output_type": "stream",
       "stream": "stderr",
       "text": [
        "../../CylinderNx256Nz64_001/U.0000004000.001.001.meta\n",
        "../../CylinderNx256Nz64_001/W.0000004000.001.001.meta\n",
        "../../CylinderNx256Nz64_001/U.0000004250.001.001.meta\n",
        "../../CylinderNx256Nz64_001/W.0000004250.001.001.meta\n",
        "../../CylinderNx256Nz64_001/U.0000004500.001.001.meta\n",
        "../../CylinderNx256Nz64_001/W.0000004500.001.001.meta\n",
        "../../CylinderNx256Nz64_001/U.0000004750.001.001.meta\n",
        "../../CylinderNx256Nz64_001/W.0000004750.001.001.meta\n",
        "../../CylinderNx256Nz64_001/U.0000005000.001.001.meta\n"
       ]
      },
      {
       "output_type": "stream",
       "stream": "stdout",
       "text": [
        "\n",
        "Found zero!\n",
        "Found zero!\n",
        "Found zero!\n",
        "Found zero!"
       ]
      },
      {
       "output_type": "stream",
       "stream": "stderr",
       "text": [
        "../../CylinderNx256Nz64_001/W.0000005000.001.001.meta\n",
        "../../CylinderNx256Nz64_001/U.0000005250.001.001.meta\n",
        "../../CylinderNx256Nz64_001/W.0000005250.001.001.meta\n",
        "../../CylinderNx256Nz64_001/U.0000005500.001.001.meta\n",
        "../../CylinderNx256Nz64_001/W.0000005500.001.001.meta\n",
        "../../CylinderNx256Nz64_001/U.0000005750.001.001.meta\n",
        "../../CylinderNx256Nz64_001/W.0000005750.001.001.meta\n",
        "../../CylinderNx256Nz64_001/U.0000006000.001.001.meta\n"
       ]
      },
      {
       "output_type": "stream",
       "stream": "stdout",
       "text": [
        "\n",
        "Found zero!\n",
        "Found zero!\n",
        "Found zero!\n",
        "Found zero!"
       ]
      },
      {
       "output_type": "stream",
       "stream": "stderr",
       "text": [
        "../../CylinderNx256Nz64_001/W.0000006000.001.001.meta\n",
        "../../CylinderNx256Nz64_001/U.0000006250.001.001.meta\n",
        "../../CylinderNx256Nz64_001/W.0000006250.001.001.meta\n",
        "../../CylinderNx256Nz64_001/U.0000006500.001.001.meta\n",
        "../../CylinderNx256Nz64_001/W.0000006500.001.001.meta\n",
        "../../CylinderNx256Nz64_001/U.0000006750.001.001.meta\n",
        "../../CylinderNx256Nz64_001/W.0000006750.001.001.meta\n",
        "../../CylinderNx256Nz64_001/U.0000007000.001.001.meta\n"
       ]
      },
      {
       "output_type": "stream",
       "stream": "stdout",
       "text": [
        "\n",
        "Found zero!\n",
        "Found zero!\n",
        "Found zero!\n",
        "Found zero!"
       ]
      },
      {
       "output_type": "stream",
       "stream": "stderr",
       "text": [
        "../../CylinderNx256Nz64_001/W.0000007000.001.001.meta\n",
        "../../CylinderNx256Nz64_001/U.0000007250.001.001.meta\n",
        "../../CylinderNx256Nz64_001/W.0000007250.001.001.meta\n",
        "../../CylinderNx256Nz64_001/U.0000007500.001.001.meta\n",
        "../../CylinderNx256Nz64_001/W.0000007500.001.001.meta\n",
        "../../CylinderNx256Nz64_001/U.0000007750.001.001.meta\n",
        "../../CylinderNx256Nz64_001/W.0000007750.001.001.meta\n",
        "../../CylinderNx256Nz64_001/U.0000008000.001.001.meta\n",
        "../../CylinderNx256Nz64_001/W.0000008000.001.001.meta\n"
       ]
      },
      {
       "output_type": "stream",
       "stream": "stdout",
       "text": [
        "\n",
        "Found zero!\n",
        "Found zero!\n",
        "Found zero!\n",
        "Found zero!"
       ]
      },
      {
       "output_type": "stream",
       "stream": "stderr",
       "text": [
        "../../CylinderNx256Nz64_001/U.0000008250.001.001.meta\n",
        "../../CylinderNx256Nz64_001/W.0000008250.001.001.meta\n",
        "../../CylinderNx256Nz64_001/U.0000008500.001.001.meta\n",
        "../../CylinderNx256Nz64_001/W.0000008500.001.001.meta\n",
        "../../CylinderNx256Nz64_001/U.0000008750.001.001.meta\n",
        "../../CylinderNx256Nz64_001/W.0000008750.001.001.meta\n",
        "../../CylinderNx512Nz64_extLx/T.0000000000.001.001.meta\n",
        "../../CylinderNx512Nz64_extLx/U.0000000000.001.001.meta\n"
       ]
      },
      {
       "output_type": "stream",
       "stream": "stderr",
       "text": [
        "../../CylinderNx512Nz64_extLx/W.0000000000.001.001.meta\n",
        "../../CylinderNx512Nz64_extLx/U.0000000500.001.001.meta\n",
        "../../CylinderNx512Nz64_extLx/W.0000000500.001.001.meta\n",
        "../../CylinderNx512Nz64_extLx/U.0000001000.001.001.meta\n",
        "../../CylinderNx512Nz64_extLx/W.0000001000.001.001.meta\n",
        "../../CylinderNx512Nz64_extLx/U.0000001500.001.001.meta\n",
        "../../CylinderNx512Nz64_extLx/W.0000001500.001.001.meta\n",
        "../../CylinderNx512Nz64_extLx/U.0000002000.001.001.meta\n",
        "../../CylinderNx512Nz64_extLx/W.0000002000.001.001.meta\n"
       ]
      },
      {
       "output_type": "stream",
       "stream": "stdout",
       "text": [
        "\n",
        "Found zero!\n",
        "Found zero!\n",
        "Found zero!"
       ]
      },
      {
       "output_type": "stream",
       "stream": "stderr",
       "text": [
        "../../CylinderNx512Nz64_extLx/U.0000002500.001.001.meta\n",
        "../../CylinderNx512Nz64_extLx/W.0000002500.001.001.meta\n",
        "../../CylinderNx512Nz64_extLx/U.0000003000.001.001.meta\n",
        "../../CylinderNx512Nz64_extLx/W.0000003000.001.001.meta\n",
        "../../CylinderNx512Nz64_extLx/U.0000003500.001.001.meta\n",
        "../../CylinderNx512Nz64_extLx/W.0000003500.001.001.meta\n",
        "../../CylinderNx512Nz64_extLx/U.0000004000.001.001.meta\n",
        "../../CylinderNx512Nz64_extLx/W.0000004000.001.001.meta\n"
       ]
      },
      {
       "output_type": "stream",
       "stream": "stdout",
       "text": [
        "\n",
        "Found zero!\n",
        "Found zero!\n",
        "Found zero!"
       ]
      },
      {
       "output_type": "stream",
       "stream": "stderr",
       "text": [
        "../../CylinderNx512Nz64_extLx/U.0000004500.001.001.meta\n",
        "../../CylinderNx512Nz64_extLx/W.0000004500.001.001.meta\n",
        "../../CylinderNx512Nz64_extLx/U.0000005000.001.001.meta\n",
        "../../CylinderNx512Nz64_extLx/W.0000005000.001.001.meta\n",
        "../../CylinderNx512Nz64_extLx/U.0000005500.001.001.meta\n",
        "../../CylinderNx512Nz64_extLx/W.0000005500.001.001.meta\n",
        "../../CylinderNx512Nz64_extLx/U.0000006000.001.001.meta\n",
        "../../CylinderNx512Nz64_extLx/W.0000006000.001.001.meta\n"
       ]
      },
      {
       "output_type": "stream",
       "stream": "stdout",
       "text": [
        "\n",
        "Found zero!\n",
        "Found zero!\n",
        "Found zero!\n",
        "Found zero!"
       ]
      },
      {
       "output_type": "stream",
       "stream": "stderr",
       "text": [
        "../../CylinderNx512Nz64_extLx/U.0000006500.001.001.meta\n",
        "../../CylinderNx512Nz64_extLx/W.0000006500.001.001.meta\n",
        "../../CylinderNx512Nz64_extLx/U.0000007000.001.001.meta\n",
        "../../CylinderNx512Nz64_extLx/W.0000007000.001.001.meta\n",
        "../../CylinderNx512Nz64_extLx/U.0000007500.001.001.meta\n",
        "../../CylinderNx512Nz64_extLx/W.0000007500.001.001.meta\n",
        "../../CylinderNx512Nz64_extLx/U.0000008000.001.001.meta\n",
        "../../CylinderNx512Nz64_extLx/W.0000008000.001.001.meta\n",
        "../../CylinderNx512Nz64_extLx/U.0000008500.001.001.meta\n"
       ]
      },
      {
       "output_type": "stream",
       "stream": "stdout",
       "text": [
        "\n",
        "Found zero!\n",
        "Found zero!\n",
        "Found zero!\n",
        "Found zero!"
       ]
      },
      {
       "output_type": "stream",
       "stream": "stderr",
       "text": [
        "../../CylinderNx512Nz64_extLx/W.0000008500.001.001.meta\n",
        "../../CylinderNx512Nz64_extLx/U.0000009000.001.001.meta\n",
        "../../CylinderNx512Nz64_extLx/W.0000009000.001.001.meta\n",
        "../../CylinderNx512Nz64_extLx/U.0000009500.001.001.meta\n",
        "../../CylinderNx512Nz64_extLx/W.0000009500.001.001.meta\n",
        "../../CylinderNx512Nz64_extLx/U.0000010000.001.001.meta\n",
        "../../CylinderNx512Nz64_extLx/W.0000010000.001.001.meta\n",
        "../../CylinderNx512Nz64_extLx/U.0000010500.001.001.meta\n",
        "../../CylinderNx512Nz64_extLx/W.0000010500.001.001.meta\n"
       ]
      },
      {
       "output_type": "stream",
       "stream": "stdout",
       "text": [
        "\n",
        "Found zero!\n",
        "Found zero!\n",
        "Found zero!\n",
        "Found zero!"
       ]
      },
      {
       "output_type": "stream",
       "stream": "stderr",
       "text": [
        "../../CylinderNx512Nz64_extLx/U.0000011000.001.001.meta\n",
        "../../CylinderNx512Nz64_extLx/W.0000011000.001.001.meta\n",
        "../../CylinderNx512Nz64_extLx/U.0000011500.001.001.meta\n",
        "../../CylinderNx512Nz64_extLx/W.0000011500.001.001.meta\n",
        "../../CylinderNx512Nz64_extLx/U.0000012000.001.001.meta\n",
        "../../CylinderNx512Nz64_extLx/W.0000012000.001.001.meta\n",
        "../../CylinderNx512Nz64_extLx/U.0000012500.001.001.meta\n",
        "../../CylinderNx512Nz64_extLx/W.0000012500.001.001.meta\n"
       ]
      },
      {
       "output_type": "stream",
       "stream": "stdout",
       "text": [
        "\n",
        "Found zero!\n",
        "Found zero!\n",
        "Found zero!\n",
        "Found zero!"
       ]
      },
      {
       "output_type": "stream",
       "stream": "stdout",
       "text": [
        "\n",
        "Found zero!\n",
        "Found zero!\n",
        "Found zero!\n",
        "Found zero!"
       ]
      },
      {
       "output_type": "stream",
       "stream": "stderr",
       "text": [
        "../../CylinderNx512Nz64_extLx/U.0000013000.001.001.meta\n",
        "../../CylinderNx512Nz64_extLx/W.0000013000.001.001.meta\n",
        "../../CylinderNx512Nz64_extLx/U.0000013500.001.001.meta\n",
        "../../CylinderNx512Nz64_extLx/W.0000013500.001.001.meta\n",
        "../../CylinderNx512Nz64_extLx/U.0000014000.001.001.meta\n",
        "../../CylinderNx512Nz64_extLx/W.0000014000.001.001.meta\n",
        "../../CylinderNx512Nz64_extLx/U.0000014500.001.001.meta\n",
        "../../CylinderNx512Nz64_extLx/W.0000014500.001.001.meta\n",
        "../../CylinderNx512Nz64_extLx/U.0000015000.001.001.meta\n"
       ]
      },
      {
       "output_type": "stream",
       "stream": "stdout",
       "text": [
        "\n",
        "Found zero!\n",
        "Found zero!\n",
        "Found zero!\n",
        "Found zero!"
       ]
      },
      {
       "output_type": "stream",
       "stream": "stderr",
       "text": [
        "../../CylinderNx512Nz64_extLx/W.0000015000.001.001.meta\n",
        "../../CylinderNx512Nz64_extLx/U.0000015500.001.001.meta\n",
        "../../CylinderNx512Nz64_extLx/W.0000015500.001.001.meta\n",
        "../../CylinderNx512Nz64_extLx/U.0000016000.001.001.meta\n",
        "../../CylinderNx512Nz64_extLx/W.0000016000.001.001.meta\n",
        "../../CylinderNx512Nz64_extLx/U.0000016500.001.001.meta\n",
        "../../CylinderNx512Nz64_extLx/W.0000016500.001.001.meta\n",
        "../../CylinderNx512Nz64_extLx/U.0000017000.001.001.meta\n",
        "../../CylinderNx512Nz64_extLx/W.0000017000.001.001.meta\n"
       ]
      },
      {
       "output_type": "stream",
       "stream": "stdout",
       "text": [
        "\n",
        "Found zero!\n",
        "Found zero!\n"
       ]
      },
      {
       "output_type": "stream",
       "stream": "stderr",
       "text": [
        "../../CylinderNx512Nz64_extLx/U.0000017500.001.001.meta\n",
        "../../CylinderNx512Nz64_extLx/W.0000017500.001.001.meta\n"
       ]
      }
     ],
     "prompt_number": 33
    },
    {
     "cell_type": "code",
     "collapsed": false,
     "input": [
      "form = ['-or','--ob','-og']\n",
      "for ii in range(Ncomps):\n",
      "    plt.plot(sep_pt[ii],form[ii])\n",
      "plt.legend(('Lx=0.4','Lx=0.8'))\n",
      "plt.ylim((0,180))\n",
      "plt.xlabel('time in seconds')\n",
      "plt.ylabel('separation angle')\n",
      "plt.show()"
     ],
     "language": "python",
     "metadata": {},
     "outputs": [
      {
       "metadata": {},
       "output_type": "display_data",
       "png": "[encoded data removed]",
       "text": [
        "<matplotlib.figure.Figure at 0x7f1b8be16dd0>"
       ]
      }
     ],
     "prompt_number": 34
    },
    {
     "cell_type": "markdown",
     "metadata": {},
     "source": [
      "It can be seen from the above figure that the size of the domain has a small effect on the separation point in time --- are there waves being generated as a result of the boundaries being close to the cylinder? Is it worth looking at higher resolution runs?"
     ]
    },
    {
     "cell_type": "code",
     "collapsed": false,
     "input": [
      "pylab.rcParams['figure.figsize'] = (2*5,3*5)\n",
      "\n",
      "plt.figure()\n",
      "\n",
      "Nplts = 3\n",
      "touts = [11,21,35]\n",
      "sel = 1\n",
      "\n",
      "for ii in range(0,Nplts):\n",
      "    sel = 0\n",
      "    U = np.squeeze(rdmds(dirs[sel]+'/U',touts[ii]*del_out[sel]))\n",
      "    plt.subplot(Nplts,2,2*ii+1)\n",
      "    plt.pcolor(X[sel],Z[sel],U,cmap='Spectral_r')\n",
      "    plt.xlim((-0.05, 0.05))\n",
      "    plt.clim((-0.005,0.015))\n",
      "    plt.ylim((0,0.1))\n",
      "    plt.title('Output t='+str(touts[ii]))\n",
      "    \n",
      "    sel = 1\n",
      "    U = np.squeeze(rdmds(dirs[sel]+'/U',touts[ii]*del_out[sel]))\n",
      "    plt.subplot(Nplts,2,2*ii+2)\n",
      "    plt.pcolor(X[sel],Z[sel],U,cmap='Spectral_r')\n",
      "    plt.xlim((-0.05, 0.05))\n",
      "    plt.clim((-0.005,0.015))\n",
      "    plt.ylim((0,0.1))\n",
      "    plt.title('Output t='+str(touts[ii]))\n",
      "    \n",
      "plt.show()"
     ],
     "language": "python",
     "metadata": {},
     "outputs": [
      {
       "output_type": "stream",
       "stream": "stderr",
       "text": [
        "../../CylinderNx256Nz64_001/U.0000002750.001.001.meta\n",
        "../../CylinderNx512Nz64_extLx/U.0000005500.001.001.meta\n"
       ]
      },
      {
       "output_type": "stream",
       "stream": "stderr",
       "text": [
        "../../CylinderNx256Nz64_001/U.0000005250.001.001.meta\n",
        "../../CylinderNx512Nz64_extLx/U.0000010500.001.001.meta\n"
       ]
      },
      {
       "output_type": "stream",
       "stream": "stderr",
       "text": [
        "../../CylinderNx256Nz64_001/U.0000008750.001.001.meta\n",
        "../../CylinderNx512Nz64_extLx/U.0000017500.001.001.meta\n"
       ]
      },
      {
       "metadata": {},
       "output_type": "display_data",
       "png": "[encoded data removed]",
       "text": [
        "<matplotlib.figure.Figure at 0x7f1b8a8941d0>"
       ]
      }
     ],
     "prompt_number": 36
    },
    {
     "cell_type": "markdown",
     "metadata": {},
     "source": [
      "Notice there are waves generated at the forward stagnation point, but this could be a result of the low resolution, or numerical error. The downstream stagnation point is generating a much clearer wave that propagates and evolves throughout the simulation. Clearly the solution is not steady, as seen by the back-propagating wave along the cylinder. Is there a steady solution? Could integrating it for a longer time show this?"
     ]
    },
    {
     "cell_type": "code",
     "collapsed": false,
     "input": [],
     "language": "python",
     "metadata": {},
     "outputs": []
    }
   ],
   "metadata": {}
  }
 ]
}