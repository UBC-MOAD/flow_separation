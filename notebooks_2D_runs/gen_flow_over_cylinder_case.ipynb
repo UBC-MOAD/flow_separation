{
 "metadata": {
  "name": "",
  "signature": "sha256:74d9744d4656c02b9098be6b5c6cdb1ee96f1aa2532340c5c9be5e2021d08810"
 },
 "nbformat": 3,
 "nbformat_minor": 0,
 "worksheets": [
  {
   "cells": [
    {
     "cell_type": "code",
     "collapsed": false,
     "input": [
      "from __future__ import division # fix division as floating point division\n",
      "import numpy as np # get numpy\n",
      "import matplotlib.pyplot as plt # get plotting\n",
      "\n",
      "# plot inline\n",
      "%matplotlib inline "
     ],
     "language": "python",
     "metadata": {},
     "outputs": [],
     "prompt_number": 121
    },
    {
     "cell_type": "code",
     "collapsed": false,
     "input": [
      "_fluid_depth = 0.2; #tank depth\n",
      "_U0 = 0.01;\n",
      "_R0 = 0.025; #radius of cylinder\n",
      "_Ltank = 0.4; #length of tank\n",
      "\n",
      "_Nx = 256; _Nz = 64;\n",
      "_x = np.linspace(-_Ltank/2,_Ltank/2,_Nx)\n",
      "_z = np.linspace(-_fluid_depth,0,_Nz)\n",
      "\n",
      "_h = np.zeros((_Nx,1))\n",
      "for itr,xx in enumerate(_x):\n",
      "    if xx > -_R0 and xx < _R0:\n",
      "        _h[itr] = np.sqrt(_R0**2-xx**2);\n",
      "\n",
      "_bathy = _h-_fluid_depth;\n",
      "        \n",
      "plt.figure();\n",
      "plt.subplot(1,2,1)\n",
      "plt.plot(_x,_h)\n",
      "plt.subplot(1,2,2)\n",
      "plt.plot(_x,_bathy)\n",
      "plt.show()"
     ],
     "language": "python",
     "metadata": {},
     "outputs": [
      {
       "metadata": {},
       "output_type": "display_data",
       "png": "[encoded data removed]",
       "text": [
        "<matplotlib.figure.Figure at 0x7ffb47ecd750>"
       ]
      }
     ],
     "prompt_number": 122
    },
    {
     "cell_type": "code",
     "collapsed": false,
     "input": [
      "_Ubc_left = 0*_z+_U0;\n",
      "\n",
      "_w_type = np.dtype('>f8'); # set the writing to binary file type --- fortran write style, big endian\n",
      "\n",
      "_delX = _x[1:-1]-_x[0:_Nx-2];\n",
      "_delX = np.append(_delX,_x[1]-_x[0]);\n",
      "_delX = np.append(_delX,_x[1]-_x[0]);\n",
      "\n",
      "_fname = 'delX_Nx_%d.bin' % (_Nx); # filename\n",
      "_fobj = open(_fname,mode='wb'); # file object\n",
      "_delX.astype(_w_type).tofile(_fobj); # write in correct format\n",
      "_fobj.close(); # close to save\n",
      "\n",
      "_fname = 'OBWuFile_Nx_%d_Nz_%d.bin' % (_Nx,_Nz); #fname\n",
      "_fobj = open(_fname,mode='wb'); # handle\n",
      "_Ubc_left_write = _Ubc_left.reshape((1,_Nz)); # reshape for correct ordering\n",
      "_Ubc_left_write.astype(_w_type).tofile(_fobj); # write\n",
      "_fobj.close() # close\n",
      "\n",
      "_fname = 'Bathy_profile_Nx_%d_Nz_%d.bin' % (_Nx,_Nz); # gen file name\n",
      "_fobj = open(_fname,mode='wb'); # get file handle\n",
      "_bathy_write = _bathy.reshape((1,_Nx)) # reshape for row/col ordering\n",
      "_bathy_write.astype(_w_type).tofile(_fobj); # write as correct type to handle\n",
      "_fobj.close(); # close to save"
     ],
     "language": "python",
     "metadata": {},
     "outputs": [],
     "prompt_number": 123
    },
    {
     "cell_type": "code",
     "collapsed": false,
     "input": [
      "print _Ltank/_Nx\n",
      "print _fluid_depth/_Nz"
     ],
     "language": "python",
     "metadata": {},
     "outputs": [
      {
       "output_type": "stream",
       "stream": "stdout",
       "text": [
        "0.0015625\n",
        "0.003125\n"
       ]
      }
     ],
     "prompt_number": 124
    },
    {
     "cell_type": "code",
     "collapsed": false,
     "input": [
      "20.0/128"
     ],
     "language": "python",
     "metadata": {},
     "outputs": [
      {
       "metadata": {},
       "output_type": "pyout",
       "prompt_number": 125,
       "text": [
        "0.15625"
       ]
      }
     ],
     "prompt_number": 125
    },
    {
     "cell_type": "markdown",
     "metadata": {},
     "source": [
      "Need to generate inital U fields. Note that the MITgcm calculates the initial W field from the divergence of the U and V fields."
     ]
    },
    {
     "cell_type": "code",
     "collapsed": false,
     "input": [
      "_Uinit = np.zeros((_Nz,_Nx))\n",
      "\n",
      "for jj,zz in enumerate(_z):\n",
      "    for ii,xx in enumerate(_x):\n",
      "        if xx**2+zz**2 >= _R0**2:\n",
      "            _Uinit[jj,ii] = _U0*(1+_R0**2/(xx**2+zz**2))-2*_U0*xx**2*_R0**2/(xx**2+zz**2)**2"
     ],
     "language": "python",
     "metadata": {},
     "outputs": [],
     "prompt_number": 126
    },
    {
     "cell_type": "code",
     "collapsed": false,
     "input": [
      "plt.pcolor(_x,-_z,_Uinit);\n",
      "#plt.clim((_U0,_U0+0.001))\n",
      "plt.colorbar()\n",
      "plt.show()"
     ],
     "language": "python",
     "metadata": {},
     "outputs": [
      {
       "metadata": {},
       "output_type": "display_data",
       "png": "[encoded data removed]",
       "text": [
        "<matplotlib.figure.Figure at 0x7ffb461632d0>"
       ]
      }
     ],
     "prompt_number": 127
    },
    {
     "cell_type": "code",
     "collapsed": false,
     "input": [
      "_fname = 'U_init_Nx_%d_Nz_%d.bin' % (_Nx,_Nz); # gen file name\n",
      "_fobj = open(_fname,mode='wb'); # get file handle\n",
      "#_U_write = _Uinit.reshape((_Nz,_Nx)) # reshape for row/col ordering\n",
      "_Uwrite = _Uinit\n",
      "_Uwrite.astype(_w_type).tofile(_fobj); # write as correct type to handle\n",
      "_fobj.close(); # close to save\n",
      "\n",
      "_fname = 'V_init_Nx_%d_Nz_%d.bin' % (_Nx,_Nz); # gen file name\n",
      "_fobj = open(_fname,mode='wb'); # get file handle\n",
      "_Vinit = np.zeros((_Nz,_Nx))\n",
      "_Vinit.astype(_w_type).tofile(_fobj); # write as correct type to handle\n",
      "_fobj.close(); # close to save"
     ],
     "language": "python",
     "metadata": {},
     "outputs": [],
     "prompt_number": 128
    },
    {
     "cell_type": "code",
     "collapsed": false,
     "input": [],
     "language": "python",
     "metadata": {},
     "outputs": [],
     "prompt_number": 128
    },
    {
     "cell_type": "code",
     "collapsed": false,
     "input": [],
     "language": "python",
     "metadata": {},
     "outputs": []
    }
   ],
   "metadata": {}
  }
 ]
}