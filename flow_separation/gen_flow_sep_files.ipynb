{
 "metadata": {
  "name": "",
  "signature": "sha256:845403f6522774a17e93775249c65af205d8d4cfb051bc0f6285df6d571697bc"
 },
 "nbformat": 3,
 "nbformat_minor": 0,
 "worksheets": [
  {
   "cells": [
    {
     "cell_type": "markdown",
     "metadata": {},
     "source": [
      "This ipynb creates the 2D topography, stratification, and boundary condition files for looking at Flow Separation in the MITgcm."
     ]
    },
    {
     "cell_type": "code",
     "collapsed": false,
     "input": [
      "from __future__ import division # fix division as floating point division\n",
      "import numpy as np # get numpy\n",
      "import matplotlib.pyplot as plt # get plotting\n",
      "\n",
      "# plot inline\n",
      "%matplotlib inline "
     ],
     "language": "python",
     "metadata": {},
     "outputs": [],
     "prompt_number": 2
    },
    {
     "cell_type": "markdown",
     "metadata": {},
     "source": [
      "Define some global parameters here."
     ]
    },
    {
     "cell_type": "code",
     "collapsed": false,
     "input": [
      "_depth = 200; # depth of fluid in metres\n",
      "_slope_sc = 0.25e3; # length scale of topographic slope in m\n",
      "_xwidth = 10e3; # x size of domain in metres\n",
      "_Nx = 256; # number of x points\n",
      "_Nz = 256; # number of z points\n",
      "_dx = _xwidth/_Nx; # x coord spacing\n",
      "_dz = _depth/_Nz; # z coord spacing\n",
      "_x = np.linspace(0,_xwidth,_Nx); # x variable --- change for cell-centered coordinates****\n",
      "_z = np.linspace(-_depth,0,_Nz); # z variable --- change for cell-centered coordinates****"
     ],
     "language": "python",
     "metadata": {},
     "outputs": [],
     "prompt_number": 3
    },
    {
     "cell_type": "markdown",
     "metadata": {},
     "source": [
      "We can define the bathymetry now."
     ]
    },
    {
     "cell_type": "code",
     "collapsed": false,
     "input": [
      "_shallow_depth = 50; # depth of shallow fluid\n",
      "_deep_depth = _depth; # depth of deep fluid\n",
      "_bathy = (_deep_depth-_shallow_depth)*(1-np.tanh((_x-_xwidth/2)/_slope_sc))/2-_depth; # define tanh bathymetry\n",
      "\n",
      "# plot results\n",
      "plt.plot(_x/1000,_bathy); \n",
      "plt.xlabel('x in km'); plt.ylabel('z'); plt.title('Bathymetry');\n",
      "plt.ylim((-_depth,0))\n",
      "plt.show();"
     ],
     "language": "python",
     "metadata": {},
     "outputs": [
      {
       "metadata": {},
       "output_type": "display_data",
       "png": "[encoded data removed]",
       "text": [
        "<matplotlib.figure.Figure at 0x7fe89e5dec90>"
       ]
      }
     ],
     "prompt_number": 16
    },
    {
     "cell_type": "markdown",
     "metadata": {},
     "source": [
      "The bathymetry profile is set, now need to define stratification and boundary conditions, then write all to file.\n",
      "\n",
      "For density, assume linear temperature gradient."
     ]
    },
    {
     "cell_type": "code",
     "collapsed": false,
     "input": [
      "_T_surface = 14; # surface temperature in deg. C\n",
      "_T_depth = 10; # bottom temperature in deg. C\n",
      "_T_slope = (_T_surface-_T_depth)/_depth; # define linear slope \n",
      "\n",
      "_T = _T_slope*_z+_T_surface; # define linear temperature gradient\n",
      "\n",
      "# plot results\n",
      "plt.plot(_T,_z); plt.ylabel('z'); plt.xlabel('T, deg. C'); plt.title('Temp. Profile');\n",
      "plt.show()"
     ],
     "language": "python",
     "metadata": {},
     "outputs": [
      {
       "metadata": {},
       "output_type": "display_data",
       "png": "[encoded data removed]",
       "text": [
        "<matplotlib.figure.Figure at 0x7fe8bc4fbf50>"
       ]
      }
     ],
     "prompt_number": 5
    },
    {
     "cell_type": "markdown",
     "metadata": {},
     "source": [
      "Now set OBCS prescribe boundary conditions. For this case, take U(x=0) = U0, where U0 is a constant"
     ]
    },
    {
     "cell_type": "code",
     "collapsed": false,
     "input": [
      "_U0 = 0.25; # in m/s\n",
      "\n",
      "_U_bc_west = 0*_z + _U0; # multiply _z by 0 to get an array of correct size, probably better ways to do this\n",
      "#_U_bc_west[_z<_bathy[0]]=0; # don't prescribe a velocity in the topography\n",
      "\n",
      "plt.plot(_U_bc_west,_z); plt.xlim(0,2); plt.ylabel('z'); plt.xlabel('U boundary condition, m/s'); plt.title('x=0 U vel. BC');\n",
      "plt.show();"
     ],
     "language": "python",
     "metadata": {},
     "outputs": [
      {
       "metadata": {},
       "output_type": "display_data",
       "png": "[encoded data removed]",
       "text": [
        "<matplotlib.figure.Figure at 0x7fe89e5de550>"
       ]
      }
     ],
     "prompt_number": 6
    },
    {
     "cell_type": "markdown",
     "metadata": {},
     "source": [
      "Now we want to write to file, starting with temperature."
     ]
    },
    {
     "cell_type": "code",
     "collapsed": false,
     "input": [
      "_w_type = np.dtype('>f8'); # set the writing to binary file type --- fortran write style, big endian\n",
      "\n",
      "_fname = \"T_profile_Nx_%d_Nz_%d.bin\" %(_Nx,_Nz); # generate file name\n",
      "_fobj = open(_fname,mode='wb'); # get handle to file\n",
      "_T_write = np.tile(_T,[_Nx,1]).transpose(); # transpose for the proper col/row ordering\n",
      "_T_write[::-1,:].astype(_w_type).tofile(_fobj); # need to reverse 'z' coordinate to comply with MITgcm read in\n",
      "_fobj.close(); # close file to save write"
     ],
     "language": "python",
     "metadata": {},
     "outputs": [],
     "prompt_number": 7
    },
    {
     "cell_type": "markdown",
     "metadata": {},
     "source": [
      "Now write the bathymetry file."
     ]
    },
    {
     "cell_type": "code",
     "collapsed": false,
     "input": [
      "_fname = 'Bathy_profile_Nx_%d_Nz_%d.bin' % (_Nx,_Nz); # gen file name\n",
      "_fobj = open(_fname,mode='wb'); # get file handle\n",
      "_bathy_write = _bathy.reshape((1,_Nx)) # reshape for row/col ordering\n",
      "_bathy_write.astype(_w_type).tofile(_fobj); # write as correct type to handle\n",
      "_fobj.close(); # close to save"
     ],
     "language": "python",
     "metadata": {},
     "outputs": [],
     "prompt_number": 8
    },
    {
     "cell_type": "markdown",
     "metadata": {},
     "source": [
      "Write the x file."
     ]
    },
    {
     "cell_type": "code",
     "collapsed": false,
     "input": [
      "_delX = np.zeros((_Nx,1))+_dx; # \\Delta x is uniformly spaced now --- need to change when _x changes***\n",
      "\n",
      "_fname = 'delX_Nx_%d.bin' % (_Nx); # filename\n",
      "_fobj = open(_fname,mode='wb'); # file object\n",
      "_delX.astype(_w_type).tofile(_fobj); # write in correct format\n",
      "_fobj.close(); # close to save"
     ],
     "language": "python",
     "metadata": {},
     "outputs": [],
     "prompt_number": 9
    },
    {
     "cell_type": "code",
     "collapsed": false,
     "input": [
      "_fname = 'OBWuFile_Nx_%d_Nz_%d.bin' % (_Nx,_Nz); #fname\n",
      "_fobj = open(_fname,mode='wb'); # handle\n",
      "_U_bc_w_write = _U_bc_west.reshape((1,_Nz)); # reshape for correct ordering\n",
      "_U_bc_w_write.astype(_w_type).tofile(_fobj); # write\n",
      "_fobj.close() # close"
     ],
     "language": "python",
     "metadata": {},
     "outputs": [],
     "prompt_number": 10
    },
    {
     "cell_type": "code",
     "collapsed": false,
     "input": [
      "_T.shape\n",
      "\n",
      "_fname = 'OBWTFile_Nx_%d_Nz_%d.bin' % (_Nx,_Nz); #fname\n",
      "_fobj = open(_fname,mode='wb'); # handle\n",
      "_T_write = _T.reshape((1,_Nz)); # reshape for correct ordering\n",
      "_T_write[:,::-1].astype(_w_type).tofile(_fobj); # write\n",
      "_fobj.close() # close\n",
      "\n",
      "_fname = 'OBETFile_Nx_%d_Nz_%d.bin' % (_Nx,_Nz); #fname\n",
      "_fobj = open(_fname,mode='wb'); # handle\n",
      "_T_write = _T.reshape((1,_Nz)); # reshape for correct ordering\n",
      "_T_write[:,::-1].astype(_w_type).tofile(_fobj); # write\n",
      "_fobj.close() # close"
     ],
     "language": "python",
     "metadata": {},
     "outputs": [],
     "prompt_number": 11
    },
    {
     "cell_type": "code",
     "collapsed": false,
     "input": [
      "_T.shape"
     ],
     "language": "python",
     "metadata": {},
     "outputs": [
      {
       "metadata": {},
       "output_type": "pyout",
       "prompt_number": 12,
       "text": [
        "(256,)"
       ]
      }
     ],
     "prompt_number": 12
    },
    {
     "cell_type": "code",
     "collapsed": false,
     "input": [
      "200/256"
     ],
     "language": "python",
     "metadata": {},
     "outputs": [
      {
       "metadata": {},
       "output_type": "pyout",
       "prompt_number": 13,
       "text": [
        "0.78125"
       ]
      }
     ],
     "prompt_number": 13
    },
    {
     "cell_type": "code",
     "collapsed": false,
     "input": [],
     "language": "python",
     "metadata": {},
     "outputs": []
    }
   ],
   "metadata": {}
  }
 ]
}