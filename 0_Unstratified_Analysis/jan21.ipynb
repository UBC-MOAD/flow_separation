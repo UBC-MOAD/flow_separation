{
 "metadata": {
  "name": "",
  "signature": "sha256:ae4fb91fafc6f7a80930c2c2f06e2f7b7e11b14184ee466d0b451a29020dcd64"
 },
 "nbformat": 3,
 "nbformat_minor": 0,
 "worksheets": [
  {
   "cells": [
    {
     "cell_type": "markdown",
     "metadata": {},
     "source": [
      "This notebook compares the NONHYDROSTATIC runs of flow-over-cylinder, and additionally looks at the separation point as a function of time."
     ]
    },
    {
     "cell_type": "code",
     "collapsed": false,
     "input": [
      "import numpy as np\n",
      "from MITgcmutils import rdmds\n",
      "import matplotlib.pyplot as plt\n",
      "\n",
      "%matplotlib inline"
     ],
     "language": "python",
     "metadata": {},
     "outputs": [],
     "prompt_number": 54
    },
    {
     "cell_type": "markdown",
     "metadata": {},
     "source": [
      "Set up the directories and the whatnots."
     ]
    },
    {
     "cell_type": "code",
     "collapsed": false,
     "input": [
      "dirNS = '../../No_Slip_Cylinder/run6/'\n",
      "dirFS = '../../Free_Slip_Cylinder/run4/'\n",
      "\n",
      "R0 = 0.025\n",
      "\n",
      "# define the no slip domain\n",
      "xNS = np.squeeze(rdmds(dirNS+'XC'))-0.2\n",
      "zNS = np.squeeze(rdmds(dirNS+'RC'))+0.4\n",
      "\n",
      "NxNS = len(xNS)\n",
      "NzNS = len(zNS)\n",
      "\n",
      "depthNS = np.squeeze(rdmds(dirNS+'Depth'))\n",
      "topoNS = np.max(depthNS)-depthNS\n",
      "\n",
      "# define the free slip domain\n",
      "xFS = np.squeeze(rdmds(dirFS+'XC'))-0.2\n",
      "zFS = np.squeeze(rdmds(dirFS+'RC'))+0.4\n",
      "\n",
      "NxFS = len(xFS)\n",
      "NzFS = len(zFS)\n",
      "\n",
      "depthFS = np.squeeze(rdmds(dirFS+'Depth'))\n",
      "topoFS = np.max(depthFS)-depthFS"
     ],
     "language": "python",
     "metadata": {},
     "outputs": [
      {
       "output_type": "stream",
       "stream": "stderr",
       "text": [
        "../../No_Slip_Cylinder/run6/XC.008.001.meta\n",
        "../../No_Slip_Cylinder/run6/RC.meta\n"
       ]
      },
      {
       "output_type": "stream",
       "stream": "stderr",
       "text": [
        "../../No_Slip_Cylinder/run6/Depth.004.001.meta\n",
        "../../Free_Slip_Cylinder/run4/XC.001.001.meta\n"
       ]
      },
      {
       "output_type": "stream",
       "stream": "stderr",
       "text": [
        "../../Free_Slip_Cylinder/run4/RC.meta\n",
        "../../Free_Slip_Cylinder/run4/Depth.001.001.meta\n"
       ]
      }
     ],
     "prompt_number": 75
    },
    {
     "cell_type": "markdown",
     "metadata": {},
     "source": [
      "We need the mask arrays to determine the exact location of where the topography begins and ends in the $u$ and $w$ fields."
     ]
    },
    {
     "cell_type": "code",
     "collapsed": false,
     "input": [
      "def get_mask(U0,Nx,Nz):\n",
      "    msk = np.zeros((Nz,Nx))\n",
      "    for jj in range(0,Nz):\n",
      "        for ii in range(0,Nx):\n",
      "            if U0[jj,ii] == 0:\n",
      "                msk[jj,ii] = 1\n",
      "    return msk"
     ],
     "language": "python",
     "metadata": {},
     "outputs": [],
     "prompt_number": 76
    },
    {
     "cell_type": "markdown",
     "metadata": {},
     "source": [
      "Generate the masks for the no slip and free slip cases."
     ]
    },
    {
     "cell_type": "code",
     "collapsed": false,
     "input": [
      "U0NS = np.squeeze(rdmds(dirNS+'U',2000))\n",
      "U0FS = np.squeeze(rdmds(dirFS+'U',2000))\n",
      "\n",
      "maskNS = get_mask(U0NS,NxNS,NzNS)\n",
      "maskFS = get_mask(U0FS,NxFS,NzFS)\n",
      "\n",
      "plt.figure()\n",
      "plt.imshow(maskNS)\n",
      "plt.show()"
     ],
     "language": "python",
     "metadata": {},
     "outputs": [
      {
       "output_type": "stream",
       "stream": "stderr",
       "text": [
        "../../No_Slip_Cylinder/run6/U.0000002000.004.001.meta\n",
        "../../Free_Slip_Cylinder/run4/U.0000002000.001.001.meta\n"
       ]
      },
      {
       "metadata": {},
       "output_type": "display_data",
       "png": "[encoded data removed]",
       "text": [
        "<matplotlib.figure.Figure at 0x7f7485867190>"
       ]
      }
     ],
     "prompt_number": 77
    },
    {
     "cell_type": "markdown",
     "metadata": {},
     "source": [
      "Need a function to get the angular speed around the cylinder, $u_\\theta$."
     ]
    },
    {
     "cell_type": "code",
     "collapsed": false,
     "input": [
      "def get_polar_trans(x,z,U,W):\n",
      "    U_r = np.zeros(np.shape(U))\n",
      "    U_theta = np.zeros(np.shape(U))\n",
      "    \n",
      "    r = np.zeros(np.shape(U))\n",
      "    theta = np.zeros(np.shape(U))\n",
      "    \n",
      "    for jj,zz in enumerate(z):\n",
      "        for ii,xx in enumerate(x):\n",
      "            rr = np.sqrt(xx**2+zz**2)\n",
      "            thet = np.arctan2(zz,xx)\n",
      "            \n",
      "            r[jj,ii] = rr\n",
      "            theta[jj,ii] = thet\n",
      "            U_r[jj,ii] =U[jj,ii]*np.cos(thet) + W[jj,ii]*np.sin(thet);\n",
      "            U_theta[jj,ii] =-U[jj,ii]*np.sin(thet) + W[jj,ii]*np.cos(thet);\n",
      "            \n",
      "    return r,theta,U_r,U_theta"
     ],
     "language": "python",
     "metadata": {},
     "outputs": [],
     "prompt_number": 78
    },
    {
     "cell_type": "code",
     "collapsed": false,
     "input": [
      "U0NS = np.squeeze(rdmds(dirNS+'U',2000))\n",
      "W0NS = np.squeeze(rdmds(dirNS+'W',2000))\n",
      "rNS,thetNS,UNS_r,UNS_thet = get_polar_trans(xNS,zNS,U0NS,W0NS)\n",
      "\n",
      "U0FS = np.squeeze(rdmds(dirFS+'U',2000))\n",
      "W0FS = np.squeeze(rdmds(dirFS+'W',2000))\n",
      "rFS,thetFS,UFS_r,UFS_thet = get_polar_trans(xFS,zFS,U0FS,W0FS)"
     ],
     "language": "python",
     "metadata": {},
     "outputs": [
      {
       "output_type": "stream",
       "stream": "stderr",
       "text": [
        "../../No_Slip_Cylinder/run6/U.0000002000.004.001.meta\n",
        "../../No_Slip_Cylinder/run6/W.0000002000.004.001.meta\n",
        "../../Free_Slip_Cylinder/run4/U.0000002000.001.001.meta\n"
       ]
      },
      {
       "output_type": "stream",
       "stream": "stderr",
       "text": [
        "../../Free_Slip_Cylinder/run4/W.0000002000.001.001.meta\n"
       ]
      }
     ],
     "prompt_number": 79
    },
    {
     "cell_type": "code",
     "collapsed": false,
     "input": [
      "def find_dvtheta_dr(x,z,u,w,ux,uz,wx,wz):\n",
      "    return -(-wx*x**2+x*w-x*z*wz+x*z*ux-z*u+z**2*uz)/(x**2+z**2)**(1.5)\n",
      "\n",
      "def find_bd_pts(mask):\n",
      "    Nz,Nx = mask.shape\n",
      "    \n",
      "    bd_pts = []\n",
      "    for jj in range(0,Nz):\n",
      "        for ii in range(0,Nx):\n",
      "            if mask[jj,ii] == 1:\n",
      "                continue\n",
      "            elif ii+1 < Nx and mask[jj,ii+1] == 1:\n",
      "                bd_pts.append([jj,ii])\n",
      "            elif ii-1 >= 0  and mask[jj,ii-1] == 1:\n",
      "                bd_pts.append([jj,ii])\n",
      "            elif jj+1 < Nz and mask[jj+1,ii] == 1:\n",
      "                bd_pts.append([jj,ii])\n",
      "            elif jj-1 >= 0 and mask[jj-1,ii] == 1:\n",
      "                bd_pts.append([jj,ii])\n",
      "            elif jj+1 < Nz and ii+1 < Nx and mask[jj+1,ii+1] == 1:\n",
      "                bd_pts.append([jj,ii])\n",
      "            elif jj+1 < Nz and ii-1 >= 0 and mask[jj+1,ii-1] == 1:\n",
      "                bd_pts.append([jj,ii])\n",
      "            elif jj-1 >= 0 and ii+1 < Nx and mask[jj-1,ii+1] == 1:\n",
      "                bd_pts.append([jj,ii])\n",
      "            elif jj-1 >= 0 and ii-1 >= 0 and mask[jj-1,ii-1] == 1:\n",
      "                bd_pts.append([jj,ii])\n",
      "                \n",
      "    return bd_pts\n",
      "\n",
      "def calc_dvtheta_dr(X,Z,U,W,R0,Nx,Nz,bd_pts):\n",
      "    ''' calc_dvtheta_dr\n",
      "    Takes:\n",
      "      X: 1D array of x position values\n",
      "      Z: 1D array of z position values\n",
      "      U: 2D array of u values (ordered [Z,X])\n",
      "      W: 2D array of w values\n",
      "      R0: physical radius of cylinder (2.5cm)\n",
      "      Nx: number of x points in domain\n",
      "      Nz: number of z points in domain\n",
      "      bd_pts: boundary points\n",
      "    Returns:\n",
      "      theta_bd: the theta value of boundary points (in degrees, measured from the left\n",
      "                stagnation point)\n",
      "      dvtheta_dr: the derivative at the boundary points\n",
      " \n",
      "    This function calculates the value of dvtheta_dr for each boundary cell.\n",
      "    '''\n",
      "    dx = (X[-1]-X[0])/Nx\n",
      "    dz = abs((Z[-1]-Z[0])/Nz)\n",
      "\n",
      "    dvtheta_dr_bd = []\n",
      "    theta_bd = []\n",
      "\n",
      "    for ii in bd_pts:\n",
      "        xind = ii[1]\n",
      "        zind = ii[0]\n",
      "        xx = X[xind]\n",
      "        zz = Z[zind]\n",
      "        u_bd = U[zind,xind]\n",
      "        w_bd = W[zind,xind]\n",
      "        if xx < 0:\n",
      "            ux_bd = (U[zind,xind]-U[zind,xind-1])/dx\n",
      "            wx_bd = (W[zind,xind]-W[zind,xind-1])/dx\n",
      "        else:\n",
      "            ux_bd = (U[zind,xind+1]-U[zind,xind])/dx\n",
      "            wx_bd = (W[zind,xind+1]-W[zind,xind])/dx\n",
      "        uz_bd = 2*(U[zind,xind])/dz\n",
      "        wz_bd = (W[zind,xind]-W[zind-1,xind])/dz\n",
      "        dvtheta_dr_bd.append(find_dvtheta_dr(xx,zz,0,0,ux_bd,uz_bd,wx_bd,wz_bd))\n",
      "        theta_bd.append(np.arctan2(zz,xx)*360.0/(2*np.pi))\n",
      "\n",
      "    srt_ind = np.argsort(theta_bd)\n",
      "    \n",
      "    tsrt = []\n",
      "    dvtdr_srt = []\n",
      "    for ii in srt_ind:\n",
      "        tsrt.append(180-theta_bd[ii])\n",
      "        dvtdr_srt.append(dvtheta_dr_bd[ii])\n",
      "            \n",
      "    tsrt = tsrt[::-1]\n",
      "    dvtdr_srt = dvtdr_srt[::-1]\n",
      "    return tsrt,dvtdr_srt\n",
      "            "
     ],
     "language": "python",
     "metadata": {},
     "outputs": [],
     "prompt_number": 80
    },
    {
     "cell_type": "code",
     "collapsed": false,
     "input": [
      "bd_pts = find_bd_pts(maskNS)\n",
      "\n",
      "plt.imshow(maskNS)\n",
      "for ll in bd_pts:\n",
      "    plt.plot(ll[1],ll[0],'og')\n",
      "plt.xlim((256,280))\n",
      "plt.ylim((490,470))\n",
      "plt.title('Boundary point calculations')\n",
      "plt.show()"
     ],
     "language": "python",
     "metadata": {},
     "outputs": [
      {
       "metadata": {},
       "output_type": "display_data",
       "png": "[encoded data removed]",
       "text": [
        "<matplotlib.figure.Figure at 0x7f74aa7fa650>"
       ]
      }
     ],
     "prompt_number": 81
    },
    {
     "cell_type": "code",
     "collapsed": false,
     "input": [
      "U0NS = np.squeeze(rdmds(dirNS+'U',2000))\n",
      "\n",
      "maskNS = get_mask(U0NS,NxNS,NzNS)\n",
      "bd_ptsNS = find_bd_pts(maskNS)\n",
      "\n",
      "UNS = np.squeeze(rdmds(dirNS+'U',2000))\n",
      "WNS = np.squeeze(rdmds(dirNS+'W',2000))\n",
      "theta_bdNS, dvtheta_dr_bdNS = calc_dvtheta_dr(xNS,zNS,UNS,WNS,R0,NxNS,NzNS,bd_ptsNS)"
     ],
     "language": "python",
     "metadata": {},
     "outputs": [
      {
       "output_type": "stream",
       "stream": "stderr",
       "text": [
        "../../No_Slip_Cylinder/run6/U.0000002000.004.001.meta\n",
        "../../No_Slip_Cylinder/run6/U.0000002000.004.001.meta\n"
       ]
      },
      {
       "output_type": "stream",
       "stream": "stderr",
       "text": [
        "../../No_Slip_Cylinder/run6/W.0000002000.004.001.meta\n"
       ]
      }
     ],
     "prompt_number": 82
    },
    {
     "cell_type": "code",
     "collapsed": false,
     "input": [
      "plt.plot(theta_bdNS,dvtheta_dr_bdNS,'.k')\n",
      "plt.grid()"
     ],
     "language": "python",
     "metadata": {},
     "outputs": [
      {
       "metadata": {},
       "output_type": "display_data",
       "png": "[encoded data removed]",
       "text": [
        "<matplotlib.figure.Figure at 0x7f748535dc50>"
       ]
      }
     ],
     "prompt_number": 83
    },
    {
     "cell_type": "code",
     "collapsed": false,
     "input": [
      "def find_zero(theta_bd,dvtheta_dr_bd):\n",
      "    ''' find_zero\n",
      "    Takes:\n",
      "      theta_bd: 1D array of theta values at boundary\n",
      "      dvtheta_dr_bd: 1D array of derivative at boundary\n",
      "    Returns:\n",
      "      theta_0: the value of theta where the derivative is zero\n",
      "\n",
      "    This function approximately determines where the zero of the derivative at the boundary occurs.\n",
      "    Effectively this finds the separation point.\n",
      "    '''\n",
      "    prev_val = dvtheta_dr_bd[0]\n",
      "    curr_val = -1\n",
      "    theta_0 = np.NaN\n",
      "    for ii in range(1,len(dvtheta_dr_bd)):\n",
      "        curr_val = dvtheta_dr_bd[ii]\n",
      "        if prev_val*curr_val < 0:\n",
      "            print \"Found zero!\"\n",
      "            yi = prev_val\n",
      "            yip1 = curr_val\n",
      "            xi = theta_bd[ii-1]\n",
      "            xip1 = theta_bd[ii]\n",
      "            xz = -yi*((xip1-xi)/(yip1-yi))+xi\n",
      "            theta_0 = xz\n",
      "            break\n",
      "        prev_val = curr_val\n",
      "    return theta_0\n"
     ],
     "language": "python",
     "metadata": {},
     "outputs": [],
     "prompt_number": 84
    },
    {
     "cell_type": "code",
     "collapsed": false,
     "input": [
      "sep_pt = []\n",
      "for jj in range(2000,100001,2000):\n",
      "    UNS = np.squeeze(rdmds(dirNS+'U',jj))\n",
      "    WNS = np.squeeze(rdmds(dirNS+'W',jj))\n",
      "    theta_bdNS, dvtheta_dr_bdNS = calc_dvtheta_dr(xNS,zNS,UNS,WNS,R0,NxNS,NzNS,bd_ptsNS)\n",
      "    sep_pt.append(find_zero(theta_bdNS,dvtheta_dr_bdNS))"
     ],
     "language": "python",
     "metadata": {},
     "outputs": [
      {
       "output_type": "stream",
       "stream": "stderr",
       "text": [
        "../../No_Slip_Cylinder/run6/U.0000002000.004.001.meta\n",
        "../../No_Slip_Cylinder/run6/W.0000002000.004.001.meta\n",
        "../../No_Slip_Cylinder/run6/U.0000004000.006.001.meta\n",
        "../../No_Slip_Cylinder/run6/W.0000004000.008.001.meta\n"
       ]
      },
      {
       "output_type": "stream",
       "stream": "stderr",
       "text": [
        "../../No_Slip_Cylinder/run6/U.0000006000.004.001.meta\n",
        "../../No_Slip_Cylinder/run6/W.0000006000.004.001.meta\n"
       ]
      },
      {
       "output_type": "stream",
       "stream": "stderr",
       "text": [
        "../../No_Slip_Cylinder/run6/U.0000008000.008.001.meta\n",
        "../../No_Slip_Cylinder/run6/W.0000008000.005.001.meta\n"
       ]
      },
      {
       "output_type": "stream",
       "stream": "stdout",
       "text": [
        "Found zero!\n",
        "Found zero!"
       ]
      },
      {
       "output_type": "stream",
       "stream": "stderr",
       "text": [
        "../../No_Slip_Cylinder/run6/U.0000010000.004.001.meta\n",
        "../../No_Slip_Cylinder/run6/W.0000010000.007.001.meta\n"
       ]
      },
      {
       "output_type": "stream",
       "stream": "stdout",
       "text": [
        "\n",
        "Found zero!"
       ]
      },
      {
       "output_type": "stream",
       "stream": "stderr",
       "text": [
        "../../No_Slip_Cylinder/run6/U.0000012000.001.001.meta\n",
        "../../No_Slip_Cylinder/run6/W.0000012000.005.001.meta\n"
       ]
      },
      {
       "output_type": "stream",
       "stream": "stdout",
       "text": [
        "\n",
        "Found zero!"
       ]
      },
      {
       "output_type": "stream",
       "stream": "stderr",
       "text": [
        "../../No_Slip_Cylinder/run6/U.0000014000.001.001.meta\n",
        "../../No_Slip_Cylinder/run6/W.0000014000.005.001.meta\n"
       ]
      },
      {
       "output_type": "stream",
       "stream": "stdout",
       "text": [
        "\n",
        "Found zero!"
       ]
      },
      {
       "output_type": "stream",
       "stream": "stderr",
       "text": [
        "../../No_Slip_Cylinder/run6/U.0000016000.006.001.meta\n",
        "../../No_Slip_Cylinder/run6/W.0000016000.002.001.meta\n"
       ]
      },
      {
       "output_type": "stream",
       "stream": "stdout",
       "text": [
        "\n",
        "Found zero!"
       ]
      },
      {
       "output_type": "stream",
       "stream": "stderr",
       "text": [
        "../../No_Slip_Cylinder/run6/U.0000018000.004.001.meta\n",
        "../../No_Slip_Cylinder/run6/W.0000018000.001.001.meta\n"
       ]
      },
      {
       "output_type": "stream",
       "stream": "stdout",
       "text": [
        "\n",
        "Found zero!"
       ]
      },
      {
       "output_type": "stream",
       "stream": "stderr",
       "text": [
        "../../No_Slip_Cylinder/run6/U.0000020000.006.001.meta\n",
        "../../No_Slip_Cylinder/run6/W.0000020000.001.001.meta\n"
       ]
      },
      {
       "output_type": "stream",
       "stream": "stdout",
       "text": [
        "\n",
        "Found zero!"
       ]
      },
      {
       "output_type": "stream",
       "stream": "stderr",
       "text": [
        "../../No_Slip_Cylinder/run6/U.0000022000.004.001.meta\n",
        "../../No_Slip_Cylinder/run6/W.0000022000.003.001.meta\n"
       ]
      },
      {
       "output_type": "stream",
       "stream": "stdout",
       "text": [
        "\n",
        "Found zero!"
       ]
      },
      {
       "output_type": "stream",
       "stream": "stderr",
       "text": [
        "../../No_Slip_Cylinder/run6/U.0000024000.007.001.meta\n",
        "../../No_Slip_Cylinder/run6/W.0000024000.008.001.meta\n"
       ]
      },
      {
       "output_type": "stream",
       "stream": "stdout",
       "text": [
        "\n",
        "Found zero!"
       ]
      },
      {
       "output_type": "stream",
       "stream": "stderr",
       "text": [
        "../../No_Slip_Cylinder/run6/U.0000026000.002.001.meta\n",
        "../../No_Slip_Cylinder/run6/W.0000026000.004.001.meta\n"
       ]
      },
      {
       "output_type": "stream",
       "stream": "stdout",
       "text": [
        "\n",
        "Found zero!"
       ]
      },
      {
       "output_type": "stream",
       "stream": "stderr",
       "text": [
        "../../No_Slip_Cylinder/run6/U.0000028000.004.001.meta\n",
        "../../No_Slip_Cylinder/run6/W.0000028000.008.001.meta\n"
       ]
      },
      {
       "output_type": "stream",
       "stream": "stdout",
       "text": [
        "\n",
        "Found zero!"
       ]
      },
      {
       "output_type": "stream",
       "stream": "stderr",
       "text": [
        "../../No_Slip_Cylinder/run6/U.0000030000.003.001.meta\n",
        "../../No_Slip_Cylinder/run6/W.0000030000.008.001.meta\n"
       ]
      },
      {
       "output_type": "stream",
       "stream": "stdout",
       "text": [
        "\n",
        "Found zero!"
       ]
      },
      {
       "output_type": "stream",
       "stream": "stderr",
       "text": [
        "../../No_Slip_Cylinder/run6/U.0000032000.003.001.meta\n",
        "../../No_Slip_Cylinder/run6/W.0000032000.008.001.meta\n"
       ]
      },
      {
       "output_type": "stream",
       "stream": "stdout",
       "text": [
        "\n",
        "Found zero!"
       ]
      },
      {
       "output_type": "stream",
       "stream": "stderr",
       "text": [
        "../../No_Slip_Cylinder/run6/U.0000034000.008.001.meta\n",
        "../../No_Slip_Cylinder/run6/W.0000034000.005.001.meta\n"
       ]
      },
      {
       "output_type": "stream",
       "stream": "stdout",
       "text": [
        "\n",
        "Found zero!"
       ]
      },
      {
       "output_type": "stream",
       "stream": "stderr",
       "text": [
        "../../No_Slip_Cylinder/run6/U.0000036000.005.001.meta\n",
        "../../No_Slip_Cylinder/run6/W.0000036000.007.001.meta\n"
       ]
      },
      {
       "output_type": "stream",
       "stream": "stdout",
       "text": [
        "\n",
        "Found zero!"
       ]
      },
      {
       "output_type": "stream",
       "stream": "stderr",
       "text": [
        "../../No_Slip_Cylinder/run6/U.0000038000.005.001.meta\n",
        "../../No_Slip_Cylinder/run6/W.0000038000.008.001.meta\n"
       ]
      },
      {
       "output_type": "stream",
       "stream": "stdout",
       "text": [
        "\n",
        "Found zero!"
       ]
      },
      {
       "output_type": "stream",
       "stream": "stderr",
       "text": [
        "../../No_Slip_Cylinder/run6/U.0000040000.005.001.meta\n",
        "../../No_Slip_Cylinder/run6/W.0000040000.007.001.meta\n"
       ]
      },
      {
       "output_type": "stream",
       "stream": "stdout",
       "text": [
        "\n",
        "Found zero!"
       ]
      },
      {
       "output_type": "stream",
       "stream": "stderr",
       "text": [
        "../../No_Slip_Cylinder/run6/U.0000042000.005.001.meta\n",
        "../../No_Slip_Cylinder/run6/W.0000042000.003.001.meta\n"
       ]
      },
      {
       "output_type": "stream",
       "stream": "stdout",
       "text": [
        "\n",
        "Found zero!"
       ]
      },
      {
       "output_type": "stream",
       "stream": "stderr",
       "text": [
        "../../No_Slip_Cylinder/run6/U.0000044000.004.001.meta\n",
        "../../No_Slip_Cylinder/run6/W.0000044000.001.001.meta\n"
       ]
      },
      {
       "output_type": "stream",
       "stream": "stdout",
       "text": [
        "\n",
        "Found zero!"
       ]
      },
      {
       "output_type": "stream",
       "stream": "stderr",
       "text": [
        "../../No_Slip_Cylinder/run6/U.0000046000.005.001.meta\n",
        "../../No_Slip_Cylinder/run6/W.0000046000.008.001.meta\n"
       ]
      },
      {
       "output_type": "stream",
       "stream": "stdout",
       "text": [
        "\n",
        "Found zero!"
       ]
      },
      {
       "output_type": "stream",
       "stream": "stderr",
       "text": [
        "../../No_Slip_Cylinder/run6/U.0000048000.004.001.meta\n",
        "../../No_Slip_Cylinder/run6/W.0000048000.001.001.meta\n"
       ]
      },
      {
       "output_type": "stream",
       "stream": "stdout",
       "text": [
        "\n",
        "Found zero!"
       ]
      },
      {
       "output_type": "stream",
       "stream": "stderr",
       "text": [
        "../../No_Slip_Cylinder/run6/U.0000050000.006.001.meta\n",
        "../../No_Slip_Cylinder/run6/W.0000050000.003.001.meta\n"
       ]
      },
      {
       "output_type": "stream",
       "stream": "stdout",
       "text": [
        "\n",
        "Found zero!"
       ]
      },
      {
       "output_type": "stream",
       "stream": "stdout",
       "text": [
        "\n",
        "Found zero!"
       ]
      },
      {
       "output_type": "stream",
       "stream": "stderr",
       "text": [
        "../../No_Slip_Cylinder/run6/U.0000052000.004.001.meta\n",
        "../../No_Slip_Cylinder/run6/W.0000052000.001.001.meta\n",
        "../../No_Slip_Cylinder/run6/U.0000054000.007.001.meta\n"
       ]
      },
      {
       "output_type": "stream",
       "stream": "stdout",
       "text": [
        "\n",
        "Found zero!"
       ]
      },
      {
       "output_type": "stream",
       "stream": "stderr",
       "text": [
        "../../No_Slip_Cylinder/run6/W.0000054000.007.001.meta\n",
        "../../No_Slip_Cylinder/run6/U.0000056000.007.001.meta\n"
       ]
      },
      {
       "output_type": "stream",
       "stream": "stdout",
       "text": [
        "\n",
        "Found zero!"
       ]
      },
      {
       "output_type": "stream",
       "stream": "stderr",
       "text": [
        "../../No_Slip_Cylinder/run6/W.0000056000.005.001.meta\n",
        "../../No_Slip_Cylinder/run6/U.0000058000.007.001.meta\n"
       ]
      },
      {
       "output_type": "stream",
       "stream": "stdout",
       "text": [
        "\n",
        "Found zero!"
       ]
      },
      {
       "output_type": "stream",
       "stream": "stdout",
       "text": [
        "\n"
       ]
      },
      {
       "output_type": "stream",
       "stream": "stderr",
       "text": [
        "../../No_Slip_Cylinder/run6/W.0000058000.006.001.meta\n"
       ]
      },
      {
       "ename": "IOError",
       "evalue": "No files found for ../../No_Slip_Cylinder/run6/U.0000060000.meta",
       "output_type": "pyerr",
       "traceback": [
        "\u001b[1;31m---------------------------------------------------------------------------\u001b[0m\n\u001b[1;31mIOError\u001b[0m                                   Traceback (most recent call last)",
        "\u001b[1;32m<ipython-input-85-f205e28fe96e>\u001b[0m in \u001b[0;36m<module>\u001b[1;34m()\u001b[0m\n\u001b[0;32m      1\u001b[0m \u001b[0msep_pt\u001b[0m \u001b[1;33m=\u001b[0m \u001b[1;33m[\u001b[0m\u001b[1;33m]\u001b[0m\u001b[1;33m\u001b[0m\u001b[0m\n\u001b[0;32m      2\u001b[0m \u001b[1;32mfor\u001b[0m \u001b[0mjj\u001b[0m \u001b[1;32min\u001b[0m \u001b[0mrange\u001b[0m\u001b[1;33m(\u001b[0m\u001b[1;36m2000\u001b[0m\u001b[1;33m,\u001b[0m\u001b[1;36m100001\u001b[0m\u001b[1;33m,\u001b[0m\u001b[1;36m2000\u001b[0m\u001b[1;33m)\u001b[0m\u001b[1;33m:\u001b[0m\u001b[1;33m\u001b[0m\u001b[0m\n\u001b[1;32m----> 3\u001b[1;33m     \u001b[0mUNS\u001b[0m \u001b[1;33m=\u001b[0m \u001b[0mnp\u001b[0m\u001b[1;33m.\u001b[0m\u001b[0msqueeze\u001b[0m\u001b[1;33m(\u001b[0m\u001b[0mrdmds\u001b[0m\u001b[1;33m(\u001b[0m\u001b[0mdirNS\u001b[0m\u001b[1;33m+\u001b[0m\u001b[1;34m'U'\u001b[0m\u001b[1;33m,\u001b[0m\u001b[0mjj\u001b[0m\u001b[1;33m)\u001b[0m\u001b[1;33m)\u001b[0m\u001b[1;33m\u001b[0m\u001b[0m\n\u001b[0m\u001b[0;32m      4\u001b[0m     \u001b[0mWNS\u001b[0m \u001b[1;33m=\u001b[0m \u001b[0mnp\u001b[0m\u001b[1;33m.\u001b[0m\u001b[0msqueeze\u001b[0m\u001b[1;33m(\u001b[0m\u001b[0mrdmds\u001b[0m\u001b[1;33m(\u001b[0m\u001b[0mdirNS\u001b[0m\u001b[1;33m+\u001b[0m\u001b[1;34m'W'\u001b[0m\u001b[1;33m,\u001b[0m\u001b[0mjj\u001b[0m\u001b[1;33m)\u001b[0m\u001b[1;33m)\u001b[0m\u001b[1;33m\u001b[0m\u001b[0m\n\u001b[0;32m      5\u001b[0m     \u001b[0mtheta_bdNS\u001b[0m\u001b[1;33m,\u001b[0m \u001b[0mdvtheta_dr_bdNS\u001b[0m \u001b[1;33m=\u001b[0m \u001b[0mcalc_dvtheta_dr\u001b[0m\u001b[1;33m(\u001b[0m\u001b[0mxNS\u001b[0m\u001b[1;33m,\u001b[0m\u001b[0mzNS\u001b[0m\u001b[1;33m,\u001b[0m\u001b[0mUNS\u001b[0m\u001b[1;33m,\u001b[0m\u001b[0mWNS\u001b[0m\u001b[1;33m,\u001b[0m\u001b[0mR0\u001b[0m\u001b[1;33m,\u001b[0m\u001b[0mNxNS\u001b[0m\u001b[1;33m,\u001b[0m\u001b[0mNzNS\u001b[0m\u001b[1;33m,\u001b[0m\u001b[0mbd_ptsNS\u001b[0m\u001b[1;33m)\u001b[0m\u001b[1;33m\u001b[0m\u001b[0m\n",
        "\u001b[1;32m/home/rirwin/anaconda/lib/python2.7/site-packages/MITgcmutils-0.1.0-py2.7.egg/MITgcmutils/mds.pyc\u001b[0m in \u001b[0;36mrdmds\u001b[1;34m(fnamearg, itrs, machineformat, rec, fill_value, returnmeta, astype, region, lev, usememmap, mm, squeeze)\u001b[0m\n\u001b[0;32m    328\u001b[0m         \u001b[0mmetafiles\u001b[0m \u001b[1;33m=\u001b[0m \u001b[0mglob\u001b[0m\u001b[1;33m.\u001b[0m\u001b[0mglob\u001b[0m\u001b[1;33m(\u001b[0m\u001b[0mfname\u001b[0m \u001b[1;33m+\u001b[0m \u001b[1;36m2\u001b[0m\u001b[1;33m*\u001b[0m\u001b[1;33m(\u001b[0m\u001b[1;34m'.'\u001b[0m\u001b[1;33m+\u001b[0m\u001b[1;36m3\u001b[0m\u001b[1;33m*\u001b[0m\u001b[1;34m'[0-9]'\u001b[0m\u001b[1;33m)\u001b[0m \u001b[1;33m+\u001b[0m \u001b[1;34m'.meta'\u001b[0m\u001b[1;33m)\u001b[0m \u001b[1;32mor\u001b[0m \u001b[0mglob\u001b[0m\u001b[1;33m.\u001b[0m\u001b[0mglob\u001b[0m\u001b[1;33m(\u001b[0m\u001b[0mfname\u001b[0m\u001b[1;33m+\u001b[0m\u001b[1;34m'.meta'\u001b[0m\u001b[1;33m)\u001b[0m\u001b[1;33m\u001b[0m\u001b[0m\n\u001b[0;32m    329\u001b[0m         \u001b[1;32mif\u001b[0m \u001b[0mlen\u001b[0m\u001b[1;33m(\u001b[0m\u001b[0mmetafiles\u001b[0m\u001b[1;33m)\u001b[0m \u001b[1;33m==\u001b[0m \u001b[1;36m0\u001b[0m\u001b[1;33m:\u001b[0m\u001b[1;33m\u001b[0m\u001b[0m\n\u001b[1;32m--> 330\u001b[1;33m             \u001b[1;32mraise\u001b[0m \u001b[0mIOError\u001b[0m\u001b[1;33m(\u001b[0m\u001b[1;34m'No files found for '\u001b[0m \u001b[1;33m+\u001b[0m \u001b[0mfname\u001b[0m \u001b[1;33m+\u001b[0m \u001b[1;34m'.meta'\u001b[0m\u001b[1;33m)\u001b[0m\u001b[1;33m\u001b[0m\u001b[0m\n\u001b[0m\u001b[0;32m    331\u001b[0m \u001b[1;33m\u001b[0m\u001b[0m\n\u001b[0;32m    332\u001b[0m         \u001b[0mwarning\u001b[0m\u001b[1;33m(\u001b[0m\u001b[0mmetafiles\u001b[0m\u001b[1;33m[\u001b[0m\u001b[1;36m0\u001b[0m\u001b[1;33m]\u001b[0m\u001b[1;33m)\u001b[0m\u001b[1;33m\u001b[0m\u001b[0m\n",
        "\u001b[1;31mIOError\u001b[0m: No files found for ../../No_Slip_Cylinder/run6/U.0000060000.meta"
       ]
      }
     ],
     "prompt_number": 85
    },
    {
     "cell_type": "code",
     "collapsed": false,
     "input": [
      "t=np.linspace(1,len(sep_pt),len(sep_pt))/(np.pi*0.025/0.01)\n",
      "plt.plot(sep_pt,t,'ok',label='MITgcm')\n",
      "plt.plot(108+0*t,t,'--k',label='theory')\n",
      "plt.plot(sep_pt,0.35+0*t,'-.k',label='t_s')\n",
      "plt.grid()\n",
      "plt.ylabel('t/(L/U)')\n",
      "plt.xlabel('Separation point')\n",
      "#plt.ylim((0,3.5))\n",
      "plt.xlim((105,180))\n",
      "plt.legend()\n",
      "plt.show()"
     ],
     "language": "python",
     "metadata": {},
     "outputs": [
      {
       "metadata": {},
       "output_type": "display_data",
       "png": "[encoded data removed]",
       "text": [
        "<matplotlib.figure.Figure at 0x7f7485418ed0>"
       ]
      }
     ],
     "prompt_number": 86
    },
    {
     "cell_type": "code",
     "collapsed": false,
     "input": [
      "UNS = np.squeeze(rdmds(dirNS+'U',52000))\n",
      "WNS = np.squeeze(rdmds(dirNS+'W',52000))\n",
      "vortNS = np.hstack((np.diff(WNS,axis=1),np.zeros((NxNS,1))))-np.vstack((np.diff(UNS,axis=0),np.zeros((1,NzNS))))\n",
      "\n",
      "plt.contour(xNS,zNS,vortNS,100)\n",
      "#plt.xlim((-0.05,0.2))\n",
      "#plt.ylim((0,0.15))\n",
      "plt.clim((-0.002,0.002))\n",
      "plt.colorbar()"
     ],
     "language": "python",
     "metadata": {},
     "outputs": [
      {
       "output_type": "stream",
       "stream": "stderr",
       "text": [
        "../../No_Slip_Cylinder/run6/U.0000052000.004.001.meta\n",
        "../../No_Slip_Cylinder/run6/W.0000052000.001.001.meta\n"
       ]
      },
      {
       "metadata": {},
       "output_type": "pyout",
       "prompt_number": 87,
       "text": [
        "<matplotlib.colorbar.Colorbar instance at 0x7f74855beab8>"
       ]
      },
      {
       "metadata": {},
       "output_type": "display_data",
       "png": "[encoded data removed]",
       "text": [
        "<matplotlib.figure.Figure at 0x7f748535dc50>"
       ]
      }
     ],
     "prompt_number": 87
    },
    {
     "cell_type": "code",
     "collapsed": false,
     "input": [
      "UFS = np.squeeze(rdmds(dirFS+'U',52000))\n",
      "WFS = np.squeeze(rdmds(dirFS+'W',52000))\n",
      "vortFS = np.hstack((np.diff(WFS,axis=1),np.zeros((NxFS,1))))-np.vstack((np.diff(UFS,axis=0),np.zeros((1,NzFS))))\n",
      "\n",
      "plt.contour(xFS,zFS,vortFS,100)\n",
      "plt.xlim((-0.05,0.15))\n",
      "plt.ylim((0,0.15))"
     ],
     "language": "python",
     "metadata": {},
     "outputs": [
      {
       "output_type": "stream",
       "stream": "stderr",
       "text": [
        "../../Free_Slip_Cylinder/run4/U.0000052000.001.001.meta\n",
        "../../Free_Slip_Cylinder/run4/W.0000052000.001.001.meta\n"
       ]
      },
      {
       "metadata": {},
       "output_type": "pyout",
       "prompt_number": 88,
       "text": [
        "(0, 0.15)"
       ]
      },
      {
       "metadata": {},
       "output_type": "display_data",
       "png": "[encoded data removed]",
       "text": [
        "<matplotlib.figure.Figure at 0x7f7485a67a50>"
       ]
      }
     ],
     "prompt_number": 88
    },
    {
     "cell_type": "code",
     "collapsed": false,
     "input": [
      "!pwd"
     ],
     "language": "python",
     "metadata": {},
     "outputs": [
      {
       "output_type": "stream",
       "stream": "stdout",
       "text": [
        "/ocean/rirwin/Half_Cylinder_MITgcm/Notebooks/half_cylinder_notebooks\r\n"
       ]
      }
     ],
     "prompt_number": 71
    },
    {
     "cell_type": "code",
     "collapsed": false,
     "input": [],
     "language": "python",
     "metadata": {},
     "outputs": []
    }
   ],
   "metadata": {}
  }
 ]
}